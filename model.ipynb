{
 "cells": [
  {
   "cell_type": "code",
   "execution_count": 1,
   "metadata": {},
   "outputs": [],
   "source": [
    "import re\n",
    "from notebook import TFIDF, MultinomialNB, chi_square, SMOTE, split_data, accuracy_score\n",
    "from linggapy import Stemmer\n",
    "\n",
    "from sklearn.metrics import classification_report\n",
    "import pandas as pd\n",
    "import numpy as np"
   ]
  },
  {
   "cell_type": "code",
   "execution_count": 2,
   "metadata": {},
   "outputs": [],
   "source": [
    "np.random.seed(42)"
   ]
  },
  {
   "cell_type": "markdown",
   "metadata": {},
   "source": [
    "## Data Collection"
   ]
  },
  {
   "cell_type": "code",
   "execution_count": 3,
   "metadata": {},
   "outputs": [],
   "source": [
    "sheet_id_list = [\n",
    "    \"1Spn8g26B1oiTdAIQpf7VTptBMS50oVesE-f4QwaGCuw\",  # p1\n",
    "    \"1dCSj3772FI7B6i1ioD1Nq5w6siZuAj1p7i4FizHTqcY\",  # p2\n",
    "    \"1a66EfiTsLL8qO3KQ9ahgAuj-w5dfj2_rFS5v5Yyg84g\",  # p3\n",
    "    \"1nyOotMZx_nVPaRPqpsDpeIfo0RGQu3rueBDLcsxbmYY\",  # p4\n",
    "]\n",
    "dataframes = []\n",
    "\n",
    "for sheet_id in sheet_id_list:\n",
    "    url = f\"https://docs.google.com/spreadsheets/d/{sheet_id}/export?gid=0&format=xlsx\"\n",
    "    dataframes.append(pd.read_excel(url, \"Sheet1\", usecols=[1, 2]))\n",
    "\n",
    "df = pd.concat(dataframes, ignore_index=True)"
   ]
  },
  {
   "cell_type": "code",
   "execution_count": 4,
   "metadata": {},
   "outputs": [
    {
     "data": {
      "text/html": [
       "<div>\n",
       "<style scoped>\n",
       "    .dataframe tbody tr th:only-of-type {\n",
       "        vertical-align: middle;\n",
       "    }\n",
       "\n",
       "    .dataframe tbody tr th {\n",
       "        vertical-align: top;\n",
       "    }\n",
       "\n",
       "    .dataframe thead th {\n",
       "        text-align: right;\n",
       "    }\n",
       "</style>\n",
       "<table border=\"1\" class=\"dataframe\">\n",
       "  <thead>\n",
       "    <tr style=\"text-align: right;\">\n",
       "      <th></th>\n",
       "      <th>Teks Postingan / Comment</th>\n",
       "      <th>Tingkatan Bahasa/Sor Singgih</th>\n",
       "    </tr>\n",
       "  </thead>\n",
       "  <tbody>\n",
       "    <tr>\n",
       "      <th>0</th>\n",
       "      <td>@gnyrs Kalau kantor Gubernurnya mimin nenten t...</td>\n",
       "      <td>Alus Madia</td>\n",
       "    </tr>\n",
       "    <tr>\n",
       "      <th>1</th>\n",
       "      <td>@mangabdiii munyi gen wi besik ne</td>\n",
       "      <td>Basa Andap</td>\n",
       "    </tr>\n",
       "    <tr>\n",
       "      <th>2</th>\n",
       "      <td>Yen di desan nyama patuh masih nyambat \"pang j...</td>\n",
       "      <td>Basa Andap</td>\n",
       "    </tr>\n",
       "    <tr>\n",
       "      <th>3</th>\n",
       "      <td>@mangpink84 Nggih pateh taler nganggen ra repa 🙏</td>\n",
       "      <td>Alus Mider</td>\n",
       "    </tr>\n",
       "    <tr>\n",
       "      <th>4</th>\n",
       "      <td>Om swastiastu, nyama sareng sami 🙏🏻\\n Kenken k...</td>\n",
       "      <td>NaN</td>\n",
       "    </tr>\n",
       "    <tr>\n",
       "      <th>...</th>\n",
       "      <td>...</td>\n",
       "      <td>...</td>\n",
       "    </tr>\n",
       "    <tr>\n",
       "      <th>1353</th>\n",
       "      <td>1. Kalimat alus singgih memiliki rasa bahasa y...</td>\n",
       "      <td>NaN</td>\n",
       "    </tr>\n",
       "    <tr>\n",
       "      <th>1354</th>\n",
       "      <td>2. Kalimat alus sor merupakan kalimat yang ras...</td>\n",
       "      <td>NaN</td>\n",
       "    </tr>\n",
       "    <tr>\n",
       "      <th>1355</th>\n",
       "      <td>3. Kalimat alus madia merupakan kalimat yang m...</td>\n",
       "      <td>NaN</td>\n",
       "    </tr>\n",
       "    <tr>\n",
       "      <th>1356</th>\n",
       "      <td>4. Kalimat alus mider merupakan kalimat yang r...</td>\n",
       "      <td>NaN</td>\n",
       "    </tr>\n",
       "    <tr>\n",
       "      <th>1357</th>\n",
       "      <td>5. Kalimat basa andap merupakan rasa bahasanya...</td>\n",
       "      <td>NaN</td>\n",
       "    </tr>\n",
       "  </tbody>\n",
       "</table>\n",
       "<p>1358 rows × 2 columns</p>\n",
       "</div>"
      ],
      "text/plain": [
       "                               Teks Postingan / Comment  \\\n",
       "0     @gnyrs Kalau kantor Gubernurnya mimin nenten t...   \n",
       "1                     @mangabdiii munyi gen wi besik ne   \n",
       "2     Yen di desan nyama patuh masih nyambat \"pang j...   \n",
       "3      @mangpink84 Nggih pateh taler nganggen ra repa 🙏   \n",
       "4     Om swastiastu, nyama sareng sami 🙏🏻\\n Kenken k...   \n",
       "...                                                 ...   \n",
       "1353  1. Kalimat alus singgih memiliki rasa bahasa y...   \n",
       "1354  2. Kalimat alus sor merupakan kalimat yang ras...   \n",
       "1355  3. Kalimat alus madia merupakan kalimat yang m...   \n",
       "1356  4. Kalimat alus mider merupakan kalimat yang r...   \n",
       "1357  5. Kalimat basa andap merupakan rasa bahasanya...   \n",
       "\n",
       "     Tingkatan Bahasa/Sor Singgih  \n",
       "0                      Alus Madia  \n",
       "1                      Basa Andap  \n",
       "2                      Basa Andap  \n",
       "3                      Alus Mider  \n",
       "4                             NaN  \n",
       "...                           ...  \n",
       "1353                          NaN  \n",
       "1354                          NaN  \n",
       "1355                          NaN  \n",
       "1356                          NaN  \n",
       "1357                          NaN  \n",
       "\n",
       "[1358 rows x 2 columns]"
      ]
     },
     "execution_count": 4,
     "metadata": {},
     "output_type": "execute_result"
    }
   ],
   "source": [
    "df"
   ]
  },
  {
   "cell_type": "markdown",
   "metadata": {},
   "source": [
    "## Data Preprocessing"
   ]
  },
  {
   "cell_type": "code",
   "execution_count": 5,
   "metadata": {},
   "outputs": [
    {
     "name": "stdout",
     "output_type": "stream",
     "text": [
      "<class 'pandas.core.frame.DataFrame'>\n",
      "RangeIndex: 1358 entries, 0 to 1357\n",
      "Data columns (total 2 columns):\n",
      " #   Column                        Non-Null Count  Dtype \n",
      "---  ------                        --------------  ----- \n",
      " 0   Teks Postingan / Comment      1357 non-null   object\n",
      " 1   Tingkatan Bahasa/Sor Singgih  1340 non-null   object\n",
      "dtypes: object(2)\n",
      "memory usage: 21.3+ KB\n"
     ]
    }
   ],
   "source": [
    "df.info()"
   ]
  },
  {
   "cell_type": "code",
   "execution_count": 6,
   "metadata": {},
   "outputs": [],
   "source": [
    "df = df.dropna()"
   ]
  },
  {
   "cell_type": "code",
   "execution_count": 7,
   "metadata": {},
   "outputs": [],
   "source": [
    "df = df.rename(columns={\"Teks Postingan / Comment\": \"text\", \"Tingkatan Bahasa/Sor Singgih\": \"label\"})"
   ]
  },
  {
   "cell_type": "code",
   "execution_count": 8,
   "metadata": {},
   "outputs": [
    {
     "data": {
      "text/plain": [
       "['Basa Andap',\n",
       " 'Alus Mider',\n",
       " 'Alus Singgih',\n",
       " 'Alus Madia',\n",
       " 'alus mider',\n",
       " 'Alus Sor',\n",
       " 'basa andap',\n",
       " 'alus madia',\n",
       " 'Basa Andap ',\n",
       " 'Alus Mider ',\n",
       " 'Alus Madya',\n",
       " 'Basa Kasar',\n",
       " 'Basa Kamus',\n",
       " 'Basa Indonesia',\n",
       " 'Kruna Mider',\n",
       " '-',\n",
       " 'Alus mider',\n",
       " 'basa kasar',\n",
       " 'basa madia',\n",
       " 'Alus sor',\n",
       " 'alus sor',\n",
       " 'Bas Andap',\n",
       " 'Campur Kode',\n",
       " 'alus singgih ',\n",
       " 'Akus Madia',\n",
       " 'pakeh: andap, jinah:alus mider, pragina: basa mider, kraras: mider, biang:alus singgih, peken: andap, godel: mider.',\n",
       " 'Suksma bli. Tiang demen ajak konten² basa Bali Alus bli ne😁: Basa Andap, ohh.... Nggih Rahajeng Rahina Pagerwesi bli, Dumogi Rahayu sareng sami 🙏🏻🙏🏻: Alus Madia',\n",
       " 'Alis Singgih',\n",
       " 'Alus singgih',\n",
       " 'Alis Sor',\n",
       " 'Bahasa Pengantar : Alus Singgih. Bahasa isi satua : Basa Andap',\n",
       " 'Alus Andap',\n",
       " 'Mider',\n",
       " 'Basa Kasar Jabag',\n",
       " 'Basa',\n",
       " 'Imba Basa Alus',\n",
       " 'Alus Singggih, Basa Kasar, Basa Andap, Alus Madya, Alus Sor, Alus Singgih',\n",
       " 'Basa Alus Mider',\n",
       " 'Basa Sunda',\n",
       " 'Basa Madia',\n",
       " 'Alus Singih',\n",
       " 'Alus SInggih',\n",
       " 'Basa Mider',\n",
       " 'Bassa Andap',\n",
       " 'alus singgih',\n",
       " 'Basa Andap, Alus Madya',\n",
       " 'Kruna Aran',\n",
       " 'alus madia ',\n",
       " 'basa mider',\n",
       " 'alus mider ',\n",
       " 'bahasa indonesia']"
      ]
     },
     "execution_count": 8,
     "metadata": {},
     "output_type": "execute_result"
    }
   ],
   "source": [
    "df['label'].value_counts().index.tolist()"
   ]
  },
  {
   "cell_type": "code",
   "execution_count": 9,
   "metadata": {},
   "outputs": [],
   "source": [
    "label_mapping = {\n",
    "    \"Basa Andap\": \"basa andap\",\n",
    "    \"Alus Mider\": \"alus mider\",\n",
    "    \"Alus Singgih\": \"alus singgih\",\n",
    "    \"Alus Madia\": \"alus madia\",\n",
    "    \"alus mider\": \"alus mider\",\n",
    "    \"Alus Sor\": \"alus sor\",\n",
    "    \"basa andap\": \"basa andap\",\n",
    "    \"alus madia\": \"alus madia\",\n",
    "    \"Basa Andap \": \"basa andap\",\n",
    "    \"Alus Mider \": \"alus mider\",\n",
    "    \"Alus Madya\": \"alus madia\",\n",
    "    \"Basa Kasar\": \"basa kasar\",\n",
    "    \"Kruna Mider\": \"alus mider\",\n",
    "    \"Alus mider\": \"alus mider\",\n",
    "    \"basa kasar\": \"basa kasar\",\n",
    "    \"basa madia\": \"alus madia\",\n",
    "    \"Alus sor\": \"alus sor\",\n",
    "    \"alus sor\": \"alus sor\",\n",
    "    \"Bas Andap\": \"basa andap\",\n",
    "    \"alus singgih \": \"alus singgih\",\n",
    "    \"Akus Madia\": \"alus madia\",\n",
    "    \"Alis Singgih\": \"alus singgih\",\n",
    "    \"Alus singgih\": \"alus singgih\",\n",
    "    \"Alis Sor\": \"alus sor\",\n",
    "    \"Alus Andap\": \"basa andap\",\n",
    "    \"Mider\": \"alus mider\",\n",
    "    \"Basa Kasar Jabag\": \"basa kasar\",\n",
    "    \"Basa Alus Mider\": \"alus mider\",\n",
    "    \"Basa Madia\": \"alus madia\",\n",
    "    \"Alus Singih\": \"alus singgih\",\n",
    "    \"Alus SInggih\": \"alus singgih\",\n",
    "    \"Basa Mider\": \"alus mider\",\n",
    "    \"Bassa Andap\": \"basa andap\",\n",
    "    \"alus singgih\": \"alus singgih\",\n",
    "    \"alus madia \": \"alus madia\",\n",
    "    \"basa mider\": \"alus mider\",\n",
    "    \"alus mider \": \"alus mider\",\n",
    "}"
   ]
  },
  {
   "cell_type": "code",
   "execution_count": 10,
   "metadata": {},
   "outputs": [
    {
     "data": {
      "text/plain": [
       "label\n",
       "basa andap      549\n",
       "alus mider      326\n",
       "alus madia      181\n",
       "alus singgih    174\n",
       "alus sor         72\n",
       "basa kasar       12\n",
       "Name: count, dtype: int64"
      ]
     },
     "execution_count": 10,
     "metadata": {},
     "output_type": "execute_result"
    }
   ],
   "source": [
    "df['label'] = df['label'].map(label_mapping)\n",
    "df['label'].value_counts()"
   ]
  },
  {
   "cell_type": "code",
   "execution_count": 11,
   "metadata": {},
   "outputs": [
    {
     "data": {
      "text/plain": [
       "label\n",
       "basa andap      40.970149\n",
       "alus mider      24.328358\n",
       "alus madia      13.507463\n",
       "alus singgih    12.985075\n",
       "alus sor         5.373134\n",
       "basa kasar       0.895522\n",
       "Name: count, dtype: float64"
      ]
     },
     "execution_count": 11,
     "metadata": {},
     "output_type": "execute_result"
    }
   ],
   "source": [
    "df['label'].value_counts() * 100 / len(df)"
   ]
  },
  {
   "cell_type": "code",
   "execution_count": 12,
   "metadata": {},
   "outputs": [],
   "source": [
    "label_to_idx = {\n",
    "    \"alus singgih\": 0,\n",
    "    \"alus sor\": 1,\n",
    "    \"alus mider\": 2,\n",
    "    \"alus madia\": 3,\n",
    "    \"basa andap\": 4,\n",
    "    \"basa kasar\": 5,\n",
    "}\n",
    "idx_to_label = {v: k for k, v in label_to_idx.items()}"
   ]
  },
  {
   "cell_type": "code",
   "execution_count": 13,
   "metadata": {},
   "outputs": [],
   "source": [
    "df[\"label\"] = df[\"label\"].map(\n",
    "    label_to_idx\n",
    ")"
   ]
  },
  {
   "cell_type": "code",
   "execution_count": 14,
   "metadata": {},
   "outputs": [
    {
     "data": {
      "text/html": [
       "<div>\n",
       "<style scoped>\n",
       "    .dataframe tbody tr th:only-of-type {\n",
       "        vertical-align: middle;\n",
       "    }\n",
       "\n",
       "    .dataframe tbody tr th {\n",
       "        vertical-align: top;\n",
       "    }\n",
       "\n",
       "    .dataframe thead th {\n",
       "        text-align: right;\n",
       "    }\n",
       "</style>\n",
       "<table border=\"1\" class=\"dataframe\">\n",
       "  <thead>\n",
       "    <tr style=\"text-align: right;\">\n",
       "      <th></th>\n",
       "      <th>text</th>\n",
       "      <th>label</th>\n",
       "    </tr>\n",
       "  </thead>\n",
       "  <tbody>\n",
       "    <tr>\n",
       "      <th>0</th>\n",
       "      <td>@gnyrs Kalau kantor Gubernurnya mimin nenten t...</td>\n",
       "      <td>3.0</td>\n",
       "    </tr>\n",
       "    <tr>\n",
       "      <th>1</th>\n",
       "      <td>@mangabdiii munyi gen wi besik ne</td>\n",
       "      <td>4.0</td>\n",
       "    </tr>\n",
       "    <tr>\n",
       "      <th>2</th>\n",
       "      <td>Yen di desan nyama patuh masih nyambat \"pang j...</td>\n",
       "      <td>4.0</td>\n",
       "    </tr>\n",
       "    <tr>\n",
       "      <th>3</th>\n",
       "      <td>@mangpink84 Nggih pateh taler nganggen ra repa 🙏</td>\n",
       "      <td>2.0</td>\n",
       "    </tr>\n",
       "    <tr>\n",
       "      <th>5</th>\n",
       "      <td>Rahajeng semenng 🙏\\n \\n #basabali #basabaline ...</td>\n",
       "      <td>2.0</td>\n",
       "    </tr>\n",
       "    <tr>\n",
       "      <th>...</th>\n",
       "      <td>...</td>\n",
       "      <td>...</td>\n",
       "    </tr>\n",
       "    <tr>\n",
       "      <th>1345</th>\n",
       "      <td>Buatin kakak nama komang dimas merta sedana</td>\n",
       "      <td>NaN</td>\n",
       "    </tr>\n",
       "    <tr>\n",
       "      <th>1346</th>\n",
       "      <td>Ngiring mlajah angka Bali, durusang ketik jawa...</td>\n",
       "      <td>3.0</td>\n",
       "    </tr>\n",
       "    <tr>\n",
       "      <th>1347</th>\n",
       "      <td>Becik pisan Baligrafi puniki 😍😍\\n #Repost @rai...</td>\n",
       "      <td>2.0</td>\n",
       "    </tr>\n",
       "    <tr>\n",
       "      <th>1348</th>\n",
       "      <td>#Repost @mlajahbasabali\\n • • • • • •\\n Ngirin...</td>\n",
       "      <td>2.0</td>\n",
       "    </tr>\n",
       "    <tr>\n",
       "      <th>1349</th>\n",
       "      <td>Ngiring Malajah Aksara Bali\\n \\n #Repost @peny...</td>\n",
       "      <td>2.0</td>\n",
       "    </tr>\n",
       "  </tbody>\n",
       "</table>\n",
       "<p>1340 rows × 2 columns</p>\n",
       "</div>"
      ],
      "text/plain": [
       "                                                   text  label\n",
       "0     @gnyrs Kalau kantor Gubernurnya mimin nenten t...    3.0\n",
       "1                     @mangabdiii munyi gen wi besik ne    4.0\n",
       "2     Yen di desan nyama patuh masih nyambat \"pang j...    4.0\n",
       "3      @mangpink84 Nggih pateh taler nganggen ra repa 🙏    2.0\n",
       "5     Rahajeng semenng 🙏\\n \\n #basabali #basabaline ...    2.0\n",
       "...                                                 ...    ...\n",
       "1345        Buatin kakak nama komang dimas merta sedana    NaN\n",
       "1346  Ngiring mlajah angka Bali, durusang ketik jawa...    3.0\n",
       "1347  Becik pisan Baligrafi puniki 😍😍\\n #Repost @rai...    2.0\n",
       "1348  #Repost @mlajahbasabali\\n • • • • • •\\n Ngirin...    2.0\n",
       "1349  Ngiring Malajah Aksara Bali\\n \\n #Repost @peny...    2.0\n",
       "\n",
       "[1340 rows x 2 columns]"
      ]
     },
     "execution_count": 14,
     "metadata": {},
     "output_type": "execute_result"
    }
   ],
   "source": [
    "df"
   ]
  },
  {
   "cell_type": "code",
   "execution_count": 15,
   "metadata": {},
   "outputs": [
    {
     "data": {
      "text/html": [
       "<div>\n",
       "<style scoped>\n",
       "    .dataframe tbody tr th:only-of-type {\n",
       "        vertical-align: middle;\n",
       "    }\n",
       "\n",
       "    .dataframe tbody tr th {\n",
       "        vertical-align: top;\n",
       "    }\n",
       "\n",
       "    .dataframe thead th {\n",
       "        text-align: right;\n",
       "    }\n",
       "</style>\n",
       "<table border=\"1\" class=\"dataframe\">\n",
       "  <thead>\n",
       "    <tr style=\"text-align: right;\">\n",
       "      <th></th>\n",
       "      <th>text</th>\n",
       "      <th>label</th>\n",
       "    </tr>\n",
       "  </thead>\n",
       "  <tbody>\n",
       "    <tr>\n",
       "      <th>0</th>\n",
       "      <td>@gnyrs Kalau kantor Gubernurnya mimin nenten t...</td>\n",
       "      <td>3.0</td>\n",
       "    </tr>\n",
       "    <tr>\n",
       "      <th>1</th>\n",
       "      <td>@mangabdiii munyi gen wi besik ne</td>\n",
       "      <td>4.0</td>\n",
       "    </tr>\n",
       "    <tr>\n",
       "      <th>2</th>\n",
       "      <td>Yen di desan nyama patuh masih nyambat \"pang j...</td>\n",
       "      <td>4.0</td>\n",
       "    </tr>\n",
       "    <tr>\n",
       "      <th>3</th>\n",
       "      <td>@mangpink84 Nggih pateh taler nganggen ra repa 🙏</td>\n",
       "      <td>2.0</td>\n",
       "    </tr>\n",
       "    <tr>\n",
       "      <th>5</th>\n",
       "      <td>Rahajeng semenng 🙏\\n \\n #basabali #basabaline ...</td>\n",
       "      <td>2.0</td>\n",
       "    </tr>\n",
       "    <tr>\n",
       "      <th>...</th>\n",
       "      <td>...</td>\n",
       "      <td>...</td>\n",
       "    </tr>\n",
       "    <tr>\n",
       "      <th>1344</th>\n",
       "      <td>#Repost @mlajahbasabali\\n • • • • • •\\n wenten...</td>\n",
       "      <td>3.0</td>\n",
       "    </tr>\n",
       "    <tr>\n",
       "      <th>1346</th>\n",
       "      <td>Ngiring mlajah angka Bali, durusang ketik jawa...</td>\n",
       "      <td>3.0</td>\n",
       "    </tr>\n",
       "    <tr>\n",
       "      <th>1347</th>\n",
       "      <td>Becik pisan Baligrafi puniki 😍😍\\n #Repost @rai...</td>\n",
       "      <td>2.0</td>\n",
       "    </tr>\n",
       "    <tr>\n",
       "      <th>1348</th>\n",
       "      <td>#Repost @mlajahbasabali\\n • • • • • •\\n Ngirin...</td>\n",
       "      <td>2.0</td>\n",
       "    </tr>\n",
       "    <tr>\n",
       "      <th>1349</th>\n",
       "      <td>Ngiring Malajah Aksara Bali\\n \\n #Repost @peny...</td>\n",
       "      <td>2.0</td>\n",
       "    </tr>\n",
       "  </tbody>\n",
       "</table>\n",
       "<p>1314 rows × 2 columns</p>\n",
       "</div>"
      ],
      "text/plain": [
       "                                                   text  label\n",
       "0     @gnyrs Kalau kantor Gubernurnya mimin nenten t...    3.0\n",
       "1                     @mangabdiii munyi gen wi besik ne    4.0\n",
       "2     Yen di desan nyama patuh masih nyambat \"pang j...    4.0\n",
       "3      @mangpink84 Nggih pateh taler nganggen ra repa 🙏    2.0\n",
       "5     Rahajeng semenng 🙏\\n \\n #basabali #basabaline ...    2.0\n",
       "...                                                 ...    ...\n",
       "1344  #Repost @mlajahbasabali\\n • • • • • •\\n wenten...    3.0\n",
       "1346  Ngiring mlajah angka Bali, durusang ketik jawa...    3.0\n",
       "1347  Becik pisan Baligrafi puniki 😍😍\\n #Repost @rai...    2.0\n",
       "1348  #Repost @mlajahbasabali\\n • • • • • •\\n Ngirin...    2.0\n",
       "1349  Ngiring Malajah Aksara Bali\\n \\n #Repost @peny...    2.0\n",
       "\n",
       "[1314 rows x 2 columns]"
      ]
     },
     "execution_count": 15,
     "metadata": {},
     "output_type": "execute_result"
    }
   ],
   "source": [
    "df.dropna()"
   ]
  },
  {
   "cell_type": "code",
   "execution_count": 16,
   "metadata": {},
   "outputs": [],
   "source": [
    "# remove mention and hastag\n",
    "def clean_text(text: str) -> str:\n",
    "    cleaned_text = re.sub(r\"(@\\w+|#\\w+)\", \"\", text).strip()\n",
    "    return cleaned_text"
   ]
  },
  {
   "cell_type": "code",
   "execution_count": 17,
   "metadata": {},
   "outputs": [],
   "source": [
    "stemmer = Stemmer()"
   ]
  },
  {
   "cell_type": "code",
   "execution_count": 18,
   "metadata": {},
   "outputs": [],
   "source": [
    "df['text'] = df['text'].apply(clean_text)\n",
    "df['text'] = df['text'].apply(lambda x: stemmer.stem(x, correct_spelling=False))\n"
   ]
  },
  {
   "cell_type": "code",
   "execution_count": 19,
   "metadata": {},
   "outputs": [],
   "source": [
    "df = df.dropna()"
   ]
  },
  {
   "cell_type": "code",
   "execution_count": 20,
   "metadata": {},
   "outputs": [
    {
     "data": {
      "text/html": [
       "<div>\n",
       "<style scoped>\n",
       "    .dataframe tbody tr th:only-of-type {\n",
       "        vertical-align: middle;\n",
       "    }\n",
       "\n",
       "    .dataframe tbody tr th {\n",
       "        vertical-align: top;\n",
       "    }\n",
       "\n",
       "    .dataframe thead th {\n",
       "        text-align: right;\n",
       "    }\n",
       "</style>\n",
       "<table border=\"1\" class=\"dataframe\">\n",
       "  <thead>\n",
       "    <tr style=\"text-align: right;\">\n",
       "      <th></th>\n",
       "      <th>text</th>\n",
       "      <th>label</th>\n",
       "    </tr>\n",
       "  </thead>\n",
       "  <tbody>\n",
       "    <tr>\n",
       "      <th>0</th>\n",
       "      <td>lau kantor gubernurnya mimi nenten tatas uning...</td>\n",
       "      <td>3.0</td>\n",
       "    </tr>\n",
       "    <tr>\n",
       "      <th>1</th>\n",
       "      <td>munyi gen wi besik ne</td>\n",
       "      <td>4.0</td>\n",
       "    </tr>\n",
       "    <tr>\n",
       "      <th>2</th>\n",
       "      <td>yen di desa nyama patuh masih jambat pang joh ra</td>\n",
       "      <td>4.0</td>\n",
       "    </tr>\n",
       "    <tr>\n",
       "      <th>3</th>\n",
       "      <td>nggih pateh taler angge ra repa</td>\n",
       "      <td>2.0</td>\n",
       "    </tr>\n",
       "    <tr>\n",
       "      <th>5</th>\n",
       "      <td>rahajeng semenng</td>\n",
       "      <td>2.0</td>\n",
       "    </tr>\n",
       "    <tr>\n",
       "      <th>...</th>\n",
       "      <td>...</td>\n",
       "      <td>...</td>\n",
       "    </tr>\n",
       "    <tr>\n",
       "      <th>1344</th>\n",
       "      <td>wenten sane sampun bani angge aksara bali ring...</td>\n",
       "      <td>3.0</td>\n",
       "    </tr>\n",
       "    <tr>\n",
       "      <th>1346</th>\n",
       "      <td>iring mlajah angka bali durus ketik jawaban ri...</td>\n",
       "      <td>3.0</td>\n",
       "    </tr>\n",
       "    <tr>\n",
       "      <th>1347</th>\n",
       "      <td>becik pisan baligrafi puniki baligrafi singa raja</td>\n",
       "      <td>2.0</td>\n",
       "    </tr>\n",
       "    <tr>\n",
       "      <th>1348</th>\n",
       "      <td>iring malajah aksara bali repost fb made</td>\n",
       "      <td>2.0</td>\n",
       "    </tr>\n",
       "    <tr>\n",
       "      <th>1349</th>\n",
       "      <td>iring malajah aksara bali iring sareng-sareng ...</td>\n",
       "      <td>2.0</td>\n",
       "    </tr>\n",
       "  </tbody>\n",
       "</table>\n",
       "<p>1314 rows × 2 columns</p>\n",
       "</div>"
      ],
      "text/plain": [
       "                                                   text  label\n",
       "0     lau kantor gubernurnya mimi nenten tatas uning...    3.0\n",
       "1                                 munyi gen wi besik ne    4.0\n",
       "2      yen di desa nyama patuh masih jambat pang joh ra    4.0\n",
       "3                       nggih pateh taler angge ra repa    2.0\n",
       "5                                      rahajeng semenng    2.0\n",
       "...                                                 ...    ...\n",
       "1344  wenten sane sampun bani angge aksara bali ring...    3.0\n",
       "1346  iring mlajah angka bali durus ketik jawaban ri...    3.0\n",
       "1347  becik pisan baligrafi puniki baligrafi singa raja    2.0\n",
       "1348           iring malajah aksara bali repost fb made    2.0\n",
       "1349  iring malajah aksara bali iring sareng-sareng ...    2.0\n",
       "\n",
       "[1314 rows x 2 columns]"
      ]
     },
     "execution_count": 20,
     "metadata": {},
     "output_type": "execute_result"
    }
   ],
   "source": [
    "df"
   ]
  },
  {
   "cell_type": "markdown",
   "metadata": {},
   "source": [
    "## Modeling"
   ]
  },
  {
   "cell_type": "code",
   "execution_count": 21,
   "metadata": {},
   "outputs": [],
   "source": [
    "X = df['text'].astype(str)\n",
    "y = df['label']"
   ]
  },
  {
   "cell_type": "code",
   "execution_count": 22,
   "metadata": {},
   "outputs": [],
   "source": [
    "X_train, X_test, y_train, y_test = split_data(X.to_numpy(), y.to_numpy(), test_size=0.2)"
   ]
  },
  {
   "cell_type": "code",
   "execution_count": 23,
   "metadata": {},
   "outputs": [],
   "source": [
    "tfidf = TFIDF()\n",
    "X_train_tfidf = tfidf.fit_transform(X_train)\n",
    "X_test_tfidf = tfidf.transform(X_test)"
   ]
  },
  {
   "cell_type": "code",
   "execution_count": 24,
   "metadata": {},
   "outputs": [
    {
     "data": {
      "text/plain": [
       "(1052, 3364)"
      ]
     },
     "execution_count": 24,
     "metadata": {},
     "output_type": "execute_result"
    }
   ],
   "source": [
    "X_train_tfidf.shape"
   ]
  },
  {
   "cell_type": "code",
   "execution_count": 25,
   "metadata": {},
   "outputs": [
    {
     "data": {
      "text/plain": [
       "array([1.01334412, 0.82946805, 3.46516664, ..., 1.15295377, 3.91162422,\n",
       "       3.50172783])"
      ]
     },
     "execution_count": 25,
     "metadata": {},
     "output_type": "execute_result"
    }
   ],
   "source": [
    "feature_score = chi_square(X_train_tfidf, y_train)\n",
    "feature_score"
   ]
  },
  {
   "cell_type": "code",
   "execution_count": 26,
   "metadata": {},
   "outputs": [],
   "source": [
    "n_features = 2000\n",
    "top_features = np.argsort(feature_score)[::-1][:n_features]"
   ]
  },
  {
   "cell_type": "code",
   "execution_count": 27,
   "metadata": {},
   "outputs": [],
   "source": [
    "smote = SMOTE()\n",
    "X_train_sampled, y_train_sampled = smote.fit_resample(X_train_tfidf, y_train, 5, N=200)"
   ]
  },
  {
   "cell_type": "code",
   "execution_count": 28,
   "metadata": {},
   "outputs": [],
   "source": [
    "X_train_selected = X_train_sampled[:, top_features]\n",
    "X_test_selected = X_test_tfidf[:, top_features]"
   ]
  },
  {
   "cell_type": "code",
   "execution_count": 29,
   "metadata": {},
   "outputs": [],
   "source": [
    "# TODO: cross validation, tuning\n",
    "# TODO: implement from scratch cv\n",
    "\n",
    "mnb = MultinomialNB()\n",
    "mnb.fit(X_train_selected, y_train_sampled)"
   ]
  },
  {
   "cell_type": "code",
   "execution_count": 30,
   "metadata": {},
   "outputs": [
    {
     "name": "stdout",
     "output_type": "stream",
     "text": [
      "              precision    recall  f1-score   support\n",
      "\n",
      "         0.0     0.9821    0.3929    0.5612       140\n",
      "         1.0     1.0000    0.0351    0.0678        57\n",
      "         2.0     0.5794    0.8423    0.6865       260\n",
      "         3.0     0.9701    0.4514    0.6161       144\n",
      "         4.0     0.7668    0.9819    0.8611       442\n",
      "         5.0     1.0000    0.0370    0.0714        27\n",
      "\n",
      "    accuracy                         0.7252      1070\n",
      "   macro avg     0.8831    0.4568    0.4774      1070\n",
      "weighted avg     0.7951    0.7252    0.6843      1070\n",
      "\n"
     ]
    }
   ],
   "source": [
    "y_train_pred = mnb.predict(X_train_selected)\n",
    "print(classification_report(y_train_sampled, y_train_pred, digits=4, zero_division=0))"
   ]
  },
  {
   "cell_type": "code",
   "execution_count": 31,
   "metadata": {},
   "outputs": [
    {
     "name": "stdout",
     "output_type": "stream",
     "text": [
      "              precision    recall  f1-score   support\n",
      "\n",
      "         0.0     1.0000    0.0882    0.1622        34\n",
      "         1.0     0.0000    0.0000    0.0000        15\n",
      "         2.0     0.4160    0.7879    0.5445        66\n",
      "         3.0     0.7500    0.0811    0.1463        37\n",
      "         4.0     0.7769    0.9439    0.8523       107\n",
      "         5.0     0.0000    0.0000    0.0000         3\n",
      "\n",
      "    accuracy                         0.6069       262\n",
      "   macro avg     0.4905    0.3169    0.2842       262\n",
      "weighted avg     0.6578    0.6069    0.5270       262\n",
      "\n"
     ]
    }
   ],
   "source": [
    "y_test_pred = mnb.predict(X_test_selected)\n",
    "print(classification_report(y_test, y_test_pred, digits=4, zero_division=0))"
   ]
  },
  {
   "cell_type": "code",
   "execution_count": 32,
   "metadata": {},
   "outputs": [
    {
     "data": {
      "text/plain": [
       "0.6068702290076335"
      ]
     },
     "execution_count": 32,
     "metadata": {},
     "output_type": "execute_result"
    }
   ],
   "source": [
    "accuracy_score(y_test, y_test_pred)"
   ]
  },
  {
   "cell_type": "code",
   "execution_count": 33,
   "metadata": {},
   "outputs": [
    {
     "data": {
      "text/plain": [
       "'basa andap'"
      ]
     },
     "execution_count": 33,
     "metadata": {},
     "output_type": "execute_result"
    }
   ],
   "source": [
    "text = \"nah kemu be jemak jajane\"\n",
    "text = stemmer.stem(text, correct_spelling=True)\n",
    "prediction = mnb.predict(tfidf.transform([text])[:, top_features])\n",
    "idx_to_label[prediction[0]]"
   ]
  }
 ],
 "metadata": {
  "kernelspec": {
   "display_name": ".venv",
   "language": "python",
   "name": "python3"
  },
  "language_info": {
   "codemirror_mode": {
    "name": "ipython",
    "version": 3
   },
   "file_extension": ".py",
   "mimetype": "text/x-python",
   "name": "python",
   "nbconvert_exporter": "python",
   "pygments_lexer": "ipython3",
   "version": "3.10.12"
  }
 },
 "nbformat": 4,
 "nbformat_minor": 2
}
