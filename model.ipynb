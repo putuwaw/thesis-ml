{
 "cells": [
  {
   "cell_type": "code",
   "execution_count": 1,
   "metadata": {},
   "outputs": [],
   "source": [
    "from notebook import TFIDF, MultinomialNB, chi_square, SMOTE\n",
    "from linggapy import Stemmer\n",
    "\n",
    "from sklearn.metrics import classification_report\n",
    "from sklearn.model_selection import train_test_split\n",
    "import pandas as pd\n",
    "import numpy as np"
   ]
  },
  {
   "cell_type": "code",
   "execution_count": 2,
   "metadata": {},
   "outputs": [],
   "source": [
    "np.random.seed(42)"
   ]
  },
  {
   "cell_type": "code",
   "execution_count": 3,
   "metadata": {},
   "outputs": [],
   "source": [
    "df = pd.read_excel(f\"https://docs.google.com/spreadsheets/d/1dCSj3772FI7B6i1ioD1Nq5w6siZuAj1p7i4FizHTqcY/export?gid=0&format=xlsx\", 'Sheet1')"
   ]
  },
  {
   "cell_type": "code",
   "execution_count": 4,
   "metadata": {},
   "outputs": [
    {
     "data": {
      "text/html": [
       "<div>\n",
       "<style scoped>\n",
       "    .dataframe tbody tr th:only-of-type {\n",
       "        vertical-align: middle;\n",
       "    }\n",
       "\n",
       "    .dataframe tbody tr th {\n",
       "        vertical-align: top;\n",
       "    }\n",
       "\n",
       "    .dataframe thead th {\n",
       "        text-align: right;\n",
       "    }\n",
       "</style>\n",
       "<table border=\"1\" class=\"dataframe\">\n",
       "  <thead>\n",
       "    <tr style=\"text-align: right;\">\n",
       "      <th></th>\n",
       "      <th>No.</th>\n",
       "      <th>Teks Postingan / Comment</th>\n",
       "      <th>Tingkatan Bahasa/Sor Singgih</th>\n",
       "    </tr>\n",
       "  </thead>\n",
       "  <tbody>\n",
       "    <tr>\n",
       "      <th>0</th>\n",
       "      <td>1</td>\n",
       "      <td>Ngaad artosne ngadu ang atau ngomong janji</td>\n",
       "      <td>Alus Sor</td>\n",
       "    </tr>\n",
       "    <tr>\n",
       "      <th>1</th>\n",
       "      <td>2</td>\n",
       "      <td>Arti sujati Ngad. Arti paribasa Ngaduang. Suks...</td>\n",
       "      <td>Alis Sor</td>\n",
       "    </tr>\n",
       "    <tr>\n",
       "      <th>2</th>\n",
       "      <td>3</td>\n",
       "      <td>Tiuk tiying arti sujati ngad .. metiiuk tiying...</td>\n",
       "      <td>Alus Sor</td>\n",
       "    </tr>\n",
       "    <tr>\n",
       "      <th>3</th>\n",
       "      <td>4</td>\n",
       "      <td>Sira sane seneng ngalawar semeton ? komen nggi...</td>\n",
       "      <td>Alus Singgih</td>\n",
       "    </tr>\n",
       "    <tr>\n",
       "      <th>4</th>\n",
       "      <td>5</td>\n",
       "      <td>Jegeg pisan ane me satwe i belong.😂😍</td>\n",
       "      <td>NaN</td>\n",
       "    </tr>\n",
       "    <tr>\n",
       "      <th>...</th>\n",
       "      <td>...</td>\n",
       "      <td>...</td>\n",
       "      <td>...</td>\n",
       "    </tr>\n",
       "    <tr>\n",
       "      <th>333</th>\n",
       "      <td>334</td>\n",
       "      <td>Tata Cara Nyurat I Kara, elingang save &amp; share...</td>\n",
       "      <td>Alus Singgih</td>\n",
       "    </tr>\n",
       "    <tr>\n",
       "      <th>334</th>\n",
       "      <td>335</td>\n",
       "      <td>Yening madaging ba kembang sareng ta latik pra...</td>\n",
       "      <td>Alus SInggih</td>\n",
       "    </tr>\n",
       "    <tr>\n",
       "      <th>335</th>\n",
       "      <td>336</td>\n",
       "      <td>Napi murda sesuratan puniki? 🤭😂😂\\n #aksara #ak...</td>\n",
       "      <td>Alus Singgih</td>\n",
       "    </tr>\n",
       "    <tr>\n",
       "      <th>336</th>\n",
       "      <td>337</td>\n",
       "      <td>Wenten sane pateh? wkwkwk \\n elingang like &amp; s...</td>\n",
       "      <td>Alus Singgih</td>\n",
       "    </tr>\n",
       "    <tr>\n",
       "      <th>337</th>\n",
       "      <td>338</td>\n",
       "      <td>Rahajeng semeng, prasida ngwacen sane niki ton...</td>\n",
       "      <td>Alus Singgih</td>\n",
       "    </tr>\n",
       "  </tbody>\n",
       "</table>\n",
       "<p>338 rows × 3 columns</p>\n",
       "</div>"
      ],
      "text/plain": [
       "     No.                           Teks Postingan / Comment  \\\n",
       "0      1         Ngaad artosne ngadu ang atau ngomong janji   \n",
       "1      2  Arti sujati Ngad. Arti paribasa Ngaduang. Suks...   \n",
       "2      3  Tiuk tiying arti sujati ngad .. metiiuk tiying...   \n",
       "3      4  Sira sane seneng ngalawar semeton ? komen nggi...   \n",
       "4      5               Jegeg pisan ane me satwe i belong.😂😍   \n",
       "..   ...                                                ...   \n",
       "333  334  Tata Cara Nyurat I Kara, elingang save & share...   \n",
       "334  335  Yening madaging ba kembang sareng ta latik pra...   \n",
       "335  336  Napi murda sesuratan puniki? 🤭😂😂\\n #aksara #ak...   \n",
       "336  337  Wenten sane pateh? wkwkwk \\n elingang like & s...   \n",
       "337  338  Rahajeng semeng, prasida ngwacen sane niki ton...   \n",
       "\n",
       "    Tingkatan Bahasa/Sor Singgih  \n",
       "0                       Alus Sor  \n",
       "1                       Alis Sor  \n",
       "2                       Alus Sor  \n",
       "3                   Alus Singgih  \n",
       "4                            NaN  \n",
       "..                           ...  \n",
       "333                 Alus Singgih  \n",
       "334                 Alus SInggih  \n",
       "335                 Alus Singgih  \n",
       "336                 Alus Singgih  \n",
       "337                 Alus Singgih  \n",
       "\n",
       "[338 rows x 3 columns]"
      ]
     },
     "execution_count": 4,
     "metadata": {},
     "output_type": "execute_result"
    }
   ],
   "source": [
    "df"
   ]
  },
  {
   "cell_type": "code",
   "execution_count": 5,
   "metadata": {},
   "outputs": [],
   "source": [
    "df = df.drop(columns=['No.'])\n",
    "df = df.rename(columns={\"Teks Postingan / Comment\": \"text\", \"Tingkatan Bahasa/Sor Singgih\": \"label\"})"
   ]
  },
  {
   "cell_type": "code",
   "execution_count": 6,
   "metadata": {},
   "outputs": [
    {
     "name": "stdout",
     "output_type": "stream",
     "text": [
      "<class 'pandas.core.frame.DataFrame'>\n",
      "RangeIndex: 338 entries, 0 to 337\n",
      "Data columns (total 2 columns):\n",
      " #   Column  Non-Null Count  Dtype \n",
      "---  ------  --------------  ----- \n",
      " 0   text    338 non-null    object\n",
      " 1   label   334 non-null    object\n",
      "dtypes: object(2)\n",
      "memory usage: 5.4+ KB\n"
     ]
    }
   ],
   "source": [
    "df.info()"
   ]
  },
  {
   "cell_type": "code",
   "execution_count": 7,
   "metadata": {},
   "outputs": [
    {
     "data": {
      "text/plain": [
       "label\n",
       "Alus Singgih                                                      146\n",
       "Basa Andap                                                        123\n",
       "Alus Sor                                                           34\n",
       "Alus Madia                                                         10\n",
       "-                                                                   4\n",
       "Basa Kasar                                                          4\n",
       "Alus Mider                                                          3\n",
       "Bahasa Pengantar : Alus Singgih. Bahasa isi satua : Basa Andap      1\n",
       "Alis Sor                                                            1\n",
       "Alis Singgih                                                        1\n",
       "Alus singgih                                                        1\n",
       "Basa                                                                1\n",
       "Bassa Andap                                                         1\n",
       "Basa Kasar Jabag                                                    1\n",
       "Mider                                                               1\n",
       "Alus Singih                                                         1\n",
       "Alus SInggih                                                        1\n",
       "Name: count, dtype: int64"
      ]
     },
     "execution_count": 7,
     "metadata": {},
     "output_type": "execute_result"
    }
   ],
   "source": [
    "df['label'].value_counts()"
   ]
  },
  {
   "cell_type": "code",
   "execution_count": 8,
   "metadata": {},
   "outputs": [],
   "source": [
    "label_mapping = {\n",
    "    \"Alus Singgih\": \"alus singgih\",\n",
    "    \"Basa Andap\": \"basa andap\",\n",
    "    \"Alus Sor\": \"alus sor\",\n",
    "    \"Alus Madia\": \"alus madia\",\n",
    "    \"Basa Kasar\": \"basa kasar\",\n",
    "    \"Alus Mider\": \"alus mider\",\n",
    "    \"Alus singgih\": \"alus singgih\",\n",
    "    \"Alis Singgih\": \"alus singgih\",\n",
    "    \"Alis Sor\": \"alus sor\",\n",
    "    \"Bassa Andap\": \"basa andap\",\n",
    "    \"Basa Kasar Jabag\": \"basa kasar\",\n",
    "    \"Mider\": \"alus mider\",\n",
    "    \"Alus Singih\": \"alus singgih\",\n",
    "    \"Alus SInggih\": \"alus singgih\",\n",
    "}"
   ]
  },
  {
   "cell_type": "code",
   "execution_count": 9,
   "metadata": {},
   "outputs": [
    {
     "data": {
      "text/plain": [
       "label\n",
       "alus singgih    150\n",
       "basa andap      124\n",
       "alus sor         35\n",
       "alus madia       10\n",
       "basa kasar        5\n",
       "alus mider        4\n",
       "Name: count, dtype: int64"
      ]
     },
     "execution_count": 9,
     "metadata": {},
     "output_type": "execute_result"
    }
   ],
   "source": [
    "df['label'] = df['label'].map(label_mapping)\n",
    "df['label'].value_counts()"
   ]
  },
  {
   "cell_type": "code",
   "execution_count": 10,
   "metadata": {},
   "outputs": [
    {
     "data": {
      "text/plain": [
       "label\n",
       "alus singgih    44.378698\n",
       "basa andap      36.686391\n",
       "alus sor        10.355030\n",
       "alus madia       2.958580\n",
       "basa kasar       1.479290\n",
       "alus mider       1.183432\n",
       "Name: count, dtype: float64"
      ]
     },
     "execution_count": 10,
     "metadata": {},
     "output_type": "execute_result"
    }
   ],
   "source": [
    "df['label'].value_counts() * 100 / len(df)"
   ]
  },
  {
   "cell_type": "code",
   "execution_count": 11,
   "metadata": {},
   "outputs": [],
   "source": [
    "label_to_idx = {\n",
    "    \"alus singgih\": 0,\n",
    "    \"alus sor\": 1,\n",
    "    \"alus mider\": 2,\n",
    "    \"alus madia\": 3,\n",
    "    \"basa andap\": 4,\n",
    "    \"basa kasar\": 5,\n",
    "}\n",
    "idx_to_label = {v: k for k, v in label_to_idx.items()}"
   ]
  },
  {
   "cell_type": "code",
   "execution_count": 12,
   "metadata": {},
   "outputs": [],
   "source": [
    "df[\"label\"] = df[\"label\"].map(\n",
    "    label_to_idx\n",
    ")"
   ]
  },
  {
   "cell_type": "code",
   "execution_count": 13,
   "metadata": {},
   "outputs": [
    {
     "data": {
      "text/html": [
       "<div>\n",
       "<style scoped>\n",
       "    .dataframe tbody tr th:only-of-type {\n",
       "        vertical-align: middle;\n",
       "    }\n",
       "\n",
       "    .dataframe tbody tr th {\n",
       "        vertical-align: top;\n",
       "    }\n",
       "\n",
       "    .dataframe thead th {\n",
       "        text-align: right;\n",
       "    }\n",
       "</style>\n",
       "<table border=\"1\" class=\"dataframe\">\n",
       "  <thead>\n",
       "    <tr style=\"text-align: right;\">\n",
       "      <th></th>\n",
       "      <th>text</th>\n",
       "      <th>label</th>\n",
       "    </tr>\n",
       "  </thead>\n",
       "  <tbody>\n",
       "    <tr>\n",
       "      <th>0</th>\n",
       "      <td>Ngaad artosne ngadu ang atau ngomong janji</td>\n",
       "      <td>1.0</td>\n",
       "    </tr>\n",
       "    <tr>\n",
       "      <th>1</th>\n",
       "      <td>Arti sujati Ngad. Arti paribasa Ngaduang. Suks...</td>\n",
       "      <td>1.0</td>\n",
       "    </tr>\n",
       "    <tr>\n",
       "      <th>2</th>\n",
       "      <td>Tiuk tiying arti sujati ngad .. metiiuk tiying...</td>\n",
       "      <td>1.0</td>\n",
       "    </tr>\n",
       "    <tr>\n",
       "      <th>3</th>\n",
       "      <td>Sira sane seneng ngalawar semeton ? komen nggi...</td>\n",
       "      <td>0.0</td>\n",
       "    </tr>\n",
       "    <tr>\n",
       "      <th>4</th>\n",
       "      <td>Jegeg pisan ane me satwe i belong.😂😍</td>\n",
       "      <td>NaN</td>\n",
       "    </tr>\n",
       "    <tr>\n",
       "      <th>...</th>\n",
       "      <td>...</td>\n",
       "      <td>...</td>\n",
       "    </tr>\n",
       "    <tr>\n",
       "      <th>333</th>\n",
       "      <td>Tata Cara Nyurat I Kara, elingang save &amp; share...</td>\n",
       "      <td>0.0</td>\n",
       "    </tr>\n",
       "    <tr>\n",
       "      <th>334</th>\n",
       "      <td>Yening madaging ba kembang sareng ta latik pra...</td>\n",
       "      <td>0.0</td>\n",
       "    </tr>\n",
       "    <tr>\n",
       "      <th>335</th>\n",
       "      <td>Napi murda sesuratan puniki? 🤭😂😂\\n #aksara #ak...</td>\n",
       "      <td>0.0</td>\n",
       "    </tr>\n",
       "    <tr>\n",
       "      <th>336</th>\n",
       "      <td>Wenten sane pateh? wkwkwk \\n elingang like &amp; s...</td>\n",
       "      <td>0.0</td>\n",
       "    </tr>\n",
       "    <tr>\n",
       "      <th>337</th>\n",
       "      <td>Rahajeng semeng, prasida ngwacen sane niki ton...</td>\n",
       "      <td>0.0</td>\n",
       "    </tr>\n",
       "  </tbody>\n",
       "</table>\n",
       "<p>338 rows × 2 columns</p>\n",
       "</div>"
      ],
      "text/plain": [
       "                                                  text  label\n",
       "0           Ngaad artosne ngadu ang atau ngomong janji    1.0\n",
       "1    Arti sujati Ngad. Arti paribasa Ngaduang. Suks...    1.0\n",
       "2    Tiuk tiying arti sujati ngad .. metiiuk tiying...    1.0\n",
       "3    Sira sane seneng ngalawar semeton ? komen nggi...    0.0\n",
       "4                 Jegeg pisan ane me satwe i belong.😂😍    NaN\n",
       "..                                                 ...    ...\n",
       "333  Tata Cara Nyurat I Kara, elingang save & share...    0.0\n",
       "334  Yening madaging ba kembang sareng ta latik pra...    0.0\n",
       "335  Napi murda sesuratan puniki? 🤭😂😂\\n #aksara #ak...    0.0\n",
       "336  Wenten sane pateh? wkwkwk \\n elingang like & s...    0.0\n",
       "337  Rahajeng semeng, prasida ngwacen sane niki ton...    0.0\n",
       "\n",
       "[338 rows x 2 columns]"
      ]
     },
     "execution_count": 13,
     "metadata": {},
     "output_type": "execute_result"
    }
   ],
   "source": [
    "df"
   ]
  },
  {
   "cell_type": "code",
   "execution_count": 14,
   "metadata": {},
   "outputs": [],
   "source": [
    "stemmer = Stemmer()"
   ]
  },
  {
   "cell_type": "code",
   "execution_count": 15,
   "metadata": {},
   "outputs": [],
   "source": [
    "df['text'] = df['text'].apply(lambda x: stemmer.stem(x, correct_spelling=False))"
   ]
  },
  {
   "cell_type": "code",
   "execution_count": 16,
   "metadata": {},
   "outputs": [
    {
     "data": {
      "text/html": [
       "<div>\n",
       "<style scoped>\n",
       "    .dataframe tbody tr th:only-of-type {\n",
       "        vertical-align: middle;\n",
       "    }\n",
       "\n",
       "    .dataframe tbody tr th {\n",
       "        vertical-align: top;\n",
       "    }\n",
       "\n",
       "    .dataframe thead th {\n",
       "        text-align: right;\n",
       "    }\n",
       "</style>\n",
       "<table border=\"1\" class=\"dataframe\">\n",
       "  <thead>\n",
       "    <tr style=\"text-align: right;\">\n",
       "      <th></th>\n",
       "      <th>text</th>\n",
       "      <th>label</th>\n",
       "    </tr>\n",
       "  </thead>\n",
       "  <tbody>\n",
       "    <tr>\n",
       "      <th>0</th>\n",
       "      <td>aad artos adu ang tau omong janji</td>\n",
       "      <td>1.0</td>\n",
       "    </tr>\n",
       "    <tr>\n",
       "      <th>1</th>\n",
       "      <td>arti sujati ngad arti paribasa adu suksema</td>\n",
       "      <td>1.0</td>\n",
       "    </tr>\n",
       "    <tr>\n",
       "      <th>2</th>\n",
       "      <td>tiuk tiying arti sujati ngad metiiuk tiying ki...</td>\n",
       "      <td>1.0</td>\n",
       "    </tr>\n",
       "    <tr>\n",
       "      <th>3</th>\n",
       "      <td>sira sane seneng lawar semeton komen nggih bal...</td>\n",
       "      <td>0.0</td>\n",
       "    </tr>\n",
       "    <tr>\n",
       "      <th>4</th>\n",
       "      <td>jegeg pisan ane me satwe i belong</td>\n",
       "      <td>NaN</td>\n",
       "    </tr>\n",
       "    <tr>\n",
       "      <th>...</th>\n",
       "      <td>...</td>\n",
       "      <td>...</td>\n",
       "    </tr>\n",
       "    <tr>\n",
       "      <th>333</th>\n",
       "      <td>tata cara urat i kara eling save share nggih a...</td>\n",
       "      <td>0.0</td>\n",
       "    </tr>\n",
       "    <tr>\n",
       "      <th>334</th>\n",
       "      <td>yening daging ba kembang sareng ta latik prasi...</td>\n",
       "      <td>0.0</td>\n",
       "    </tr>\n",
       "    <tr>\n",
       "      <th>335</th>\n",
       "      <td>napi murda sesuratan puniki aksara aksarabali</td>\n",
       "      <td>0.0</td>\n",
       "    </tr>\n",
       "    <tr>\n",
       "      <th>336</th>\n",
       "      <td>wenten sane pateh wkwkwk eling like share nggi...</td>\n",
       "      <td>0.0</td>\n",
       "    </tr>\n",
       "    <tr>\n",
       "      <th>337</th>\n",
       "      <td>rahajeng semeng prasida ngwacen sane iki ton a...</td>\n",
       "      <td>0.0</td>\n",
       "    </tr>\n",
       "  </tbody>\n",
       "</table>\n",
       "<p>338 rows × 2 columns</p>\n",
       "</div>"
      ],
      "text/plain": [
       "                                                  text  label\n",
       "0                    aad artos adu ang tau omong janji    1.0\n",
       "1           arti sujati ngad arti paribasa adu suksema    1.0\n",
       "2    tiuk tiying arti sujati ngad metiiuk tiying ki...    1.0\n",
       "3    sira sane seneng lawar semeton komen nggih bal...    0.0\n",
       "4                    jegeg pisan ane me satwe i belong    NaN\n",
       "..                                                 ...    ...\n",
       "333  tata cara urat i kara eling save share nggih a...    0.0\n",
       "334  yening daging ba kembang sareng ta latik prasi...    0.0\n",
       "335      napi murda sesuratan puniki aksara aksarabali    0.0\n",
       "336  wenten sane pateh wkwkwk eling like share nggi...    0.0\n",
       "337  rahajeng semeng prasida ngwacen sane iki ton a...    0.0\n",
       "\n",
       "[338 rows x 2 columns]"
      ]
     },
     "execution_count": 16,
     "metadata": {},
     "output_type": "execute_result"
    }
   ],
   "source": [
    "df"
   ]
  },
  {
   "cell_type": "code",
   "execution_count": 17,
   "metadata": {},
   "outputs": [],
   "source": [
    "df = df.dropna(subset=['label'])"
   ]
  },
  {
   "cell_type": "code",
   "execution_count": 18,
   "metadata": {},
   "outputs": [
    {
     "data": {
      "text/html": [
       "<div>\n",
       "<style scoped>\n",
       "    .dataframe tbody tr th:only-of-type {\n",
       "        vertical-align: middle;\n",
       "    }\n",
       "\n",
       "    .dataframe tbody tr th {\n",
       "        vertical-align: top;\n",
       "    }\n",
       "\n",
       "    .dataframe thead th {\n",
       "        text-align: right;\n",
       "    }\n",
       "</style>\n",
       "<table border=\"1\" class=\"dataframe\">\n",
       "  <thead>\n",
       "    <tr style=\"text-align: right;\">\n",
       "      <th></th>\n",
       "      <th>text</th>\n",
       "      <th>label</th>\n",
       "    </tr>\n",
       "  </thead>\n",
       "  <tbody>\n",
       "    <tr>\n",
       "      <th>0</th>\n",
       "      <td>aad artos adu ang tau omong janji</td>\n",
       "      <td>1.0</td>\n",
       "    </tr>\n",
       "    <tr>\n",
       "      <th>1</th>\n",
       "      <td>arti sujati ngad arti paribasa adu suksema</td>\n",
       "      <td>1.0</td>\n",
       "    </tr>\n",
       "    <tr>\n",
       "      <th>2</th>\n",
       "      <td>tiuk tiying arti sujati ngad metiiuk tiying ki...</td>\n",
       "      <td>1.0</td>\n",
       "    </tr>\n",
       "    <tr>\n",
       "      <th>3</th>\n",
       "      <td>sira sane seneng lawar semeton komen nggih bal...</td>\n",
       "      <td>0.0</td>\n",
       "    </tr>\n",
       "    <tr>\n",
       "      <th>5</th>\n",
       "      <td>satua pan balang tamak siki nggih</td>\n",
       "      <td>0.0</td>\n",
       "    </tr>\n",
       "    <tr>\n",
       "      <th>...</th>\n",
       "      <td>...</td>\n",
       "      <td>...</td>\n",
       "    </tr>\n",
       "    <tr>\n",
       "      <th>333</th>\n",
       "      <td>tata cara urat i kara eling save share nggih a...</td>\n",
       "      <td>0.0</td>\n",
       "    </tr>\n",
       "    <tr>\n",
       "      <th>334</th>\n",
       "      <td>yening daging ba kembang sareng ta latik prasi...</td>\n",
       "      <td>0.0</td>\n",
       "    </tr>\n",
       "    <tr>\n",
       "      <th>335</th>\n",
       "      <td>napi murda sesuratan puniki aksara aksarabali</td>\n",
       "      <td>0.0</td>\n",
       "    </tr>\n",
       "    <tr>\n",
       "      <th>336</th>\n",
       "      <td>wenten sane pateh wkwkwk eling like share nggi...</td>\n",
       "      <td>0.0</td>\n",
       "    </tr>\n",
       "    <tr>\n",
       "      <th>337</th>\n",
       "      <td>rahajeng semeng prasida ngwacen sane iki ton a...</td>\n",
       "      <td>0.0</td>\n",
       "    </tr>\n",
       "  </tbody>\n",
       "</table>\n",
       "<p>328 rows × 2 columns</p>\n",
       "</div>"
      ],
      "text/plain": [
       "                                                  text  label\n",
       "0                    aad artos adu ang tau omong janji    1.0\n",
       "1           arti sujati ngad arti paribasa adu suksema    1.0\n",
       "2    tiuk tiying arti sujati ngad metiiuk tiying ki...    1.0\n",
       "3    sira sane seneng lawar semeton komen nggih bal...    0.0\n",
       "5                    satua pan balang tamak siki nggih    0.0\n",
       "..                                                 ...    ...\n",
       "333  tata cara urat i kara eling save share nggih a...    0.0\n",
       "334  yening daging ba kembang sareng ta latik prasi...    0.0\n",
       "335      napi murda sesuratan puniki aksara aksarabali    0.0\n",
       "336  wenten sane pateh wkwkwk eling like share nggi...    0.0\n",
       "337  rahajeng semeng prasida ngwacen sane iki ton a...    0.0\n",
       "\n",
       "[328 rows x 2 columns]"
      ]
     },
     "execution_count": 18,
     "metadata": {},
     "output_type": "execute_result"
    }
   ],
   "source": [
    "df"
   ]
  },
  {
   "cell_type": "code",
   "execution_count": 19,
   "metadata": {},
   "outputs": [],
   "source": [
    "X = df['text'].astype(str)\n",
    "y = df['label']"
   ]
  },
  {
   "cell_type": "code",
   "execution_count": 20,
   "metadata": {},
   "outputs": [],
   "source": [
    "X_train, X_test, y_train, y_test = train_test_split(X, y, test_size=0.2, random_state=0)"
   ]
  },
  {
   "cell_type": "code",
   "execution_count": 21,
   "metadata": {},
   "outputs": [],
   "source": [
    "tfidf = TFIDF()\n",
    "X_train_tfidf = tfidf.fit_transform(X_train.to_list())\n",
    "X_test_tfidf = tfidf.transform(X_test.to_list())"
   ]
  },
  {
   "cell_type": "code",
   "execution_count": 22,
   "metadata": {},
   "outputs": [
    {
     "data": {
      "text/plain": [
       "array([3.1485421 , 0.04354622, 2.03349044, ..., 0.31150804, 0.67075282,\n",
       "       0.53116423])"
      ]
     },
     "execution_count": 22,
     "metadata": {},
     "output_type": "execute_result"
    }
   ],
   "source": [
    "feature_score = chi_square(X_train_tfidf, y_train.to_numpy())\n",
    "feature_score"
   ]
  },
  {
   "cell_type": "code",
   "execution_count": 23,
   "metadata": {},
   "outputs": [],
   "source": [
    "n_features = 500\n",
    "top_features = np.argsort(feature_score)[::-1][:n_features]"
   ]
  },
  {
   "cell_type": "code",
   "execution_count": 24,
   "metadata": {},
   "outputs": [],
   "source": [
    "smote = SMOTE()\n",
    "X_train_sampled, y_train_sampled = smote.fit_resample(X_train_tfidf, y_train.to_numpy(), 1, N=200)"
   ]
  },
  {
   "cell_type": "code",
   "execution_count": 25,
   "metadata": {},
   "outputs": [],
   "source": [
    "X_train_selected = X_train_sampled[:, top_features]\n",
    "X_test_selected = X_test_tfidf[:, top_features]"
   ]
  },
  {
   "cell_type": "code",
   "execution_count": 26,
   "metadata": {},
   "outputs": [],
   "source": [
    "mnb = MultinomialNB()\n",
    "mnb.fit(X_train_selected, y_train_sampled)"
   ]
  },
  {
   "cell_type": "code",
   "execution_count": 27,
   "metadata": {},
   "outputs": [
    {
     "name": "stdout",
     "output_type": "stream",
     "text": [
      "              precision    recall  f1-score   support\n",
      "\n",
      "         0.0     0.8248    1.0000    0.9040       113\n",
      "         1.0     0.9663    0.9885    0.9773        87\n",
      "         2.0     0.0000    0.0000    0.0000         3\n",
      "         3.0     0.0000    0.0000    0.0000         9\n",
      "         4.0     0.9468    0.8641    0.9036       103\n",
      "         5.0     0.0000    0.0000    0.0000         5\n",
      "\n",
      "    accuracy                         0.9000       320\n",
      "   macro avg     0.4563    0.4754    0.4641       320\n",
      "weighted avg     0.8587    0.9000    0.8758       320\n",
      "\n"
     ]
    }
   ],
   "source": [
    "y_train_pred = mnb.predict(X_train_selected)\n",
    "print(classification_report(y_train_sampled, y_train_pred, digits=4, zero_division=0))"
   ]
  },
  {
   "cell_type": "code",
   "execution_count": 28,
   "metadata": {},
   "outputs": [
    {
     "name": "stdout",
     "output_type": "stream",
     "text": [
      "              precision    recall  f1-score   support\n",
      "\n",
      "         0.0     0.7727    0.9189    0.8395        37\n",
      "         1.0     0.5000    0.5000    0.5000         6\n",
      "         2.0     0.0000    0.0000    0.0000         1\n",
      "         3.0     0.0000    0.0000    0.0000         1\n",
      "         4.0     0.9375    0.7143    0.8108        21\n",
      "\n",
      "    accuracy                         0.7879        66\n",
      "   macro avg     0.4420    0.4266    0.4301        66\n",
      "weighted avg     0.7769    0.7879    0.7741        66\n",
      "\n"
     ]
    }
   ],
   "source": [
    "y_test_pred = mnb.predict(X_test_selected)\n",
    "print(classification_report(y_test, y_test_pred, digits=4, zero_division=0))"
   ]
  },
  {
   "cell_type": "code",
   "execution_count": 29,
   "metadata": {},
   "outputs": [
    {
     "data": {
      "text/plain": [
       "'alus singgih'"
      ]
     },
     "execution_count": 29,
     "metadata": {},
     "output_type": "execute_result"
    }
   ],
   "source": [
    "text = \"rahajeng mewali bli, rahayu rahayu nggih\"\n",
    "text = stemmer.stem(text, correct_spelling=False)\n",
    "prediction = mnb.predict(tfidf.transform([text])[:, top_features])\n",
    "idx_to_label[prediction[0]]"
   ]
  }
 ],
 "metadata": {
  "kernelspec": {
   "display_name": ".venv",
   "language": "python",
   "name": "python3"
  },
  "language_info": {
   "codemirror_mode": {
    "name": "ipython",
    "version": 3
   },
   "file_extension": ".py",
   "mimetype": "text/x-python",
   "name": "python",
   "nbconvert_exporter": "python",
   "pygments_lexer": "ipython3",
   "version": "3.10.12"
  }
 },
 "nbformat": 4,
 "nbformat_minor": 2
}
