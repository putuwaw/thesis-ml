{
 "cells": [
  {
   "cell_type": "code",
   "execution_count": 1,
   "metadata": {},
   "outputs": [],
   "source": [
    "import copy\n",
    "import re\n",
    "import random\n",
    "from collections import Counter\n",
    "\n",
    "from notebook import (\n",
    "    TFIDF,\n",
    "    MultinomialNB,\n",
    "    SMOTE,\n",
    "    Pipeline,\n",
    "    chi_square,\n",
    "    split_data,\n",
    "    accuracy_score,\n",
    "    cross_validation,\n",
    ")\n",
    "from linggapy import Stemmer\n",
    "\n",
    "from sklearn.metrics import classification_report, confusion_matrix\n",
    "from tqdm import tqdm\n",
    "import pandas as pd\n",
    "import numpy as np\n",
    "import joblib"
   ]
  },
  {
   "cell_type": "code",
   "execution_count": 2,
   "metadata": {},
   "outputs": [],
   "source": [
    "np.random.seed(42)\n",
    "random.seed(42)"
   ]
  },
  {
   "cell_type": "markdown",
   "metadata": {},
   "source": [
    "## Data Collection"
   ]
  },
  {
   "cell_type": "code",
   "execution_count": 3,
   "metadata": {},
   "outputs": [],
   "source": [
    "dataframes = []\n",
    "\n",
    "for i in range(4):\n",
    "    dataframes.append(\n",
    "        pd.read_excel(\n",
    "            f\"dataset/Klasifikasi Tingkatan Bahasa Bali p{i+1}.xlsx\",\n",
    "            \"Sheet1\",\n",
    "            usecols=[1, 2],\n",
    "        )\n",
    "    )\n",
    "\n",
    "df = pd.concat(dataframes, ignore_index=True)"
   ]
  },
  {
   "cell_type": "code",
   "execution_count": 4,
   "metadata": {},
   "outputs": [
    {
     "data": {
      "text/html": [
       "<div>\n",
       "<style scoped>\n",
       "    .dataframe tbody tr th:only-of-type {\n",
       "        vertical-align: middle;\n",
       "    }\n",
       "\n",
       "    .dataframe tbody tr th {\n",
       "        vertical-align: top;\n",
       "    }\n",
       "\n",
       "    .dataframe thead th {\n",
       "        text-align: right;\n",
       "    }\n",
       "</style>\n",
       "<table border=\"1\" class=\"dataframe\">\n",
       "  <thead>\n",
       "    <tr style=\"text-align: right;\">\n",
       "      <th></th>\n",
       "      <th>Teks Postingan / Comment</th>\n",
       "      <th>Tingkatan Bahasa/Sor Singgih</th>\n",
       "    </tr>\n",
       "  </thead>\n",
       "  <tbody>\n",
       "    <tr>\n",
       "      <th>0</th>\n",
       "      <td>@gnyrs Kalau kantor Gubernurnya mimin nenten t...</td>\n",
       "      <td>Alus Madia</td>\n",
       "    </tr>\n",
       "    <tr>\n",
       "      <th>1</th>\n",
       "      <td>@mangabdiii munyi gen wi besik ne</td>\n",
       "      <td>Basa Andap</td>\n",
       "    </tr>\n",
       "    <tr>\n",
       "      <th>2</th>\n",
       "      <td>Yen di desan nyama patuh masih nyambat \"pang j...</td>\n",
       "      <td>Basa Andap</td>\n",
       "    </tr>\n",
       "    <tr>\n",
       "      <th>3</th>\n",
       "      <td>@mangpink84 Nggih pateh taler nganggen ra repa 🙏</td>\n",
       "      <td>Alus Mider</td>\n",
       "    </tr>\n",
       "    <tr>\n",
       "      <th>4</th>\n",
       "      <td>Om swastiastu, nyama sareng sami 🙏🏻\\n Kenken k...</td>\n",
       "      <td>NaN</td>\n",
       "    </tr>\n",
       "    <tr>\n",
       "      <th>...</th>\n",
       "      <td>...</td>\n",
       "      <td>...</td>\n",
       "    </tr>\n",
       "    <tr>\n",
       "      <th>1353</th>\n",
       "      <td>1. Kalimat alus singgih memiliki rasa bahasa y...</td>\n",
       "      <td>NaN</td>\n",
       "    </tr>\n",
       "    <tr>\n",
       "      <th>1354</th>\n",
       "      <td>2. Kalimat alus sor merupakan kalimat yang ras...</td>\n",
       "      <td>NaN</td>\n",
       "    </tr>\n",
       "    <tr>\n",
       "      <th>1355</th>\n",
       "      <td>3. Kalimat alus madia merupakan kalimat yang m...</td>\n",
       "      <td>NaN</td>\n",
       "    </tr>\n",
       "    <tr>\n",
       "      <th>1356</th>\n",
       "      <td>4. Kalimat alus mider merupakan kalimat yang r...</td>\n",
       "      <td>NaN</td>\n",
       "    </tr>\n",
       "    <tr>\n",
       "      <th>1357</th>\n",
       "      <td>5. Kalimat basa andap merupakan rasa bahasanya...</td>\n",
       "      <td>NaN</td>\n",
       "    </tr>\n",
       "  </tbody>\n",
       "</table>\n",
       "<p>1358 rows × 2 columns</p>\n",
       "</div>"
      ],
      "text/plain": [
       "                               Teks Postingan / Comment  \\\n",
       "0     @gnyrs Kalau kantor Gubernurnya mimin nenten t...   \n",
       "1                     @mangabdiii munyi gen wi besik ne   \n",
       "2     Yen di desan nyama patuh masih nyambat \"pang j...   \n",
       "3      @mangpink84 Nggih pateh taler nganggen ra repa 🙏   \n",
       "4     Om swastiastu, nyama sareng sami 🙏🏻\\n Kenken k...   \n",
       "...                                                 ...   \n",
       "1353  1. Kalimat alus singgih memiliki rasa bahasa y...   \n",
       "1354  2. Kalimat alus sor merupakan kalimat yang ras...   \n",
       "1355  3. Kalimat alus madia merupakan kalimat yang m...   \n",
       "1356  4. Kalimat alus mider merupakan kalimat yang r...   \n",
       "1357  5. Kalimat basa andap merupakan rasa bahasanya...   \n",
       "\n",
       "     Tingkatan Bahasa/Sor Singgih  \n",
       "0                      Alus Madia  \n",
       "1                      Basa Andap  \n",
       "2                      Basa Andap  \n",
       "3                      Alus Mider  \n",
       "4                             NaN  \n",
       "...                           ...  \n",
       "1353                          NaN  \n",
       "1354                          NaN  \n",
       "1355                          NaN  \n",
       "1356                          NaN  \n",
       "1357                          NaN  \n",
       "\n",
       "[1358 rows x 2 columns]"
      ]
     },
     "execution_count": 4,
     "metadata": {},
     "output_type": "execute_result"
    }
   ],
   "source": [
    "df"
   ]
  },
  {
   "cell_type": "markdown",
   "metadata": {},
   "source": [
    "## Data Preprocessing"
   ]
  },
  {
   "cell_type": "code",
   "execution_count": 5,
   "metadata": {},
   "outputs": [
    {
     "name": "stdout",
     "output_type": "stream",
     "text": [
      "<class 'pandas.core.frame.DataFrame'>\n",
      "RangeIndex: 1358 entries, 0 to 1357\n",
      "Data columns (total 2 columns):\n",
      " #   Column                        Non-Null Count  Dtype \n",
      "---  ------                        --------------  ----- \n",
      " 0   Teks Postingan / Comment      1357 non-null   object\n",
      " 1   Tingkatan Bahasa/Sor Singgih  1340 non-null   object\n",
      "dtypes: object(2)\n",
      "memory usage: 21.3+ KB\n"
     ]
    }
   ],
   "source": [
    "df.info()"
   ]
  },
  {
   "cell_type": "code",
   "execution_count": 6,
   "metadata": {},
   "outputs": [],
   "source": [
    "df = df.dropna()"
   ]
  },
  {
   "cell_type": "code",
   "execution_count": 7,
   "metadata": {},
   "outputs": [],
   "source": [
    "df = df.rename(columns={\"Teks Postingan / Comment\": \"text\", \"Tingkatan Bahasa/Sor Singgih\": \"label\"})"
   ]
  },
  {
   "cell_type": "code",
   "execution_count": 8,
   "metadata": {},
   "outputs": [
    {
     "data": {
      "text/plain": [
       "['Basa Andap',\n",
       " 'Alus Mider',\n",
       " 'Alus Singgih',\n",
       " 'Alus Madia',\n",
       " 'alus mider',\n",
       " 'Alus Sor',\n",
       " 'basa andap',\n",
       " 'alus madia',\n",
       " 'Basa Andap ',\n",
       " 'Alus Mider ',\n",
       " 'Alus Madya',\n",
       " 'Basa Kasar',\n",
       " 'Basa Kamus',\n",
       " 'Basa Indonesia',\n",
       " 'Kruna Mider',\n",
       " '-',\n",
       " 'Alus mider',\n",
       " 'basa kasar',\n",
       " 'basa madia',\n",
       " 'Alus sor',\n",
       " 'alus sor',\n",
       " 'Bas Andap',\n",
       " 'Campur Kode',\n",
       " 'alus singgih ',\n",
       " 'Akus Madia',\n",
       " 'pakeh: andap, jinah:alus mider, pragina: basa mider, kraras: mider, biang:alus singgih, peken: andap, godel: mider.',\n",
       " 'Suksma bli. Tiang demen ajak konten² basa Bali Alus bli ne😁: Basa Andap, ohh.... Nggih Rahajeng Rahina Pagerwesi bli, Dumogi Rahayu sareng sami 🙏🏻🙏🏻: Alus Madia',\n",
       " 'Alis Singgih',\n",
       " 'Alus singgih',\n",
       " 'Alis Sor',\n",
       " 'Bahasa Pengantar : Alus Singgih. Bahasa isi satua : Basa Andap',\n",
       " 'Alus Andap',\n",
       " 'Mider',\n",
       " 'Basa Kasar Jabag',\n",
       " 'Basa',\n",
       " 'Imba Basa Alus',\n",
       " 'Alus Singggih, Basa Kasar, Basa Andap, Alus Madya, Alus Sor, Alus Singgih',\n",
       " 'Basa Alus Mider',\n",
       " 'Basa Sunda',\n",
       " 'Basa Madia',\n",
       " 'Alus Singih',\n",
       " 'Alus SInggih',\n",
       " 'Basa Mider',\n",
       " 'Bassa Andap',\n",
       " 'alus singgih',\n",
       " 'Basa Andap, Alus Madya',\n",
       " 'Kruna Aran',\n",
       " 'alus madia ',\n",
       " 'basa mider',\n",
       " 'alus mider ',\n",
       " 'bahasa indonesia']"
      ]
     },
     "execution_count": 8,
     "metadata": {},
     "output_type": "execute_result"
    }
   ],
   "source": [
    "df['label'].value_counts().index.tolist()"
   ]
  },
  {
   "cell_type": "code",
   "execution_count": 9,
   "metadata": {},
   "outputs": [],
   "source": [
    "label_mapping = {\n",
    "    \"Basa Andap\": \"basa andap\",\n",
    "    \"Alus Mider\": \"alus mider\",\n",
    "    \"Alus Singgih\": \"alus singgih\",\n",
    "    \"Alus Madia\": \"alus madia\",\n",
    "    \"alus mider\": \"alus mider\",\n",
    "    \"Alus Sor\": \"alus sor\",\n",
    "    \"basa andap\": \"basa andap\",\n",
    "    \"alus madia\": \"alus madia\",\n",
    "    \"Basa Andap \": \"basa andap\",\n",
    "    \"Alus Mider \": \"alus mider\",\n",
    "    \"Alus Madya\": \"alus madia\",\n",
    "    \"Basa Kasar\": \"basa kasar\",\n",
    "    \"Kruna Mider\": \"alus mider\",\n",
    "    \"Alus mider\": \"alus mider\",\n",
    "    \"basa kasar\": \"basa kasar\",\n",
    "    \"basa madia\": \"alus madia\",\n",
    "    \"Alus sor\": \"alus sor\",\n",
    "    \"alus sor\": \"alus sor\",\n",
    "    \"Bas Andap\": \"basa andap\",\n",
    "    \"alus singgih \": \"alus singgih\",\n",
    "    \"Akus Madia\": \"alus madia\",\n",
    "    \"Alis Singgih\": \"alus singgih\",\n",
    "    \"Alus singgih\": \"alus singgih\",\n",
    "    \"Alis Sor\": \"alus sor\",\n",
    "    \"Alus Andap\": \"basa andap\",\n",
    "    \"Mider\": \"alus mider\",\n",
    "    \"Basa Kasar Jabag\": \"basa kasar\",\n",
    "    \"Basa Alus Mider\": \"alus mider\",\n",
    "    \"Basa Madia\": \"alus madia\",\n",
    "    \"Alus Singih\": \"alus singgih\",\n",
    "    \"Alus SInggih\": \"alus singgih\",\n",
    "    \"Basa Mider\": \"alus mider\",\n",
    "    \"Bassa Andap\": \"basa andap\",\n",
    "    \"alus singgih\": \"alus singgih\",\n",
    "    \"alus madia \": \"alus madia\",\n",
    "    \"basa mider\": \"alus mider\",\n",
    "    \"alus mider \": \"alus mider\",\n",
    "}"
   ]
  },
  {
   "cell_type": "code",
   "execution_count": 10,
   "metadata": {},
   "outputs": [
    {
     "data": {
      "text/plain": [
       "label\n",
       "basa andap      549\n",
       "alus mider      326\n",
       "alus madia      181\n",
       "alus singgih    174\n",
       "alus sor         72\n",
       "basa kasar       12\n",
       "Name: count, dtype: int64"
      ]
     },
     "execution_count": 10,
     "metadata": {},
     "output_type": "execute_result"
    }
   ],
   "source": [
    "df['label'] = df['label'].map(label_mapping)\n",
    "df['label'].value_counts()"
   ]
  },
  {
   "cell_type": "code",
   "execution_count": 11,
   "metadata": {},
   "outputs": [
    {
     "data": {
      "text/plain": [
       "label\n",
       "basa andap      40.970149\n",
       "alus mider      24.328358\n",
       "alus madia      13.507463\n",
       "alus singgih    12.985075\n",
       "alus sor         5.373134\n",
       "basa kasar       0.895522\n",
       "Name: count, dtype: float64"
      ]
     },
     "execution_count": 11,
     "metadata": {},
     "output_type": "execute_result"
    }
   ],
   "source": [
    "df['label'].value_counts() * 100 / len(df)"
   ]
  },
  {
   "cell_type": "code",
   "execution_count": 12,
   "metadata": {},
   "outputs": [],
   "source": [
    "label_to_idx = {\n",
    "    \"alus singgih\": 0,\n",
    "    \"alus sor\": 1,\n",
    "    \"alus mider\": 2,\n",
    "    \"alus madia\": 3,\n",
    "    \"basa andap\": 4,\n",
    "    \"basa kasar\": 5,\n",
    "}\n",
    "idx_to_label = {v: k for k, v in label_to_idx.items()}"
   ]
  },
  {
   "cell_type": "code",
   "execution_count": 13,
   "metadata": {},
   "outputs": [],
   "source": [
    "df[\"label\"] = df[\"label\"].map(\n",
    "    label_to_idx\n",
    ")"
   ]
  },
  {
   "cell_type": "code",
   "execution_count": 14,
   "metadata": {},
   "outputs": [
    {
     "data": {
      "text/html": [
       "<div>\n",
       "<style scoped>\n",
       "    .dataframe tbody tr th:only-of-type {\n",
       "        vertical-align: middle;\n",
       "    }\n",
       "\n",
       "    .dataframe tbody tr th {\n",
       "        vertical-align: top;\n",
       "    }\n",
       "\n",
       "    .dataframe thead th {\n",
       "        text-align: right;\n",
       "    }\n",
       "</style>\n",
       "<table border=\"1\" class=\"dataframe\">\n",
       "  <thead>\n",
       "    <tr style=\"text-align: right;\">\n",
       "      <th></th>\n",
       "      <th>text</th>\n",
       "      <th>label</th>\n",
       "    </tr>\n",
       "  </thead>\n",
       "  <tbody>\n",
       "    <tr>\n",
       "      <th>0</th>\n",
       "      <td>@gnyrs Kalau kantor Gubernurnya mimin nenten t...</td>\n",
       "      <td>3.0</td>\n",
       "    </tr>\n",
       "    <tr>\n",
       "      <th>1</th>\n",
       "      <td>@mangabdiii munyi gen wi besik ne</td>\n",
       "      <td>4.0</td>\n",
       "    </tr>\n",
       "    <tr>\n",
       "      <th>2</th>\n",
       "      <td>Yen di desan nyama patuh masih nyambat \"pang j...</td>\n",
       "      <td>4.0</td>\n",
       "    </tr>\n",
       "    <tr>\n",
       "      <th>3</th>\n",
       "      <td>@mangpink84 Nggih pateh taler nganggen ra repa 🙏</td>\n",
       "      <td>2.0</td>\n",
       "    </tr>\n",
       "    <tr>\n",
       "      <th>5</th>\n",
       "      <td>Rahajeng semenng 🙏\\n \\n #basabali #basabaline ...</td>\n",
       "      <td>2.0</td>\n",
       "    </tr>\n",
       "    <tr>\n",
       "      <th>...</th>\n",
       "      <td>...</td>\n",
       "      <td>...</td>\n",
       "    </tr>\n",
       "    <tr>\n",
       "      <th>1345</th>\n",
       "      <td>Buatin kakak nama komang dimas merta sedana</td>\n",
       "      <td>NaN</td>\n",
       "    </tr>\n",
       "    <tr>\n",
       "      <th>1346</th>\n",
       "      <td>Ngiring mlajah angka Bali, durusang ketik jawa...</td>\n",
       "      <td>3.0</td>\n",
       "    </tr>\n",
       "    <tr>\n",
       "      <th>1347</th>\n",
       "      <td>Becik pisan Baligrafi puniki 😍😍\\n #Repost @rai...</td>\n",
       "      <td>2.0</td>\n",
       "    </tr>\n",
       "    <tr>\n",
       "      <th>1348</th>\n",
       "      <td>#Repost @mlajahbasabali\\n • • • • • •\\n Ngirin...</td>\n",
       "      <td>2.0</td>\n",
       "    </tr>\n",
       "    <tr>\n",
       "      <th>1349</th>\n",
       "      <td>Ngiring Malajah Aksara Bali\\n \\n #Repost @peny...</td>\n",
       "      <td>2.0</td>\n",
       "    </tr>\n",
       "  </tbody>\n",
       "</table>\n",
       "<p>1340 rows × 2 columns</p>\n",
       "</div>"
      ],
      "text/plain": [
       "                                                   text  label\n",
       "0     @gnyrs Kalau kantor Gubernurnya mimin nenten t...    3.0\n",
       "1                     @mangabdiii munyi gen wi besik ne    4.0\n",
       "2     Yen di desan nyama patuh masih nyambat \"pang j...    4.0\n",
       "3      @mangpink84 Nggih pateh taler nganggen ra repa 🙏    2.0\n",
       "5     Rahajeng semenng 🙏\\n \\n #basabali #basabaline ...    2.0\n",
       "...                                                 ...    ...\n",
       "1345        Buatin kakak nama komang dimas merta sedana    NaN\n",
       "1346  Ngiring mlajah angka Bali, durusang ketik jawa...    3.0\n",
       "1347  Becik pisan Baligrafi puniki 😍😍\\n #Repost @rai...    2.0\n",
       "1348  #Repost @mlajahbasabali\\n • • • • • •\\n Ngirin...    2.0\n",
       "1349  Ngiring Malajah Aksara Bali\\n \\n #Repost @peny...    2.0\n",
       "\n",
       "[1340 rows x 2 columns]"
      ]
     },
     "execution_count": 14,
     "metadata": {},
     "output_type": "execute_result"
    }
   ],
   "source": [
    "df"
   ]
  },
  {
   "cell_type": "code",
   "execution_count": 15,
   "metadata": {},
   "outputs": [
    {
     "data": {
      "text/html": [
       "<div>\n",
       "<style scoped>\n",
       "    .dataframe tbody tr th:only-of-type {\n",
       "        vertical-align: middle;\n",
       "    }\n",
       "\n",
       "    .dataframe tbody tr th {\n",
       "        vertical-align: top;\n",
       "    }\n",
       "\n",
       "    .dataframe thead th {\n",
       "        text-align: right;\n",
       "    }\n",
       "</style>\n",
       "<table border=\"1\" class=\"dataframe\">\n",
       "  <thead>\n",
       "    <tr style=\"text-align: right;\">\n",
       "      <th></th>\n",
       "      <th>text</th>\n",
       "      <th>label</th>\n",
       "    </tr>\n",
       "  </thead>\n",
       "  <tbody>\n",
       "    <tr>\n",
       "      <th>0</th>\n",
       "      <td>@gnyrs Kalau kantor Gubernurnya mimin nenten t...</td>\n",
       "      <td>3.0</td>\n",
       "    </tr>\n",
       "    <tr>\n",
       "      <th>1</th>\n",
       "      <td>@mangabdiii munyi gen wi besik ne</td>\n",
       "      <td>4.0</td>\n",
       "    </tr>\n",
       "    <tr>\n",
       "      <th>2</th>\n",
       "      <td>Yen di desan nyama patuh masih nyambat \"pang j...</td>\n",
       "      <td>4.0</td>\n",
       "    </tr>\n",
       "    <tr>\n",
       "      <th>3</th>\n",
       "      <td>@mangpink84 Nggih pateh taler nganggen ra repa 🙏</td>\n",
       "      <td>2.0</td>\n",
       "    </tr>\n",
       "    <tr>\n",
       "      <th>5</th>\n",
       "      <td>Rahajeng semenng 🙏\\n \\n #basabali #basabaline ...</td>\n",
       "      <td>2.0</td>\n",
       "    </tr>\n",
       "    <tr>\n",
       "      <th>...</th>\n",
       "      <td>...</td>\n",
       "      <td>...</td>\n",
       "    </tr>\n",
       "    <tr>\n",
       "      <th>1344</th>\n",
       "      <td>#Repost @mlajahbasabali\\n • • • • • •\\n wenten...</td>\n",
       "      <td>3.0</td>\n",
       "    </tr>\n",
       "    <tr>\n",
       "      <th>1346</th>\n",
       "      <td>Ngiring mlajah angka Bali, durusang ketik jawa...</td>\n",
       "      <td>3.0</td>\n",
       "    </tr>\n",
       "    <tr>\n",
       "      <th>1347</th>\n",
       "      <td>Becik pisan Baligrafi puniki 😍😍\\n #Repost @rai...</td>\n",
       "      <td>2.0</td>\n",
       "    </tr>\n",
       "    <tr>\n",
       "      <th>1348</th>\n",
       "      <td>#Repost @mlajahbasabali\\n • • • • • •\\n Ngirin...</td>\n",
       "      <td>2.0</td>\n",
       "    </tr>\n",
       "    <tr>\n",
       "      <th>1349</th>\n",
       "      <td>Ngiring Malajah Aksara Bali\\n \\n #Repost @peny...</td>\n",
       "      <td>2.0</td>\n",
       "    </tr>\n",
       "  </tbody>\n",
       "</table>\n",
       "<p>1314 rows × 2 columns</p>\n",
       "</div>"
      ],
      "text/plain": [
       "                                                   text  label\n",
       "0     @gnyrs Kalau kantor Gubernurnya mimin nenten t...    3.0\n",
       "1                     @mangabdiii munyi gen wi besik ne    4.0\n",
       "2     Yen di desan nyama patuh masih nyambat \"pang j...    4.0\n",
       "3      @mangpink84 Nggih pateh taler nganggen ra repa 🙏    2.0\n",
       "5     Rahajeng semenng 🙏\\n \\n #basabali #basabaline ...    2.0\n",
       "...                                                 ...    ...\n",
       "1344  #Repost @mlajahbasabali\\n • • • • • •\\n wenten...    3.0\n",
       "1346  Ngiring mlajah angka Bali, durusang ketik jawa...    3.0\n",
       "1347  Becik pisan Baligrafi puniki 😍😍\\n #Repost @rai...    2.0\n",
       "1348  #Repost @mlajahbasabali\\n • • • • • •\\n Ngirin...    2.0\n",
       "1349  Ngiring Malajah Aksara Bali\\n \\n #Repost @peny...    2.0\n",
       "\n",
       "[1314 rows x 2 columns]"
      ]
     },
     "execution_count": 15,
     "metadata": {},
     "output_type": "execute_result"
    }
   ],
   "source": [
    "df.dropna()"
   ]
  },
  {
   "cell_type": "code",
   "execution_count": 16,
   "metadata": {},
   "outputs": [],
   "source": [
    "# remove mention and hastag\n",
    "def clean_text(text: str) -> str:\n",
    "    cleaned_text = re.sub(r\"(@\\w+|#\\w+)\", \"\", text).strip()\n",
    "    # keep only alphabet and space\n",
    "    cleaned_text = re.sub(r\"[^a-zA-Z\\s]\", \"\", cleaned_text)\n",
    "    # remove multiple spaces\n",
    "    cleaned_text = re.sub(r\"\\s+\", \" \", cleaned_text)\n",
    "    cleaned_text = cleaned_text.strip()\n",
    "    cleaned_text = cleaned_text.lower()\n",
    "    return cleaned_text\n",
    "\n",
    "\n",
    "def remove_template(text: str) -> str:\n",
    "    template_list = [\n",
    " \"\"\"🙏 Elingang like, follow lan share instagram @bahasa_bali mangda iraga prasida mlajah basa lan aksara Bali sareng-sareng.\n",
    " .....................\n",
    " Ngiring wacén suratan lianan ring belajarbahasabali.com\n",
    " facebook: facebook.com/bahasabalii/\n",
    " youtube: youtube.com/c/BelajarBahasaBalii\"\"\",\n",
    " \"\"\"🙏 Elingang like, follow lan share instagram @bahasa_bali mangda iraga prasida mlajah basa lan aksara Ba🙏 Elingang like, follow lan share instagram @bahasa_bali mangda iraga prasida mlajah basa lan aksara Ba#malajahbahasabalili sareng-sareng.\n",
    " .....................\n",
    " Ngiring wacén suratan lianan ring belajarbahasabali.com\n",
    " facebook: facebook.com/bahasabalii/\n",
    " youtube: youtube.com/c/BelajarBahasaBalii\n",
    " .....................\"\"\",\n",
    " \"\"\" 🙏 Elingang like, follow lan share instagram @bahasa_bali mangda iraga prasida mlajah basa lan aksara Bali sareng-sareng.\n",
    " .....................\n",
    " Ngiring wacén sesuratan lianan ring belajarbahasabali.com\n",
    " instagram: instagram.com/bahasa_bali\n",
    " facebook: facebook.com/bahasabalii\n",
    " youtube: youtube.com/c/BelajarBahasaBalii\"\"\",\n",
    " \"\"\"🙏elingang like, follow lan share instagram @bahasa_bali mangda iraga prasida mlajah basa lan aksara Bali sareng-sareng.\"\"\",\n",
    " \"\"\"🙏elingang like, follow lan share instagram\n",
    " @bahasa_bali mangda iraga prasida mlajah basa lan\n",
    " aksara Bali sareng-sareng.\"\"\",\n",
    "    ]\n",
    "\n",
    "    for template in template_list:\n",
    "        text = text.replace(template, \"\")\n",
    "\n",
    "    return text"
   ]
  },
  {
   "cell_type": "code",
   "execution_count": 17,
   "metadata": {},
   "outputs": [],
   "source": [
    "stemmer = Stemmer()"
   ]
  },
  {
   "cell_type": "code",
   "execution_count": 18,
   "metadata": {},
   "outputs": [
    {
     "data": {
      "text/html": [
       "<div>\n",
       "<style scoped>\n",
       "    .dataframe tbody tr th:only-of-type {\n",
       "        vertical-align: middle;\n",
       "    }\n",
       "\n",
       "    .dataframe tbody tr th {\n",
       "        vertical-align: top;\n",
       "    }\n",
       "\n",
       "    .dataframe thead th {\n",
       "        text-align: right;\n",
       "    }\n",
       "</style>\n",
       "<table border=\"1\" class=\"dataframe\">\n",
       "  <thead>\n",
       "    <tr style=\"text-align: right;\">\n",
       "      <th></th>\n",
       "      <th>text</th>\n",
       "      <th>label</th>\n",
       "    </tr>\n",
       "  </thead>\n",
       "  <tbody>\n",
       "    <tr>\n",
       "      <th>0</th>\n",
       "      <td>@gnyrs Kalau kantor Gubernurnya mimin nenten t...</td>\n",
       "      <td>3.0</td>\n",
       "    </tr>\n",
       "    <tr>\n",
       "      <th>1</th>\n",
       "      <td>@mangabdiii munyi gen wi besik ne</td>\n",
       "      <td>4.0</td>\n",
       "    </tr>\n",
       "    <tr>\n",
       "      <th>2</th>\n",
       "      <td>Yen di desan nyama patuh masih nyambat \"pang j...</td>\n",
       "      <td>4.0</td>\n",
       "    </tr>\n",
       "    <tr>\n",
       "      <th>3</th>\n",
       "      <td>@mangpink84 Nggih pateh taler nganggen ra repa 🙏</td>\n",
       "      <td>2.0</td>\n",
       "    </tr>\n",
       "    <tr>\n",
       "      <th>5</th>\n",
       "      <td>Rahajeng semenng 🙏\\n \\n #basabali #basabaline ...</td>\n",
       "      <td>2.0</td>\n",
       "    </tr>\n",
       "    <tr>\n",
       "      <th>...</th>\n",
       "      <td>...</td>\n",
       "      <td>...</td>\n",
       "    </tr>\n",
       "    <tr>\n",
       "      <th>1345</th>\n",
       "      <td>Buatin kakak nama komang dimas merta sedana</td>\n",
       "      <td>NaN</td>\n",
       "    </tr>\n",
       "    <tr>\n",
       "      <th>1346</th>\n",
       "      <td>Ngiring mlajah angka Bali, durusang ketik jawa...</td>\n",
       "      <td>3.0</td>\n",
       "    </tr>\n",
       "    <tr>\n",
       "      <th>1347</th>\n",
       "      <td>Becik pisan Baligrafi puniki 😍😍\\n #Repost @rai...</td>\n",
       "      <td>2.0</td>\n",
       "    </tr>\n",
       "    <tr>\n",
       "      <th>1348</th>\n",
       "      <td>#Repost @mlajahbasabali\\n • • • • • •\\n Ngirin...</td>\n",
       "      <td>2.0</td>\n",
       "    </tr>\n",
       "    <tr>\n",
       "      <th>1349</th>\n",
       "      <td>Ngiring Malajah Aksara Bali\\n \\n #Repost @peny...</td>\n",
       "      <td>2.0</td>\n",
       "    </tr>\n",
       "  </tbody>\n",
       "</table>\n",
       "<p>1340 rows × 2 columns</p>\n",
       "</div>"
      ],
      "text/plain": [
       "                                                   text  label\n",
       "0     @gnyrs Kalau kantor Gubernurnya mimin nenten t...    3.0\n",
       "1                     @mangabdiii munyi gen wi besik ne    4.0\n",
       "2     Yen di desan nyama patuh masih nyambat \"pang j...    4.0\n",
       "3      @mangpink84 Nggih pateh taler nganggen ra repa 🙏    2.0\n",
       "5     Rahajeng semenng 🙏\\n \\n #basabali #basabaline ...    2.0\n",
       "...                                                 ...    ...\n",
       "1345        Buatin kakak nama komang dimas merta sedana    NaN\n",
       "1346  Ngiring mlajah angka Bali, durusang ketik jawa...    3.0\n",
       "1347  Becik pisan Baligrafi puniki 😍😍\\n #Repost @rai...    2.0\n",
       "1348  #Repost @mlajahbasabali\\n • • • • • •\\n Ngirin...    2.0\n",
       "1349  Ngiring Malajah Aksara Bali\\n \\n #Repost @peny...    2.0\n",
       "\n",
       "[1340 rows x 2 columns]"
      ]
     },
     "execution_count": 18,
     "metadata": {},
     "output_type": "execute_result"
    }
   ],
   "source": [
    "df"
   ]
  },
  {
   "cell_type": "code",
   "execution_count": 19,
   "metadata": {},
   "outputs": [],
   "source": [
    "df['text'] = df['text'].apply(remove_template)\n",
    "df['text'] = df['text'].apply(clean_text)\n",
    "df['text'] = df['text'].apply(lambda x: stemmer.stem(x, correct_spelling=False))"
   ]
  },
  {
   "cell_type": "code",
   "execution_count": 20,
   "metadata": {},
   "outputs": [],
   "source": [
    "df = df.dropna()"
   ]
  },
  {
   "cell_type": "code",
   "execution_count": 21,
   "metadata": {},
   "outputs": [
    {
     "data": {
      "text/html": [
       "<div>\n",
       "<style scoped>\n",
       "    .dataframe tbody tr th:only-of-type {\n",
       "        vertical-align: middle;\n",
       "    }\n",
       "\n",
       "    .dataframe tbody tr th {\n",
       "        vertical-align: top;\n",
       "    }\n",
       "\n",
       "    .dataframe thead th {\n",
       "        text-align: right;\n",
       "    }\n",
       "</style>\n",
       "<table border=\"1\" class=\"dataframe\">\n",
       "  <thead>\n",
       "    <tr style=\"text-align: right;\">\n",
       "      <th></th>\n",
       "      <th>text</th>\n",
       "      <th>label</th>\n",
       "    </tr>\n",
       "  </thead>\n",
       "  <tbody>\n",
       "    <tr>\n",
       "      <th>0</th>\n",
       "      <td>lau kantor gubernurnya mimi nenten tatas uning...</td>\n",
       "      <td>3.0</td>\n",
       "    </tr>\n",
       "    <tr>\n",
       "      <th>1</th>\n",
       "      <td>munyi gen wi besik ne</td>\n",
       "      <td>4.0</td>\n",
       "    </tr>\n",
       "    <tr>\n",
       "      <th>2</th>\n",
       "      <td>yen di desa nyama patuh masih jambat pang joh ra</td>\n",
       "      <td>4.0</td>\n",
       "    </tr>\n",
       "    <tr>\n",
       "      <th>3</th>\n",
       "      <td>nggih pateh taler kangge ra repa</td>\n",
       "      <td>2.0</td>\n",
       "    </tr>\n",
       "    <tr>\n",
       "      <th>5</th>\n",
       "      <td>rahajeng semenng</td>\n",
       "      <td>2.0</td>\n",
       "    </tr>\n",
       "    <tr>\n",
       "      <th>...</th>\n",
       "      <td>...</td>\n",
       "      <td>...</td>\n",
       "    </tr>\n",
       "    <tr>\n",
       "      <th>1344</th>\n",
       "      <td>wenten sane sampun bani kangge aksara bali rin...</td>\n",
       "      <td>3.0</td>\n",
       "    </tr>\n",
       "    <tr>\n",
       "      <th>1346</th>\n",
       "      <td>iring mlajah angka bali durus ketik jawaban ri...</td>\n",
       "      <td>3.0</td>\n",
       "    </tr>\n",
       "    <tr>\n",
       "      <th>1347</th>\n",
       "      <td>becik pisan baligrafi puniki baligrafi singa raja</td>\n",
       "      <td>2.0</td>\n",
       "    </tr>\n",
       "    <tr>\n",
       "      <th>1348</th>\n",
       "      <td>iring malajah aksara bali repost fb made</td>\n",
       "      <td>2.0</td>\n",
       "    </tr>\n",
       "    <tr>\n",
       "      <th>1349</th>\n",
       "      <td>iring malajah aksara bali iring sarengsareng m...</td>\n",
       "      <td>2.0</td>\n",
       "    </tr>\n",
       "  </tbody>\n",
       "</table>\n",
       "<p>1314 rows × 2 columns</p>\n",
       "</div>"
      ],
      "text/plain": [
       "                                                   text  label\n",
       "0     lau kantor gubernurnya mimi nenten tatas uning...    3.0\n",
       "1                                 munyi gen wi besik ne    4.0\n",
       "2      yen di desa nyama patuh masih jambat pang joh ra    4.0\n",
       "3                      nggih pateh taler kangge ra repa    2.0\n",
       "5                                      rahajeng semenng    2.0\n",
       "...                                                 ...    ...\n",
       "1344  wenten sane sampun bani kangge aksara bali rin...    3.0\n",
       "1346  iring mlajah angka bali durus ketik jawaban ri...    3.0\n",
       "1347  becik pisan baligrafi puniki baligrafi singa raja    2.0\n",
       "1348           iring malajah aksara bali repost fb made    2.0\n",
       "1349  iring malajah aksara bali iring sarengsareng m...    2.0\n",
       "\n",
       "[1314 rows x 2 columns]"
      ]
     },
     "execution_count": 21,
     "metadata": {},
     "output_type": "execute_result"
    }
   ],
   "source": [
    "df"
   ]
  },
  {
   "cell_type": "markdown",
   "metadata": {},
   "source": [
    "## Modeling"
   ]
  },
  {
   "cell_type": "markdown",
   "metadata": {},
   "source": [
    "### Hyperparameter Tuning"
   ]
  },
  {
   "cell_type": "code",
   "execution_count": 22,
   "metadata": {},
   "outputs": [],
   "source": [
    "def smote_resampling(X: np.ndarray, y: np.ndarray):\n",
    "    \"\"\"\n",
    "    Apply SMOTE resampling using not majority\n",
    "    \"\"\"\n",
    "    smote = SMOTE(k_neighbors=5, random_state=42)\n",
    "\n",
    "    dict_y = Counter(y)\n",
    "    majority_class = max(dict_y, key=dict_y.get)\n",
    "    max_count = dict_y[majority_class]\n",
    "\n",
    "    percentage_increase = {\n",
    "        cls: round(((max_count - count) / count) * 100)\n",
    "        for cls, count in dict_y.items()\n",
    "        if cls != majority_class\n",
    "    }\n",
    "\n",
    "    smote = SMOTE()\n",
    "    X_train_sampled, y_train_sampled = X, y\n",
    "    for cls, pct in percentage_increase.items():\n",
    "        X_train_sampled, y_train_sampled = smote.fit_resample(\n",
    "            X_train_sampled, y_train_sampled, int(cls), N=pct\n",
    "        )\n",
    "\n",
    "    return X_train_sampled, y_train_sampled\n",
    "\n",
    "\n",
    "def find_best_model(X: np.ndarray, y: np.ndarray, options: dict) -> dict:\n",
    "    progress_bar = tqdm(\n",
    "        total=options.get(\"total\"), desc=\"Searching for best hyperparameters\"\n",
    "    )\n",
    "\n",
    "    best_score = 0\n",
    "    best_params = None\n",
    "\n",
    "    for n_pct_features in options.get(\"n_pct_features\"):\n",
    "        for alpha in options.get(\"alpha\"):\n",
    "            for resample in options.get(\"resample\"):\n",
    "                try:\n",
    "                    X_train = copy.deepcopy(X)\n",
    "                    y_train = copy.deepcopy(y)\n",
    "\n",
    "                    tfidf = TFIDF()\n",
    "                    X_train_tfidf = tfidf.fit_transform(X_train)\n",
    "\n",
    "                    feature_score = chi_square(X_train_tfidf, y_train)\n",
    "                    n_features = int(n_pct_features * X_train_tfidf.shape[1])\n",
    "                    top_features = np.argsort(feature_score)[::-1][:n_features]\n",
    "\n",
    "                    if resample:\n",
    "                        X_train_tfidf, y_train = smote_resampling(\n",
    "                            X_train_tfidf, y_train\n",
    "                        )\n",
    "\n",
    "                    X_train_selected = X_train_tfidf[:, top_features]\n",
    "\n",
    "                    model = MultinomialNB(alpha=alpha)\n",
    "                    model.fit(X_train_selected, y_train)\n",
    "\n",
    "                    cv_score = cross_validation(\n",
    "                        model, X_train_selected, y_train, k_folds=5, random_state=42\n",
    "                    )\n",
    "                    avg_score = np.mean(cv_score)\n",
    "\n",
    "                    if avg_score > best_score:\n",
    "                        best_score = avg_score\n",
    "                        best_params = {\n",
    "                            \"best_score\": best_score,\n",
    "                            \"n_pct_features\": n_pct_features,\n",
    "                            \"n_features\": n_features,\n",
    "                            \"alpha\": alpha,\n",
    "                            \"resample\": resample,\n",
    "                        }\n",
    "                    progress_bar.update(1)\n",
    "                except Exception as e:\n",
    "                    print(e)\n",
    "    progress_bar.close()\n",
    "    return best_params"
   ]
  },
  {
   "cell_type": "code",
   "execution_count": 23,
   "metadata": {},
   "outputs": [],
   "source": [
    "X = df['text'].astype(str)\n",
    "y = df['label']"
   ]
  },
  {
   "cell_type": "code",
   "execution_count": 24,
   "metadata": {},
   "outputs": [],
   "source": [
    "N_PCT_FEATURES_OPTIONS = np.arange(50, 101, 10) / 100 \n",
    "ALPHA_OPTIONS = np.arange(0.0, 1.1, 0.25)\n",
    "RESAMPLE_OPTIONS = np.arange(2)"
   ]
  },
  {
   "cell_type": "code",
   "execution_count": 25,
   "metadata": {},
   "outputs": [],
   "source": [
    "options = {\n",
    "    \"n_pct_features\": N_PCT_FEATURES_OPTIONS,\n",
    "    \"alpha\": ALPHA_OPTIONS,\n",
    "    \"resample\": RESAMPLE_OPTIONS,\n",
    "    \"total\": len(N_PCT_FEATURES_OPTIONS) * len(ALPHA_OPTIONS) * len(RESAMPLE_OPTIONS),\n",
    "}"
   ]
  },
  {
   "cell_type": "code",
   "execution_count": 26,
   "metadata": {},
   "outputs": [],
   "source": [
    "X_train, X_test, y_train, y_test = split_data(\n",
    "    X.to_numpy(), y.to_numpy(), test_size=0.2, random_state=42\n",
    ")"
   ]
  },
  {
   "cell_type": "code",
   "execution_count": 27,
   "metadata": {},
   "outputs": [
    {
     "data": {
      "text/plain": [
       "Counter({np.float64(4.0): 442,\n",
       "         np.float64(2.0): 260,\n",
       "         np.float64(3.0): 144,\n",
       "         np.float64(0.0): 140,\n",
       "         np.float64(1.0): 57,\n",
       "         np.float64(5.0): 9})"
      ]
     },
     "execution_count": 27,
     "metadata": {},
     "output_type": "execute_result"
    }
   ],
   "source": [
    "Counter(y_train)"
   ]
  },
  {
   "cell_type": "code",
   "execution_count": 29,
   "metadata": {},
   "outputs": [
    {
     "name": "stderr",
     "output_type": "stream",
     "text": [
      "Searching for best hyperparameters: 100%|██████████| 60/60 [12:20<00:00, 12.35s/it]\n"
     ]
    },
    {
     "data": {
      "text/plain": [
       "{'best_score': np.float64(0.9091645969744864),\n",
       " 'n_pct_features': np.float64(0.6),\n",
       " 'n_features': 2037,\n",
       " 'alpha': np.float64(0.25),\n",
       " 'resample': np.int64(1)}"
      ]
     },
     "execution_count": 29,
     "metadata": {},
     "output_type": "execute_result"
    }
   ],
   "source": [
    "# BEST_MODEL_CONFIG = find_best_model(X_train, y_train, options)\n",
    "# BEST_MODEL_CONFIG"
   ]
  },
  {
   "cell_type": "code",
   "execution_count": 28,
   "metadata": {},
   "outputs": [],
   "source": [
    "BEST_MODEL_CONFIG = {\n",
    "    \"best_score\": np.float64(0.9091645969744864),\n",
    "    \"n_pct_features\": np.float64(0.6),\n",
    "    \"n_features\": 2037,\n",
    "    \"alpha\": np.float64(0.25),\n",
    "    \"resample\": np.int64(1),\n",
    "}"
   ]
  },
  {
   "cell_type": "markdown",
   "metadata": {},
   "source": [
    "### Best Model"
   ]
  },
  {
   "cell_type": "code",
   "execution_count": 29,
   "metadata": {},
   "outputs": [],
   "source": [
    "tfidf = TFIDF()\n",
    "X_train_tfidf = tfidf.fit_transform(X_train)\n",
    "X_test_tfidf = tfidf.transform(X_test)"
   ]
  },
  {
   "cell_type": "code",
   "execution_count": 30,
   "metadata": {},
   "outputs": [
    {
     "data": {
      "text/plain": [
       "array([3.93846216, 0.89511537, 0.25139719, ..., 1.12244143, 3.90949227,\n",
       "       3.4917151 ])"
      ]
     },
     "execution_count": 30,
     "metadata": {},
     "output_type": "execute_result"
    }
   ],
   "source": [
    "feature_score = chi_square(X_train_tfidf, y_train)\n",
    "feature_score"
   ]
  },
  {
   "cell_type": "code",
   "execution_count": 31,
   "metadata": {},
   "outputs": [
    {
     "data": {
      "text/plain": [
       "2032"
      ]
     },
     "execution_count": 31,
     "metadata": {},
     "output_type": "execute_result"
    }
   ],
   "source": [
    "n_pct_features = BEST_MODEL_CONFIG.get(\"n_pct_features\")\n",
    "n_features = int(n_pct_features * X_train_tfidf.shape[1])\n",
    "top_features = np.argsort(feature_score)[::-1][:n_features]\n",
    "n_features"
   ]
  },
  {
   "cell_type": "code",
   "execution_count": 32,
   "metadata": {},
   "outputs": [],
   "source": [
    "resample = BEST_MODEL_CONFIG.get(\"resample\")\n",
    "if resample:\n",
    "    X_train_sampled, y_train_sampled = smote_resampling(X_train_tfidf, y_train)\n",
    "else:\n",
    "    X_train_sampled, y_train_sampled = X_train_tfidf, y_train"
   ]
  },
  {
   "cell_type": "code",
   "execution_count": 33,
   "metadata": {},
   "outputs": [
    {
     "data": {
      "text/plain": [
       "Counter({np.float64(2.0): 442,\n",
       "         np.float64(4.0): 442,\n",
       "         np.float64(5.0): 441,\n",
       "         np.float64(3.0): 432,\n",
       "         np.float64(0.0): 420,\n",
       "         np.float64(1.0): 399})"
      ]
     },
     "execution_count": 33,
     "metadata": {},
     "output_type": "execute_result"
    }
   ],
   "source": [
    "Counter(y_train_sampled)"
   ]
  },
  {
   "cell_type": "code",
   "execution_count": 34,
   "metadata": {},
   "outputs": [],
   "source": [
    "X_train_selected = X_train_sampled[:, top_features]\n",
    "X_test_selected = X_test_tfidf[:, top_features]"
   ]
  },
  {
   "cell_type": "code",
   "execution_count": 35,
   "metadata": {},
   "outputs": [],
   "source": [
    "mnb = MultinomialNB(alpha=BEST_MODEL_CONFIG.get(\"alpha\"))\n",
    "mnb.fit(X_train_selected, y_train_sampled)"
   ]
  },
  {
   "cell_type": "code",
   "execution_count": 36,
   "metadata": {},
   "outputs": [
    {
     "name": "stdout",
     "output_type": "stream",
     "text": [
      "              precision    recall  f1-score   support\n",
      "\n",
      "         0.0     0.9572    0.9595    0.9584       420\n",
      "         1.0     0.9587    0.9900    0.9741       399\n",
      "         2.0     0.9157    0.9344    0.9250       442\n",
      "         3.0     0.9389    0.9606    0.9497       432\n",
      "         4.0     0.9925    0.9027    0.9455       442\n",
      "         5.0     0.9844    1.0000    0.9921       441\n",
      "\n",
      "    accuracy                         0.9573      2576\n",
      "   macro avg     0.9579    0.9579    0.9575      2576\n",
      "weighted avg     0.9580    0.9573    0.9572      2576\n",
      "\n"
     ]
    }
   ],
   "source": [
    "y_train_pred = mnb.predict(X_train_selected)\n",
    "print(classification_report(y_train_sampled, y_train_pred, digits=4, zero_division=0))"
   ]
  },
  {
   "cell_type": "code",
   "execution_count": 37,
   "metadata": {},
   "outputs": [
    {
     "data": {
      "text/plain": [
       "Counter({np.float64(4.0): 107,\n",
       "         np.float64(2.0): 66,\n",
       "         np.float64(3.0): 37,\n",
       "         np.float64(0.0): 34,\n",
       "         np.float64(1.0): 15,\n",
       "         np.float64(5.0): 3})"
      ]
     },
     "execution_count": 37,
     "metadata": {},
     "output_type": "execute_result"
    }
   ],
   "source": [
    "Counter(y_test)"
   ]
  },
  {
   "cell_type": "code",
   "execution_count": 38,
   "metadata": {},
   "outputs": [
    {
     "name": "stdout",
     "output_type": "stream",
     "text": [
      "              precision    recall  f1-score   support\n",
      "\n",
      "alus singgih     0.3846    0.4412    0.4110        34\n",
      "    alus sor     0.2400    0.4000    0.3000        15\n",
      "  alus mider     0.5781    0.5606    0.5692        66\n",
      "  alus madia     0.3556    0.4324    0.3902        37\n",
      "  basa andap     0.9647    0.7664    0.8542       107\n",
      "  basa kasar     0.5000    0.6667    0.5714         3\n",
      "\n",
      "    accuracy                         0.6031       262\n",
      "   macro avg     0.5038    0.5445    0.5160       262\n",
      "weighted avg     0.6592    0.6031    0.6244       262\n",
      "\n"
     ]
    }
   ],
   "source": [
    "y_test_pred = mnb.predict(X_test_selected)\n",
    "print(\n",
    "    classification_report(\n",
    "        y_test,\n",
    "        y_test_pred,\n",
    "        digits=4,\n",
    "        zero_division=0,\n",
    "        target_names=idx_to_label.values(),\n",
    "    )\n",
    ")"
   ]
  },
  {
   "cell_type": "code",
   "execution_count": 39,
   "metadata": {},
   "outputs": [
    {
     "data": {
      "text/plain": [
       "0.6030534351145038"
      ]
     },
     "execution_count": 39,
     "metadata": {},
     "output_type": "execute_result"
    }
   ],
   "source": [
    "accuracy_score(y_test, y_test_pred)"
   ]
  },
  {
   "cell_type": "code",
   "execution_count": 40,
   "metadata": {},
   "outputs": [
    {
     "data": {
      "text/plain": [
       "array([[15,  4, 10,  5,  0,  0],\n",
       "       [ 2,  6,  3,  4,  0,  0],\n",
       "       [ 7,  4, 37, 16,  2,  0],\n",
       "       [ 5,  9,  6, 16,  1,  0],\n",
       "       [10,  2,  7,  4, 82,  2],\n",
       "       [ 0,  0,  1,  0,  0,  2]])"
      ]
     },
     "execution_count": 40,
     "metadata": {},
     "output_type": "execute_result"
    }
   ],
   "source": [
    "confusion_matrix(y_test, y_test_pred)"
   ]
  },
  {
   "cell_type": "markdown",
   "metadata": {},
   "source": [
    "### Result Analysis"
   ]
  },
  {
   "cell_type": "code",
   "execution_count": 41,
   "metadata": {},
   "outputs": [
    {
     "name": "stdout",
     "output_type": "stream",
     "text": [
      "alus singgih vs alus sor:     68.36\n",
      "alus singgih vs alus mider:   77.43\n",
      "alus singgih vs alus madia:   71.87\n",
      "alus singgih vs basa andap:   67.79\n",
      "alus singgih vs basa kasar:   3.60\n",
      "====================================\n",
      "alus sor vs alus singgih:     76.60\n",
      "alus sor vs alus mider:       84.52\n",
      "alus sor vs alus madia:       81.15\n",
      "alus sor vs basa andap:       73.54\n",
      "alus sor vs basa kasar:       2.95\n",
      "====================================\n",
      "alus mider vs alus singgih:   71.36\n",
      "alus mider vs alus sor:       66.37\n",
      "alus mider vs alus madia:     74.66\n",
      "alus mider vs basa andap:     73.09\n",
      "alus mider vs basa kasar:     3.49\n",
      "====================================\n",
      "alus madia vs alus singgih:   71.99\n",
      "alus madia vs alus sor:       67.39\n",
      "alus madia vs alus mider:     78.16\n",
      "alus madia vs basa andap:     71.24\n",
      "alus madia vs basa kasar:     5.73\n",
      "====================================\n",
      "basa andap vs alus singgih:   49.59\n",
      "basa andap vs alus sor:       40.48\n",
      "basa andap vs alus mider:     57.78\n",
      "basa andap vs alus madia:     51.97\n",
      "basa andap vs basa kasar:     12.98\n",
      "====================================\n",
      "basa kasar vs alus singgih:   16.19\n",
      "basa kasar vs alus sor:       19.89\n",
      "basa kasar vs alus mider:     26.56\n",
      "basa kasar vs alus madia:     22.86\n",
      "basa kasar vs basa andap:     40.95\n",
      "====================================\n"
     ]
    }
   ],
   "source": [
    "for observed in idx_to_label:\n",
    "    for compared in idx_to_label:\n",
    "        if observed == compared:\n",
    "            continue\n",
    "        else:\n",
    "            o_list = (X_test[y_test == observed]).tolist()\n",
    "            c_text = \"\\n\".join(X_train[y_train == compared].tolist())\n",
    "            res = []\n",
    "            for sentence in o_list:\n",
    "                word_split = sentence.split()\n",
    "                total = len(word_split)\n",
    "                count = 0\n",
    "\n",
    "                for i in word_split:\n",
    "                    if i in c_text:\n",
    "                        count += 1\n",
    "                res.append(count / total)\n",
    "            print(\n",
    "                f\"{idx_to_label[observed]} vs {idx_to_label[compared]}:\".ljust(30)\n",
    "                + f\"{np.mean(res)*100:.2f}\"\n",
    "            )\n",
    "    print(\"====================================\")"
   ]
  },
  {
   "cell_type": "markdown",
   "metadata": {},
   "source": [
    "## Inference"
   ]
  },
  {
   "cell_type": "code",
   "execution_count": 42,
   "metadata": {},
   "outputs": [],
   "source": [
    "pipeline = Pipeline(mnb, tfidf, top_features)"
   ]
  },
  {
   "cell_type": "code",
   "execution_count": 43,
   "metadata": {},
   "outputs": [
    {
     "data": {
      "text/plain": [
       "'basa andap'"
      ]
     },
     "execution_count": 43,
     "metadata": {},
     "output_type": "execute_result"
    }
   ],
   "source": [
    "text = \"mai be medaar malu\"\n",
    "text = stemmer.stem(text, correct_spelling=False)\n",
    "idx_to_label[pipeline.predict(text)]"
   ]
  },
  {
   "cell_type": "code",
   "execution_count": 44,
   "metadata": {},
   "outputs": [],
   "source": [
    "pipeline.save(\"model/pipeline.joblib\")"
   ]
  },
  {
   "cell_type": "code",
   "execution_count": 45,
   "metadata": {},
   "outputs": [],
   "source": [
    "loaded_pipeline = joblib.load(\"model/pipeline.joblib\")"
   ]
  },
  {
   "cell_type": "code",
   "execution_count": 46,
   "metadata": {},
   "outputs": [
    {
     "data": {
      "text/plain": [
       "'alus singgih'"
      ]
     },
     "execution_count": 46,
     "metadata": {},
     "output_type": "execute_result"
    }
   ],
   "source": [
    "text = \"ratu durung polih mireng orti punika\"\n",
    "text = stemmer.stem(text, correct_spelling=False)\n",
    "idx_to_label[pipeline.predict(text)]"
   ]
  }
 ],
 "metadata": {
  "kernelspec": {
   "display_name": ".venv",
   "language": "python",
   "name": "python3"
  },
  "language_info": {
   "codemirror_mode": {
    "name": "ipython",
    "version": 3
   },
   "file_extension": ".py",
   "mimetype": "text/x-python",
   "name": "python",
   "nbconvert_exporter": "python",
   "pygments_lexer": "ipython3",
   "version": "3.10.12"
  }
 },
 "nbformat": 4,
 "nbformat_minor": 2
}
