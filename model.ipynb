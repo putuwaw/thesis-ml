{
 "cells": [
  {
   "cell_type": "code",
   "execution_count": 1,
   "metadata": {},
   "outputs": [],
   "source": [
    "import copy\n",
    "import re\n",
    "import random\n",
    "from collections import Counter\n",
    "\n",
    "from notebook import (\n",
    "    TFIDF,\n",
    "    MultinomialNB,\n",
    "    SMOTE,\n",
    "    Pipeline,\n",
    "    chi_square,\n",
    "    split_data,\n",
    "    accuracy_score,\n",
    "    cross_validation,\n",
    ")\n",
    "from linggapy import Stemmer\n",
    "\n",
    "from sklearn.metrics import classification_report, confusion_matrix\n",
    "from tqdm import tqdm\n",
    "\n",
    "import pandas as pd\n",
    "import numpy as np\n",
    "import matplotlib.pyplot as plt\n",
    "import seaborn as sns\n",
    "\n",
    "import joblib"
   ]
  },
  {
   "cell_type": "code",
   "execution_count": 2,
   "metadata": {},
   "outputs": [],
   "source": [
    "pd.set_option(\"display.max_colwidth\", 50)\n",
    "np.random.seed(42)\n",
    "random.seed(42)"
   ]
  },
  {
   "cell_type": "markdown",
   "metadata": {},
   "source": [
    "## Data Collection"
   ]
  },
  {
   "cell_type": "code",
   "execution_count": 3,
   "metadata": {},
   "outputs": [],
   "source": [
    "dataframes = []\n",
    "\n",
    "for i in range(4):\n",
    "    dataframes.append(\n",
    "        pd.read_excel(\n",
    "            f\"dataset/Klasifikasi Tingkatan Bahasa Bali p{i + 1}.xlsx\",\n",
    "            \"Sheet1\",\n",
    "            usecols=[1, 2],\n",
    "        )\n",
    "    )\n",
    "\n",
    "df = pd.concat(dataframes, ignore_index=True)"
   ]
  },
  {
   "cell_type": "code",
   "execution_count": 4,
   "metadata": {},
   "outputs": [
    {
     "data": {
      "application/vnd.microsoft.datawrangler.viewer.v0+json": {
       "columns": [
        {
         "name": "index",
         "rawType": "int64",
         "type": "integer"
        },
        {
         "name": "Teks Postingan / Comment",
         "rawType": "object",
         "type": "unknown"
        },
        {
         "name": "Tingkatan Bahasa/Sor Singgih",
         "rawType": "object",
         "type": "unknown"
        }
       ],
       "conversionMethod": "pd.DataFrame",
       "ref": "530baa3e-3387-42ec-ac0f-6ace05072804",
       "rows": [
        [
         "0",
         "@gnyrs Kalau kantor Gubernurnya mimin nenten tatas uning sapunapi mangkin. Nanging wenten museum Sunda Kecil yg diresmikan 2018 yening nenten iwang, ring ex pelabuhan buleleng.",
         "Alus Madia"
        ],
        [
         "1",
         "@mangabdiii munyi gen wi besik ne",
         "Basa Andap"
        ],
        [
         "2",
         "Yen di desan nyama patuh masih nyambat \"pang joh para\" ?\n \n #bahasadaerahbali #bahasabali #bahasadaerah #bahasabali #basabali #basabaline #belajarbahasabali #palajahanbasabali #pelajaranbahasabali #kontenbahasabali",
         "Basa Andap"
        ],
        [
         "3",
         "@mangpink84 Nggih pateh taler nganggen ra repa 🙏",
         "Alus Mider"
        ],
        [
         "4",
         "Om swastiastu, nyama sareng sami 🙏🏻\n Kenken kabare ?\n \n Lan jawab dumun 😁\n \n #bahasabali #belajarbahasabali #basabali #basabaline #aksarabali #pelajaranbahasabali",
         null
        ],
        [
         "5",
         "Rahajeng semenng 🙏\n \n #basabali #basabaline #bahasabali #belajarbahasabali #bahasabaliseharihari #bahasabalikeren #bahasadaerahbali",
         "Alus Mider"
        ],
        [
         "6",
         "engseb napi enceb? yening engseb mirib care don kelor",
         "Alus Madia"
        ],
        [
         "7",
         "Ngiring macecimpedan, nyama 😍\n \n Sira malih uning conto cecimpedan sane tiosan ? Indayang sambayang ring kolom komentar 🙏\n \n Lan malajah sareng-sareng 😊\n \n #basabaline #basabali #bahasabaliseharihari #kosakatabahasabali #bahasabali #kontenbahasabali #pelajaranbahasabali #tiktokbasabali #belajarbahasabali #bali #kosakatabahasabali",
         "Alus Madia"
        ],
        [
         "8",
         "Nyama, ane cen liunan biune abulih, aijas napi aijeng ?\n 😁😁😁\n \n #basabali #basabaline #bahasabali #belajarbahasabali #pelajaranbahasabali #kosakatabahasabali #bahasabaliseharihari #bahasabalikeren #biu",
         "Basa Andap"
        ],
        [
         "9",
         "@arikd16 Apunya biasane aijeng dogen buah ne 😁",
         "Basa Andap"
        ],
        [
         "10",
         "1. Pakeh 2. Jinah 3. Karna 4. Pragina 5. Kraras 6. Biang 7. Peken8. Godel Maaf kalo salah min😁🙏",
         "pakeh: andap, jinah:alus mider, pragina: basa mider, kraras: mider, biang:alus singgih, peken: andap, godel: mider."
        ],
        [
         "11",
         "Angka ring Bahasa Bali\n \n Simpen dumun nyama anggen malajah maketekan. Nyen nawang mani pesu di ulangane 😁\n \n #basabali #basabaline #bahasabali #belajarbahasabali #angkabali",
         "Basa Andap"
        ],
        [
         "12",
         "Eda ngaden awak bisa 🙏\n \n #kontenbahasabali #bahasabali #belajarbahasabali #pelajaranbahasabali #basabaline #basabali #tembangbali #tembangmacapat #geguritan #pupuh #pupuhginada #edangadenawakbisa",
         "Basa Andap"
        ],
        [
         "13",
         "Punapi gatra, nyama ?\n \n #bahasabali #belajarbahasabali #kontenbahasabali #lesbahasabali #pelajaranbahasadaerahbali #pelajaranbahasabali #bahasabaliseharihari #bahasabaliseharihari #bahasabalikeren #basabali #basabaline",
         "Alus Madia"
        ],
        [
         "14",
         "Om Swastyastu...\n Rahajeng nyanggra rahina suci Galungan nggih semeton 🙏\n \n #rahajenggalungan\n #galungan #basabali #basabaline #belajarbahasabali #bahasabali",
         "Alus Mider"
        ],
        [
         "15",
         "Nyama nyama suba mepatung ?\n \n #bahasabali #belajarbahasabali #basabali #basabaline #tradisibali #mepatung #penampahangalungan",
         "Basa Andap"
        ],
        [
         "16",
         "PARIBASA BALI\n \n Basita Paribasa teges ipun: basa rinengga, punika dados rerasmen wiadin panglengut basa rikala \n mababaosan kalih magegonjakan anggen pasiakranan. Basa rinengga puniki, sakadi piranti pacang ngamedalang daging pakayunan kalih pangarsa, ngangge rerenggan wiadin sasemon indik kahanan kalih laksanan jadma, sane kaimbang ring laksana kalih kahanan barang wiadin buron (simpen,2010:5).\n \n Paribasa Bali yening ring bahasa Indonesia kawastanin Pribahasa. Paribasa Bali wantah sinalih tunggil wangun bebaosan (ungkapan tradisional) sane manggeh kantos mangkin pinaka sarana ngawetuang daging pakayunan sane kawangun antuk sipta (lambing; symbol; kode) sane maendahan manut pangarsa sang sane \n mabaos.\n \n #bahasabali #belajarbahasabali #basabali #paribasabali",
         "Alus Madia"
        ],
        [
         "17",
         "Suksma bli. Tiang demen ajak konten² basa Bali Alus bli ne😁 ohh.... Nggih Rahajeng Rahina Pagerwesi bli, Dumogi Rahayu sareng sami 🙏🏻🙏🏻",
         "Suksma bli. Tiang demen ajak konten² basa Bali Alus bli ne😁: Basa Andap, ohh.... Nggih Rahajeng Rahina Pagerwesi bli, Dumogi Rahayu sareng sami 🙏🏻🙏🏻: Alus Madia"
        ],
        [
         "18",
         "Nyen ne basang bawak ?😁\n \n #basabali #basabaline #bahasabali #belajarbahasabali #kamusbahasabali #lesbasabali #lesbahasabali",
         "Basa Andap"
        ],
        [
         "19",
         "Ledangang Mbok kantun naler malajah, ngiring sareng-sareng malajah mabebasan 🙏😇\n \n #bali #bahasabali #budayabali #budaya",
         "Alus Madia"
        ],
        [
         "20",
         "jeg sekadi pateh niki tresnan titiang sareng jegeg ayu candra......",
         "Alus Madia"
        ],
        [
         "21",
         "Kruna pangentosmejeng I Aji sareng I Biyang ten patut ngangge kruna NYANE. NYANE punika manggeh alus sor.",
         "Alus Madia"
        ],
        [
         "22",
         "Suud mebalih ne,Mare tiang nawang ternyata basa bali nika keweh😢",
         "Basa Andap"
        ],
        [
         "23",
         "@baboya.0202 ngiring sareng sareng malajah mangda sida karasa dangan 😇",
         "Alus mider"
        ],
        [
         "24",
         "Majeng ring semeton sane dados prajuru adat, dumogi mapikenoh nggih 🙏😇",
         "Alus Madia"
        ],
        [
         "25",
         "Yening krame Banjar Boye je semeton Jero.sepatutne Ida dane sane patut.ampura",
         "Alus mider"
        ],
        [
         "26",
         "Becik pisan niki tate base bali 🙏",
         "Alus Madia"
        ],
        [
         "27",
         "Becik pisan tatanan wacananne. Untuk memelihara kauningane puniki becikne lanturang ngripta pustaka wangun gancaran utawi irisan/ puisi.",
         "Alus Madia"
        ],
        [
         "28",
         "Becik pisan satua ne gek 🔥🔥🔥",
         "Alus Sor"
        ],
        [
         "29",
         "Rahajeng gek, punapi gatrane, sampun meduwe gegelan, suksma",
         "Alus Madia"
        ],
        [
         "30",
         "Indik imba bebaosanne madaging maklenting sane pinih ungkur, maka pemanis minab",
         "Alus Madia"
        ],
        [
         "31",
         "Tambahan kidik mogi mapikolih....Ttyg pinaka wala penyeledii keluargan ttyg ( sang sane kni kasungkawan) banget ngelungsur pangampura manawita wenten rii sajeroning kahuripan ipun naenin maparilaksana sne nenten becik, mamargi sne nenten patut, kaon pamargin ipun, tryg nenten lali ngelungsur agung sinampura🙏Dumadak dumadik sangkaning puja pangretitin ida dane sareng sinami, ipun ( sang palatra) pacang digelis mawali maring sangkan paraning sanghyang dumadiAinggih manawita wantah kadi asapunka prasida aturang ttyg, maka pralinaning atur puputang ttyg antuk parama santi🙏🙏",
         "Alus Madia"
        ],
        [
         "32",
         "ring rahina redite mangda sami sampun nenten wenten mekarye😁",
         "Alus Mider"
        ],
        [
         "33",
         "ring Rahina redite becik sekadi punika",
         "Alus Madia"
        ],
        [
         "34",
         "Nyabran rahina.pang tepuk terus😂",
         "Basa Andap"
        ],
        [
         "35",
         "Cumpu ring rahina redite wengi",
         "Alus Mider"
        ],
        [
         "36",
         "Saniscare utawi redite becik nike, sakewanten dauh/jam yen mresidayang sore/wengi.",
         "Alus Madia"
        ],
        [
         "37",
         "Yen wenten galah becikne ping kalih, nyabran redite lan nyabran caniscara, rahayu 🙏",
         "Alus Madia"
        ],
        [
         "38",
         "Becikne saking titiang Niki, galah saniscare sore utawi dados redite sore. Sukma.",
         "Alus Madia"
        ],
        [
         "39",
         "Nyarengin .tiang galah ten wenten piambeng..",
         "Alus Madia"
        ],
        [
         "40",
         "Salken gek aduh tiang seneng pisan ken gek ngeraos basa bali alus,dados nunas wa gek?",
         null
        ],
        [
         "41",
         "Nyabran redite sane becik nggih,,?",
         "Alus Madia"
        ],
        [
         "42",
         "Ring dija titiang numbas bukune punika mbok?",
         "Alus Madia"
        ],
        [
         "43",
         "Suba baru barangne jni wih",
         "Basa Andap"
        ],
        [
         "44",
         "@dettyasaridewi nenten wenten galah kasepan jagi malajah 😇",
         "Alus Mider"
        ],
        [
         "45",
         "Jek tis sjan kuping tyang'e ningeh munyi mbok'e noux😁",
         "Basa Andap"
        ],
        [
         "46",
         "Sane ngawentenang odalan sane mangkin nenten malih ajerih yening jagi ngwehin sambramawacana \n \n #bahasabali #budayabali #bali #budaya #belajarbahasabali",
         "Alus Singgih"
        ],
        [
         "47",
         "Suksema semeton inggian napi sane sampun keodar mantuk semetonTangkas",
         "Alus Madia"
        ],
        [
         "48",
         "Suksma mok jegeg... sampun micayang pepelajahan mebase bali alus ring sikian titiang... dumogi benjang pungkur wenten malih pepelajahan sane tiosan",
         "Alus Singgih"
        ],
        [
         "49",
         "Nunas dening sambrama wecana ring acara pewiwahan",
         "Alus Mider"
        ]
       ],
       "shape": {
        "columns": 2,
        "rows": 1358
       }
      },
      "text/html": [
       "<div>\n",
       "<style scoped>\n",
       "    .dataframe tbody tr th:only-of-type {\n",
       "        vertical-align: middle;\n",
       "    }\n",
       "\n",
       "    .dataframe tbody tr th {\n",
       "        vertical-align: top;\n",
       "    }\n",
       "\n",
       "    .dataframe thead th {\n",
       "        text-align: right;\n",
       "    }\n",
       "</style>\n",
       "<table border=\"1\" class=\"dataframe\">\n",
       "  <thead>\n",
       "    <tr style=\"text-align: right;\">\n",
       "      <th></th>\n",
       "      <th>Teks Postingan / Comment</th>\n",
       "      <th>Tingkatan Bahasa/Sor Singgih</th>\n",
       "    </tr>\n",
       "  </thead>\n",
       "  <tbody>\n",
       "    <tr>\n",
       "      <th>0</th>\n",
       "      <td>@gnyrs Kalau kantor Gubernurnya mimin nenten t...</td>\n",
       "      <td>Alus Madia</td>\n",
       "    </tr>\n",
       "    <tr>\n",
       "      <th>1</th>\n",
       "      <td>@mangabdiii munyi gen wi besik ne</td>\n",
       "      <td>Basa Andap</td>\n",
       "    </tr>\n",
       "    <tr>\n",
       "      <th>2</th>\n",
       "      <td>Yen di desan nyama patuh masih nyambat \"pang j...</td>\n",
       "      <td>Basa Andap</td>\n",
       "    </tr>\n",
       "    <tr>\n",
       "      <th>3</th>\n",
       "      <td>@mangpink84 Nggih pateh taler nganggen ra repa 🙏</td>\n",
       "      <td>Alus Mider</td>\n",
       "    </tr>\n",
       "    <tr>\n",
       "      <th>4</th>\n",
       "      <td>Om swastiastu, nyama sareng sami 🙏🏻\\n Kenken k...</td>\n",
       "      <td>NaN</td>\n",
       "    </tr>\n",
       "    <tr>\n",
       "      <th>...</th>\n",
       "      <td>...</td>\n",
       "      <td>...</td>\n",
       "    </tr>\n",
       "    <tr>\n",
       "      <th>1353</th>\n",
       "      <td>1. Kalimat alus singgih memiliki rasa bahasa y...</td>\n",
       "      <td>NaN</td>\n",
       "    </tr>\n",
       "    <tr>\n",
       "      <th>1354</th>\n",
       "      <td>2. Kalimat alus sor merupakan kalimat yang ras...</td>\n",
       "      <td>NaN</td>\n",
       "    </tr>\n",
       "    <tr>\n",
       "      <th>1355</th>\n",
       "      <td>3. Kalimat alus madia merupakan kalimat yang m...</td>\n",
       "      <td>NaN</td>\n",
       "    </tr>\n",
       "    <tr>\n",
       "      <th>1356</th>\n",
       "      <td>4. Kalimat alus mider merupakan kalimat yang r...</td>\n",
       "      <td>NaN</td>\n",
       "    </tr>\n",
       "    <tr>\n",
       "      <th>1357</th>\n",
       "      <td>5. Kalimat basa andap merupakan rasa bahasanya...</td>\n",
       "      <td>NaN</td>\n",
       "    </tr>\n",
       "  </tbody>\n",
       "</table>\n",
       "<p>1358 rows × 2 columns</p>\n",
       "</div>"
      ],
      "text/plain": [
       "                               Teks Postingan / Comment  \\\n",
       "0     @gnyrs Kalau kantor Gubernurnya mimin nenten t...   \n",
       "1                     @mangabdiii munyi gen wi besik ne   \n",
       "2     Yen di desan nyama patuh masih nyambat \"pang j...   \n",
       "3      @mangpink84 Nggih pateh taler nganggen ra repa 🙏   \n",
       "4     Om swastiastu, nyama sareng sami 🙏🏻\\n Kenken k...   \n",
       "...                                                 ...   \n",
       "1353  1. Kalimat alus singgih memiliki rasa bahasa y...   \n",
       "1354  2. Kalimat alus sor merupakan kalimat yang ras...   \n",
       "1355  3. Kalimat alus madia merupakan kalimat yang m...   \n",
       "1356  4. Kalimat alus mider merupakan kalimat yang r...   \n",
       "1357  5. Kalimat basa andap merupakan rasa bahasanya...   \n",
       "\n",
       "     Tingkatan Bahasa/Sor Singgih  \n",
       "0                      Alus Madia  \n",
       "1                      Basa Andap  \n",
       "2                      Basa Andap  \n",
       "3                      Alus Mider  \n",
       "4                             NaN  \n",
       "...                           ...  \n",
       "1353                          NaN  \n",
       "1354                          NaN  \n",
       "1355                          NaN  \n",
       "1356                          NaN  \n",
       "1357                          NaN  \n",
       "\n",
       "[1358 rows x 2 columns]"
      ]
     },
     "execution_count": 4,
     "metadata": {},
     "output_type": "execute_result"
    }
   ],
   "source": [
    "df"
   ]
  },
  {
   "cell_type": "markdown",
   "metadata": {},
   "source": [
    "## Data Preprocessing"
   ]
  },
  {
   "cell_type": "code",
   "execution_count": 5,
   "metadata": {},
   "outputs": [
    {
     "name": "stdout",
     "output_type": "stream",
     "text": [
      "<class 'pandas.core.frame.DataFrame'>\n",
      "RangeIndex: 1358 entries, 0 to 1357\n",
      "Data columns (total 2 columns):\n",
      " #   Column                        Non-Null Count  Dtype \n",
      "---  ------                        --------------  ----- \n",
      " 0   Teks Postingan / Comment      1357 non-null   object\n",
      " 1   Tingkatan Bahasa/Sor Singgih  1340 non-null   object\n",
      "dtypes: object(2)\n",
      "memory usage: 21.3+ KB\n"
     ]
    }
   ],
   "source": [
    "df.info()"
   ]
  },
  {
   "cell_type": "code",
   "execution_count": 6,
   "metadata": {},
   "outputs": [],
   "source": [
    "df = df.dropna()"
   ]
  },
  {
   "cell_type": "code",
   "execution_count": 7,
   "metadata": {},
   "outputs": [],
   "source": [
    "df = df.rename(\n",
    "    columns={\n",
    "        \"Teks Postingan / Comment\": \"text\",\n",
    "        \"Tingkatan Bahasa/Sor Singgih\": \"label\",\n",
    "    }\n",
    ")"
   ]
  },
  {
   "cell_type": "code",
   "execution_count": 8,
   "metadata": {},
   "outputs": [
    {
     "data": {
      "text/plain": [
       "['Basa Andap',\n",
       " 'Alus Mider',\n",
       " 'Alus Singgih',\n",
       " 'Alus Madia',\n",
       " 'alus mider',\n",
       " 'Alus Sor',\n",
       " 'basa andap',\n",
       " 'alus madia',\n",
       " 'Basa Andap ',\n",
       " 'Alus Mider ',\n",
       " 'Alus Madya',\n",
       " 'Basa Kasar',\n",
       " 'Basa Kamus',\n",
       " 'Basa Indonesia',\n",
       " 'Kruna Mider',\n",
       " '-',\n",
       " 'Alus mider',\n",
       " 'basa kasar',\n",
       " 'basa madia',\n",
       " 'Alus sor',\n",
       " 'alus sor',\n",
       " 'Bas Andap',\n",
       " 'Campur Kode',\n",
       " 'alus singgih ',\n",
       " 'Akus Madia',\n",
       " 'pakeh: andap, jinah:alus mider, pragina: basa mider, kraras: mider, biang:alus singgih, peken: andap, godel: mider.',\n",
       " 'Suksma bli. Tiang demen ajak konten² basa Bali Alus bli ne😁: Basa Andap, ohh.... Nggih Rahajeng Rahina Pagerwesi bli, Dumogi Rahayu sareng sami 🙏🏻🙏🏻: Alus Madia',\n",
       " 'Alis Singgih',\n",
       " 'Alus singgih',\n",
       " 'Alis Sor',\n",
       " 'Bahasa Pengantar : Alus Singgih. Bahasa isi satua : Basa Andap',\n",
       " 'Alus Andap',\n",
       " 'Mider',\n",
       " 'Basa Kasar Jabag',\n",
       " 'Basa',\n",
       " 'Imba Basa Alus',\n",
       " 'Alus Singggih, Basa Kasar, Basa Andap, Alus Madya, Alus Sor, Alus Singgih',\n",
       " 'Basa Alus Mider',\n",
       " 'Basa Sunda',\n",
       " 'Basa Madia',\n",
       " 'Alus Singih',\n",
       " 'Alus SInggih',\n",
       " 'Basa Mider',\n",
       " 'Bassa Andap',\n",
       " 'alus singgih',\n",
       " 'Basa Andap, Alus Madya',\n",
       " 'Kruna Aran',\n",
       " 'alus madia ',\n",
       " 'basa mider',\n",
       " 'alus mider ',\n",
       " 'bahasa indonesia']"
      ]
     },
     "execution_count": 8,
     "metadata": {},
     "output_type": "execute_result"
    }
   ],
   "source": [
    "df[\"label\"].value_counts().index.tolist()"
   ]
  },
  {
   "cell_type": "code",
   "execution_count": 9,
   "metadata": {},
   "outputs": [],
   "source": [
    "label_mapping = {\n",
    "    \"Basa Andap\": \"basa andap\",\n",
    "    \"Alus Mider\": \"alus mider\",\n",
    "    \"Alus Singgih\": \"alus singgih\",\n",
    "    \"Alus Madia\": \"alus madia\",\n",
    "    \"alus mider\": \"alus mider\",\n",
    "    \"Alus Sor\": \"alus sor\",\n",
    "    \"basa andap\": \"basa andap\",\n",
    "    \"alus madia\": \"alus madia\",\n",
    "    \"Basa Andap \": \"basa andap\",\n",
    "    \"Alus Mider \": \"alus mider\",\n",
    "    \"Alus Madya\": \"alus madia\",\n",
    "    \"Basa Kasar\": \"basa kasar\",\n",
    "    \"Kruna Mider\": \"alus mider\",\n",
    "    \"Alus mider\": \"alus mider\",\n",
    "    \"basa kasar\": \"basa kasar\",\n",
    "    \"basa madia\": \"alus madia\",\n",
    "    \"Alus sor\": \"alus sor\",\n",
    "    \"alus sor\": \"alus sor\",\n",
    "    \"Bas Andap\": \"basa andap\",\n",
    "    \"alus singgih \": \"alus singgih\",\n",
    "    \"Akus Madia\": \"alus madia\",\n",
    "    \"Alis Singgih\": \"alus singgih\",\n",
    "    \"Alus singgih\": \"alus singgih\",\n",
    "    \"Alis Sor\": \"alus sor\",\n",
    "    \"Alus Andap\": \"basa andap\",\n",
    "    \"Mider\": \"alus mider\",\n",
    "    \"Basa Kasar Jabag\": \"basa kasar\",\n",
    "    \"Basa Alus Mider\": \"alus mider\",\n",
    "    \"Basa Madia\": \"alus madia\",\n",
    "    \"Alus Singih\": \"alus singgih\",\n",
    "    \"Alus SInggih\": \"alus singgih\",\n",
    "    \"Basa Mider\": \"alus mider\",\n",
    "    \"Bassa Andap\": \"basa andap\",\n",
    "    \"alus singgih\": \"alus singgih\",\n",
    "    \"alus madia \": \"alus madia\",\n",
    "    \"basa mider\": \"alus mider\",\n",
    "    \"alus mider \": \"alus mider\",\n",
    "}"
   ]
  },
  {
   "cell_type": "code",
   "execution_count": 10,
   "metadata": {},
   "outputs": [
    {
     "data": {
      "text/plain": [
       "label\n",
       "basa andap      549\n",
       "alus mider      326\n",
       "alus madia      181\n",
       "alus singgih    174\n",
       "alus sor         72\n",
       "basa kasar       12\n",
       "Name: count, dtype: int64"
      ]
     },
     "execution_count": 10,
     "metadata": {},
     "output_type": "execute_result"
    }
   ],
   "source": [
    "df[\"label\"] = df[\"label\"].map(label_mapping)\n",
    "df[\"label\"].value_counts()"
   ]
  },
  {
   "cell_type": "code",
   "execution_count": 11,
   "metadata": {},
   "outputs": [
    {
     "data": {
      "text/plain": [
       "label\n",
       "basa andap      40.970149\n",
       "alus mider      24.328358\n",
       "alus madia      13.507463\n",
       "alus singgih    12.985075\n",
       "alus sor         5.373134\n",
       "basa kasar       0.895522\n",
       "Name: count, dtype: float64"
      ]
     },
     "execution_count": 11,
     "metadata": {},
     "output_type": "execute_result"
    }
   ],
   "source": [
    "df[\"label\"].value_counts() * 100 / len(df)"
   ]
  },
  {
   "cell_type": "code",
   "execution_count": 12,
   "metadata": {},
   "outputs": [],
   "source": [
    "label_to_idx = {\n",
    "    \"alus singgih\": 0,\n",
    "    \"alus sor\": 1,\n",
    "    \"alus mider\": 2,\n",
    "    \"alus madia\": 3,\n",
    "    \"basa andap\": 4,\n",
    "    \"basa kasar\": 5,\n",
    "}\n",
    "idx_to_label = {v: k for k, v in label_to_idx.items()}"
   ]
  },
  {
   "cell_type": "code",
   "execution_count": 13,
   "metadata": {},
   "outputs": [],
   "source": [
    "df[\"label\"] = df[\"label\"].map(label_to_idx)"
   ]
  },
  {
   "cell_type": "code",
   "execution_count": 14,
   "metadata": {},
   "outputs": [
    {
     "data": {
      "application/vnd.microsoft.datawrangler.viewer.v0+json": {
       "columns": [
        {
         "name": "index",
         "rawType": "int64",
         "type": "integer"
        },
        {
         "name": "text",
         "rawType": "object",
         "type": "string"
        },
        {
         "name": "label",
         "rawType": "float64",
         "type": "float"
        }
       ],
       "conversionMethod": "pd.DataFrame",
       "ref": "8af63549-04f0-4e80-aa15-524922e5a160",
       "rows": [
        [
         "0",
         "@gnyrs Kalau kantor Gubernurnya mimin nenten tatas uning sapunapi mangkin. Nanging wenten museum Sunda Kecil yg diresmikan 2018 yening nenten iwang, ring ex pelabuhan buleleng.",
         "3.0"
        ],
        [
         "1",
         "@mangabdiii munyi gen wi besik ne",
         "4.0"
        ],
        [
         "2",
         "Yen di desan nyama patuh masih nyambat \"pang joh para\" ?\n \n #bahasadaerahbali #bahasabali #bahasadaerah #bahasabali #basabali #basabaline #belajarbahasabali #palajahanbasabali #pelajaranbahasabali #kontenbahasabali",
         "4.0"
        ],
        [
         "3",
         "@mangpink84 Nggih pateh taler nganggen ra repa 🙏",
         "2.0"
        ],
        [
         "5",
         "Rahajeng semenng 🙏\n \n #basabali #basabaline #bahasabali #belajarbahasabali #bahasabaliseharihari #bahasabalikeren #bahasadaerahbali",
         "2.0"
        ],
        [
         "6",
         "engseb napi enceb? yening engseb mirib care don kelor",
         "3.0"
        ],
        [
         "7",
         "Ngiring macecimpedan, nyama 😍\n \n Sira malih uning conto cecimpedan sane tiosan ? Indayang sambayang ring kolom komentar 🙏\n \n Lan malajah sareng-sareng 😊\n \n #basabaline #basabali #bahasabaliseharihari #kosakatabahasabali #bahasabali #kontenbahasabali #pelajaranbahasabali #tiktokbasabali #belajarbahasabali #bali #kosakatabahasabali",
         "3.0"
        ],
        [
         "8",
         "Nyama, ane cen liunan biune abulih, aijas napi aijeng ?\n 😁😁😁\n \n #basabali #basabaline #bahasabali #belajarbahasabali #pelajaranbahasabali #kosakatabahasabali #bahasabaliseharihari #bahasabalikeren #biu",
         "4.0"
        ],
        [
         "9",
         "@arikd16 Apunya biasane aijeng dogen buah ne 😁",
         "4.0"
        ],
        [
         "10",
         "1. Pakeh 2. Jinah 3. Karna 4. Pragina 5. Kraras 6. Biang 7. Peken8. Godel Maaf kalo salah min😁🙏",
         null
        ],
        [
         "11",
         "Angka ring Bahasa Bali\n \n Simpen dumun nyama anggen malajah maketekan. Nyen nawang mani pesu di ulangane 😁\n \n #basabali #basabaline #bahasabali #belajarbahasabali #angkabali",
         "4.0"
        ],
        [
         "12",
         "Eda ngaden awak bisa 🙏\n \n #kontenbahasabali #bahasabali #belajarbahasabali #pelajaranbahasabali #basabaline #basabali #tembangbali #tembangmacapat #geguritan #pupuh #pupuhginada #edangadenawakbisa",
         "4.0"
        ],
        [
         "13",
         "Punapi gatra, nyama ?\n \n #bahasabali #belajarbahasabali #kontenbahasabali #lesbahasabali #pelajaranbahasadaerahbali #pelajaranbahasabali #bahasabaliseharihari #bahasabaliseharihari #bahasabalikeren #basabali #basabaline",
         "3.0"
        ],
        [
         "14",
         "Om Swastyastu...\n Rahajeng nyanggra rahina suci Galungan nggih semeton 🙏\n \n #rahajenggalungan\n #galungan #basabali #basabaline #belajarbahasabali #bahasabali",
         "2.0"
        ],
        [
         "15",
         "Nyama nyama suba mepatung ?\n \n #bahasabali #belajarbahasabali #basabali #basabaline #tradisibali #mepatung #penampahangalungan",
         "4.0"
        ],
        [
         "16",
         "PARIBASA BALI\n \n Basita Paribasa teges ipun: basa rinengga, punika dados rerasmen wiadin panglengut basa rikala \n mababaosan kalih magegonjakan anggen pasiakranan. Basa rinengga puniki, sakadi piranti pacang ngamedalang daging pakayunan kalih pangarsa, ngangge rerenggan wiadin sasemon indik kahanan kalih laksanan jadma, sane kaimbang ring laksana kalih kahanan barang wiadin buron (simpen,2010:5).\n \n Paribasa Bali yening ring bahasa Indonesia kawastanin Pribahasa. Paribasa Bali wantah sinalih tunggil wangun bebaosan (ungkapan tradisional) sane manggeh kantos mangkin pinaka sarana ngawetuang daging pakayunan sane kawangun antuk sipta (lambing; symbol; kode) sane maendahan manut pangarsa sang sane \n mabaos.\n \n #bahasabali #belajarbahasabali #basabali #paribasabali",
         "3.0"
        ],
        [
         "17",
         "Suksma bli. Tiang demen ajak konten² basa Bali Alus bli ne😁 ohh.... Nggih Rahajeng Rahina Pagerwesi bli, Dumogi Rahayu sareng sami 🙏🏻🙏🏻",
         null
        ],
        [
         "18",
         "Nyen ne basang bawak ?😁\n \n #basabali #basabaline #bahasabali #belajarbahasabali #kamusbahasabali #lesbasabali #lesbahasabali",
         "4.0"
        ],
        [
         "19",
         "Ledangang Mbok kantun naler malajah, ngiring sareng-sareng malajah mabebasan 🙏😇\n \n #bali #bahasabali #budayabali #budaya",
         "3.0"
        ],
        [
         "20",
         "jeg sekadi pateh niki tresnan titiang sareng jegeg ayu candra......",
         "3.0"
        ],
        [
         "21",
         "Kruna pangentosmejeng I Aji sareng I Biyang ten patut ngangge kruna NYANE. NYANE punika manggeh alus sor.",
         "3.0"
        ],
        [
         "22",
         "Suud mebalih ne,Mare tiang nawang ternyata basa bali nika keweh😢",
         "4.0"
        ],
        [
         "23",
         "@baboya.0202 ngiring sareng sareng malajah mangda sida karasa dangan 😇",
         "2.0"
        ],
        [
         "24",
         "Majeng ring semeton sane dados prajuru adat, dumogi mapikenoh nggih 🙏😇",
         "3.0"
        ],
        [
         "25",
         "Yening krame Banjar Boye je semeton Jero.sepatutne Ida dane sane patut.ampura",
         "2.0"
        ],
        [
         "26",
         "Becik pisan niki tate base bali 🙏",
         "3.0"
        ],
        [
         "27",
         "Becik pisan tatanan wacananne. Untuk memelihara kauningane puniki becikne lanturang ngripta pustaka wangun gancaran utawi irisan/ puisi.",
         "3.0"
        ],
        [
         "28",
         "Becik pisan satua ne gek 🔥🔥🔥",
         "1.0"
        ],
        [
         "29",
         "Rahajeng gek, punapi gatrane, sampun meduwe gegelan, suksma",
         "3.0"
        ],
        [
         "30",
         "Indik imba bebaosanne madaging maklenting sane pinih ungkur, maka pemanis minab",
         "3.0"
        ],
        [
         "31",
         "Tambahan kidik mogi mapikolih....Ttyg pinaka wala penyeledii keluargan ttyg ( sang sane kni kasungkawan) banget ngelungsur pangampura manawita wenten rii sajeroning kahuripan ipun naenin maparilaksana sne nenten becik, mamargi sne nenten patut, kaon pamargin ipun, tryg nenten lali ngelungsur agung sinampura🙏Dumadak dumadik sangkaning puja pangretitin ida dane sareng sinami, ipun ( sang palatra) pacang digelis mawali maring sangkan paraning sanghyang dumadiAinggih manawita wantah kadi asapunka prasida aturang ttyg, maka pralinaning atur puputang ttyg antuk parama santi🙏🙏",
         "3.0"
        ],
        [
         "32",
         "ring rahina redite mangda sami sampun nenten wenten mekarye😁",
         "2.0"
        ],
        [
         "33",
         "ring Rahina redite becik sekadi punika",
         "3.0"
        ],
        [
         "34",
         "Nyabran rahina.pang tepuk terus😂",
         "4.0"
        ],
        [
         "35",
         "Cumpu ring rahina redite wengi",
         "2.0"
        ],
        [
         "36",
         "Saniscare utawi redite becik nike, sakewanten dauh/jam yen mresidayang sore/wengi.",
         "3.0"
        ],
        [
         "37",
         "Yen wenten galah becikne ping kalih, nyabran redite lan nyabran caniscara, rahayu 🙏",
         "3.0"
        ],
        [
         "38",
         "Becikne saking titiang Niki, galah saniscare sore utawi dados redite sore. Sukma.",
         "3.0"
        ],
        [
         "39",
         "Nyarengin .tiang galah ten wenten piambeng..",
         "3.0"
        ],
        [
         "41",
         "Nyabran redite sane becik nggih,,?",
         "3.0"
        ],
        [
         "42",
         "Ring dija titiang numbas bukune punika mbok?",
         "3.0"
        ],
        [
         "43",
         "Suba baru barangne jni wih",
         "4.0"
        ],
        [
         "44",
         "@dettyasaridewi nenten wenten galah kasepan jagi malajah 😇",
         "2.0"
        ],
        [
         "45",
         "Jek tis sjan kuping tyang'e ningeh munyi mbok'e noux😁",
         "4.0"
        ],
        [
         "46",
         "Sane ngawentenang odalan sane mangkin nenten malih ajerih yening jagi ngwehin sambramawacana \n \n #bahasabali #budayabali #bali #budaya #belajarbahasabali",
         "0.0"
        ],
        [
         "47",
         "Suksema semeton inggian napi sane sampun keodar mantuk semetonTangkas",
         "3.0"
        ],
        [
         "48",
         "Suksma mok jegeg... sampun micayang pepelajahan mebase bali alus ring sikian titiang... dumogi benjang pungkur wenten malih pepelajahan sane tiosan",
         "0.0"
        ],
        [
         "49",
         "Nunas dening sambrama wecana ring acara pewiwahan",
         "2.0"
        ],
        [
         "50",
         "Yen sekadi puniki..niki wawu ngajegan bali.mebase bali sane becik ..",
         "3.0"
        ],
        [
         "51",
         "Len sube cantik misi duweg mebase bali nganggen sor singgih base",
         "4.0"
        ]
       ],
       "shape": {
        "columns": 2,
        "rows": 1340
       }
      },
      "text/html": [
       "<div>\n",
       "<style scoped>\n",
       "    .dataframe tbody tr th:only-of-type {\n",
       "        vertical-align: middle;\n",
       "    }\n",
       "\n",
       "    .dataframe tbody tr th {\n",
       "        vertical-align: top;\n",
       "    }\n",
       "\n",
       "    .dataframe thead th {\n",
       "        text-align: right;\n",
       "    }\n",
       "</style>\n",
       "<table border=\"1\" class=\"dataframe\">\n",
       "  <thead>\n",
       "    <tr style=\"text-align: right;\">\n",
       "      <th></th>\n",
       "      <th>text</th>\n",
       "      <th>label</th>\n",
       "    </tr>\n",
       "  </thead>\n",
       "  <tbody>\n",
       "    <tr>\n",
       "      <th>0</th>\n",
       "      <td>@gnyrs Kalau kantor Gubernurnya mimin nenten t...</td>\n",
       "      <td>3.0</td>\n",
       "    </tr>\n",
       "    <tr>\n",
       "      <th>1</th>\n",
       "      <td>@mangabdiii munyi gen wi besik ne</td>\n",
       "      <td>4.0</td>\n",
       "    </tr>\n",
       "    <tr>\n",
       "      <th>2</th>\n",
       "      <td>Yen di desan nyama patuh masih nyambat \"pang j...</td>\n",
       "      <td>4.0</td>\n",
       "    </tr>\n",
       "    <tr>\n",
       "      <th>3</th>\n",
       "      <td>@mangpink84 Nggih pateh taler nganggen ra repa 🙏</td>\n",
       "      <td>2.0</td>\n",
       "    </tr>\n",
       "    <tr>\n",
       "      <th>5</th>\n",
       "      <td>Rahajeng semenng 🙏\\n \\n #basabali #basabaline ...</td>\n",
       "      <td>2.0</td>\n",
       "    </tr>\n",
       "    <tr>\n",
       "      <th>...</th>\n",
       "      <td>...</td>\n",
       "      <td>...</td>\n",
       "    </tr>\n",
       "    <tr>\n",
       "      <th>1345</th>\n",
       "      <td>Buatin kakak nama komang dimas merta sedana</td>\n",
       "      <td>NaN</td>\n",
       "    </tr>\n",
       "    <tr>\n",
       "      <th>1346</th>\n",
       "      <td>Ngiring mlajah angka Bali, durusang ketik jawa...</td>\n",
       "      <td>3.0</td>\n",
       "    </tr>\n",
       "    <tr>\n",
       "      <th>1347</th>\n",
       "      <td>Becik pisan Baligrafi puniki 😍😍\\n #Repost @rai...</td>\n",
       "      <td>2.0</td>\n",
       "    </tr>\n",
       "    <tr>\n",
       "      <th>1348</th>\n",
       "      <td>#Repost @mlajahbasabali\\n • • • • • •\\n Ngirin...</td>\n",
       "      <td>2.0</td>\n",
       "    </tr>\n",
       "    <tr>\n",
       "      <th>1349</th>\n",
       "      <td>Ngiring Malajah Aksara Bali\\n \\n #Repost @peny...</td>\n",
       "      <td>2.0</td>\n",
       "    </tr>\n",
       "  </tbody>\n",
       "</table>\n",
       "<p>1340 rows × 2 columns</p>\n",
       "</div>"
      ],
      "text/plain": [
       "                                                   text  label\n",
       "0     @gnyrs Kalau kantor Gubernurnya mimin nenten t...    3.0\n",
       "1                     @mangabdiii munyi gen wi besik ne    4.0\n",
       "2     Yen di desan nyama patuh masih nyambat \"pang j...    4.0\n",
       "3      @mangpink84 Nggih pateh taler nganggen ra repa 🙏    2.0\n",
       "5     Rahajeng semenng 🙏\\n \\n #basabali #basabaline ...    2.0\n",
       "...                                                 ...    ...\n",
       "1345        Buatin kakak nama komang dimas merta sedana    NaN\n",
       "1346  Ngiring mlajah angka Bali, durusang ketik jawa...    3.0\n",
       "1347  Becik pisan Baligrafi puniki 😍😍\\n #Repost @rai...    2.0\n",
       "1348  #Repost @mlajahbasabali\\n • • • • • •\\n Ngirin...    2.0\n",
       "1349  Ngiring Malajah Aksara Bali\\n \\n #Repost @peny...    2.0\n",
       "\n",
       "[1340 rows x 2 columns]"
      ]
     },
     "execution_count": 14,
     "metadata": {},
     "output_type": "execute_result"
    }
   ],
   "source": [
    "df"
   ]
  },
  {
   "cell_type": "code",
   "execution_count": 15,
   "metadata": {},
   "outputs": [
    {
     "data": {
      "application/vnd.microsoft.datawrangler.viewer.v0+json": {
       "columns": [
        {
         "name": "index",
         "rawType": "int64",
         "type": "integer"
        },
        {
         "name": "text",
         "rawType": "object",
         "type": "string"
        },
        {
         "name": "label",
         "rawType": "float64",
         "type": "float"
        }
       ],
       "conversionMethod": "pd.DataFrame",
       "ref": "5a4ca4b9-9cdc-4710-82b7-fac10ecd13bb",
       "rows": [
        [
         "0",
         "@gnyrs Kalau kantor Gubernurnya mimin nenten tatas uning sapunapi mangkin. Nanging wenten museum Sunda Kecil yg diresmikan 2018 yening nenten iwang, ring ex pelabuhan buleleng.",
         "3.0"
        ],
        [
         "1",
         "@mangabdiii munyi gen wi besik ne",
         "4.0"
        ],
        [
         "2",
         "Yen di desan nyama patuh masih nyambat \"pang joh para\" ?\n \n #bahasadaerahbali #bahasabali #bahasadaerah #bahasabali #basabali #basabaline #belajarbahasabali #palajahanbasabali #pelajaranbahasabali #kontenbahasabali",
         "4.0"
        ],
        [
         "3",
         "@mangpink84 Nggih pateh taler nganggen ra repa 🙏",
         "2.0"
        ],
        [
         "5",
         "Rahajeng semenng 🙏\n \n #basabali #basabaline #bahasabali #belajarbahasabali #bahasabaliseharihari #bahasabalikeren #bahasadaerahbali",
         "2.0"
        ],
        [
         "6",
         "engseb napi enceb? yening engseb mirib care don kelor",
         "3.0"
        ],
        [
         "7",
         "Ngiring macecimpedan, nyama 😍\n \n Sira malih uning conto cecimpedan sane tiosan ? Indayang sambayang ring kolom komentar 🙏\n \n Lan malajah sareng-sareng 😊\n \n #basabaline #basabali #bahasabaliseharihari #kosakatabahasabali #bahasabali #kontenbahasabali #pelajaranbahasabali #tiktokbasabali #belajarbahasabali #bali #kosakatabahasabali",
         "3.0"
        ],
        [
         "8",
         "Nyama, ane cen liunan biune abulih, aijas napi aijeng ?\n 😁😁😁\n \n #basabali #basabaline #bahasabali #belajarbahasabali #pelajaranbahasabali #kosakatabahasabali #bahasabaliseharihari #bahasabalikeren #biu",
         "4.0"
        ],
        [
         "9",
         "@arikd16 Apunya biasane aijeng dogen buah ne 😁",
         "4.0"
        ],
        [
         "11",
         "Angka ring Bahasa Bali\n \n Simpen dumun nyama anggen malajah maketekan. Nyen nawang mani pesu di ulangane 😁\n \n #basabali #basabaline #bahasabali #belajarbahasabali #angkabali",
         "4.0"
        ],
        [
         "12",
         "Eda ngaden awak bisa 🙏\n \n #kontenbahasabali #bahasabali #belajarbahasabali #pelajaranbahasabali #basabaline #basabali #tembangbali #tembangmacapat #geguritan #pupuh #pupuhginada #edangadenawakbisa",
         "4.0"
        ],
        [
         "13",
         "Punapi gatra, nyama ?\n \n #bahasabali #belajarbahasabali #kontenbahasabali #lesbahasabali #pelajaranbahasadaerahbali #pelajaranbahasabali #bahasabaliseharihari #bahasabaliseharihari #bahasabalikeren #basabali #basabaline",
         "3.0"
        ],
        [
         "14",
         "Om Swastyastu...\n Rahajeng nyanggra rahina suci Galungan nggih semeton 🙏\n \n #rahajenggalungan\n #galungan #basabali #basabaline #belajarbahasabali #bahasabali",
         "2.0"
        ],
        [
         "15",
         "Nyama nyama suba mepatung ?\n \n #bahasabali #belajarbahasabali #basabali #basabaline #tradisibali #mepatung #penampahangalungan",
         "4.0"
        ],
        [
         "16",
         "PARIBASA BALI\n \n Basita Paribasa teges ipun: basa rinengga, punika dados rerasmen wiadin panglengut basa rikala \n mababaosan kalih magegonjakan anggen pasiakranan. Basa rinengga puniki, sakadi piranti pacang ngamedalang daging pakayunan kalih pangarsa, ngangge rerenggan wiadin sasemon indik kahanan kalih laksanan jadma, sane kaimbang ring laksana kalih kahanan barang wiadin buron (simpen,2010:5).\n \n Paribasa Bali yening ring bahasa Indonesia kawastanin Pribahasa. Paribasa Bali wantah sinalih tunggil wangun bebaosan (ungkapan tradisional) sane manggeh kantos mangkin pinaka sarana ngawetuang daging pakayunan sane kawangun antuk sipta (lambing; symbol; kode) sane maendahan manut pangarsa sang sane \n mabaos.\n \n #bahasabali #belajarbahasabali #basabali #paribasabali",
         "3.0"
        ],
        [
         "18",
         "Nyen ne basang bawak ?😁\n \n #basabali #basabaline #bahasabali #belajarbahasabali #kamusbahasabali #lesbasabali #lesbahasabali",
         "4.0"
        ],
        [
         "19",
         "Ledangang Mbok kantun naler malajah, ngiring sareng-sareng malajah mabebasan 🙏😇\n \n #bali #bahasabali #budayabali #budaya",
         "3.0"
        ],
        [
         "20",
         "jeg sekadi pateh niki tresnan titiang sareng jegeg ayu candra......",
         "3.0"
        ],
        [
         "21",
         "Kruna pangentosmejeng I Aji sareng I Biyang ten patut ngangge kruna NYANE. NYANE punika manggeh alus sor.",
         "3.0"
        ],
        [
         "22",
         "Suud mebalih ne,Mare tiang nawang ternyata basa bali nika keweh😢",
         "4.0"
        ],
        [
         "23",
         "@baboya.0202 ngiring sareng sareng malajah mangda sida karasa dangan 😇",
         "2.0"
        ],
        [
         "24",
         "Majeng ring semeton sane dados prajuru adat, dumogi mapikenoh nggih 🙏😇",
         "3.0"
        ],
        [
         "25",
         "Yening krame Banjar Boye je semeton Jero.sepatutne Ida dane sane patut.ampura",
         "2.0"
        ],
        [
         "26",
         "Becik pisan niki tate base bali 🙏",
         "3.0"
        ],
        [
         "27",
         "Becik pisan tatanan wacananne. Untuk memelihara kauningane puniki becikne lanturang ngripta pustaka wangun gancaran utawi irisan/ puisi.",
         "3.0"
        ],
        [
         "28",
         "Becik pisan satua ne gek 🔥🔥🔥",
         "1.0"
        ],
        [
         "29",
         "Rahajeng gek, punapi gatrane, sampun meduwe gegelan, suksma",
         "3.0"
        ],
        [
         "30",
         "Indik imba bebaosanne madaging maklenting sane pinih ungkur, maka pemanis minab",
         "3.0"
        ],
        [
         "31",
         "Tambahan kidik mogi mapikolih....Ttyg pinaka wala penyeledii keluargan ttyg ( sang sane kni kasungkawan) banget ngelungsur pangampura manawita wenten rii sajeroning kahuripan ipun naenin maparilaksana sne nenten becik, mamargi sne nenten patut, kaon pamargin ipun, tryg nenten lali ngelungsur agung sinampura🙏Dumadak dumadik sangkaning puja pangretitin ida dane sareng sinami, ipun ( sang palatra) pacang digelis mawali maring sangkan paraning sanghyang dumadiAinggih manawita wantah kadi asapunka prasida aturang ttyg, maka pralinaning atur puputang ttyg antuk parama santi🙏🙏",
         "3.0"
        ],
        [
         "32",
         "ring rahina redite mangda sami sampun nenten wenten mekarye😁",
         "2.0"
        ],
        [
         "33",
         "ring Rahina redite becik sekadi punika",
         "3.0"
        ],
        [
         "34",
         "Nyabran rahina.pang tepuk terus😂",
         "4.0"
        ],
        [
         "35",
         "Cumpu ring rahina redite wengi",
         "2.0"
        ],
        [
         "36",
         "Saniscare utawi redite becik nike, sakewanten dauh/jam yen mresidayang sore/wengi.",
         "3.0"
        ],
        [
         "37",
         "Yen wenten galah becikne ping kalih, nyabran redite lan nyabran caniscara, rahayu 🙏",
         "3.0"
        ],
        [
         "38",
         "Becikne saking titiang Niki, galah saniscare sore utawi dados redite sore. Sukma.",
         "3.0"
        ],
        [
         "39",
         "Nyarengin .tiang galah ten wenten piambeng..",
         "3.0"
        ],
        [
         "41",
         "Nyabran redite sane becik nggih,,?",
         "3.0"
        ],
        [
         "42",
         "Ring dija titiang numbas bukune punika mbok?",
         "3.0"
        ],
        [
         "43",
         "Suba baru barangne jni wih",
         "4.0"
        ],
        [
         "44",
         "@dettyasaridewi nenten wenten galah kasepan jagi malajah 😇",
         "2.0"
        ],
        [
         "45",
         "Jek tis sjan kuping tyang'e ningeh munyi mbok'e noux😁",
         "4.0"
        ],
        [
         "46",
         "Sane ngawentenang odalan sane mangkin nenten malih ajerih yening jagi ngwehin sambramawacana \n \n #bahasabali #budayabali #bali #budaya #belajarbahasabali",
         "0.0"
        ],
        [
         "47",
         "Suksema semeton inggian napi sane sampun keodar mantuk semetonTangkas",
         "3.0"
        ],
        [
         "48",
         "Suksma mok jegeg... sampun micayang pepelajahan mebase bali alus ring sikian titiang... dumogi benjang pungkur wenten malih pepelajahan sane tiosan",
         "0.0"
        ],
        [
         "49",
         "Nunas dening sambrama wecana ring acara pewiwahan",
         "2.0"
        ],
        [
         "50",
         "Yen sekadi puniki..niki wawu ngajegan bali.mebase bali sane becik ..",
         "3.0"
        ],
        [
         "51",
         "Len sube cantik misi duweg mebase bali nganggen sor singgih base",
         "4.0"
        ],
        [
         "52",
         "Puniki dawege dumun mbok naenin nyarengin wimbakara mapidarta Basa Bali ring sajeroning Pesta Kesenian Bali kaping- XLIII, eling daweg nika pamargin mbok kasarengin naler antuk makudang-kudang tuntunan luih saking ibu @agungrianii miwah Ida Istri @ochadianti , manawi yening nenten sangkaning dane sareng kalih miwah pangrastitin Guru Rupaka ring jumah pastika nenten ja pacang sida mikolihang pikolih sane kaaptiang. Mawinan titiang dahating ngaturang suksma ping banget, akeh kaweruhan sane lungsur titiang saking dane ❤️🙏",
         "0.0"
        ],
        [
         "53",
         "@64lung_m4yun aksamayang padewekan titiang sane banget tuna 🙏😇",
         "1.0"
        ]
       ],
       "shape": {
        "columns": 2,
        "rows": 1314
       }
      },
      "text/html": [
       "<div>\n",
       "<style scoped>\n",
       "    .dataframe tbody tr th:only-of-type {\n",
       "        vertical-align: middle;\n",
       "    }\n",
       "\n",
       "    .dataframe tbody tr th {\n",
       "        vertical-align: top;\n",
       "    }\n",
       "\n",
       "    .dataframe thead th {\n",
       "        text-align: right;\n",
       "    }\n",
       "</style>\n",
       "<table border=\"1\" class=\"dataframe\">\n",
       "  <thead>\n",
       "    <tr style=\"text-align: right;\">\n",
       "      <th></th>\n",
       "      <th>text</th>\n",
       "      <th>label</th>\n",
       "    </tr>\n",
       "  </thead>\n",
       "  <tbody>\n",
       "    <tr>\n",
       "      <th>0</th>\n",
       "      <td>@gnyrs Kalau kantor Gubernurnya mimin nenten t...</td>\n",
       "      <td>3.0</td>\n",
       "    </tr>\n",
       "    <tr>\n",
       "      <th>1</th>\n",
       "      <td>@mangabdiii munyi gen wi besik ne</td>\n",
       "      <td>4.0</td>\n",
       "    </tr>\n",
       "    <tr>\n",
       "      <th>2</th>\n",
       "      <td>Yen di desan nyama patuh masih nyambat \"pang j...</td>\n",
       "      <td>4.0</td>\n",
       "    </tr>\n",
       "    <tr>\n",
       "      <th>3</th>\n",
       "      <td>@mangpink84 Nggih pateh taler nganggen ra repa 🙏</td>\n",
       "      <td>2.0</td>\n",
       "    </tr>\n",
       "    <tr>\n",
       "      <th>5</th>\n",
       "      <td>Rahajeng semenng 🙏\\n \\n #basabali #basabaline ...</td>\n",
       "      <td>2.0</td>\n",
       "    </tr>\n",
       "    <tr>\n",
       "      <th>...</th>\n",
       "      <td>...</td>\n",
       "      <td>...</td>\n",
       "    </tr>\n",
       "    <tr>\n",
       "      <th>1344</th>\n",
       "      <td>#Repost @mlajahbasabali\\n • • • • • •\\n wenten...</td>\n",
       "      <td>3.0</td>\n",
       "    </tr>\n",
       "    <tr>\n",
       "      <th>1346</th>\n",
       "      <td>Ngiring mlajah angka Bali, durusang ketik jawa...</td>\n",
       "      <td>3.0</td>\n",
       "    </tr>\n",
       "    <tr>\n",
       "      <th>1347</th>\n",
       "      <td>Becik pisan Baligrafi puniki 😍😍\\n #Repost @rai...</td>\n",
       "      <td>2.0</td>\n",
       "    </tr>\n",
       "    <tr>\n",
       "      <th>1348</th>\n",
       "      <td>#Repost @mlajahbasabali\\n • • • • • •\\n Ngirin...</td>\n",
       "      <td>2.0</td>\n",
       "    </tr>\n",
       "    <tr>\n",
       "      <th>1349</th>\n",
       "      <td>Ngiring Malajah Aksara Bali\\n \\n #Repost @peny...</td>\n",
       "      <td>2.0</td>\n",
       "    </tr>\n",
       "  </tbody>\n",
       "</table>\n",
       "<p>1314 rows × 2 columns</p>\n",
       "</div>"
      ],
      "text/plain": [
       "                                                   text  label\n",
       "0     @gnyrs Kalau kantor Gubernurnya mimin nenten t...    3.0\n",
       "1                     @mangabdiii munyi gen wi besik ne    4.0\n",
       "2     Yen di desan nyama patuh masih nyambat \"pang j...    4.0\n",
       "3      @mangpink84 Nggih pateh taler nganggen ra repa 🙏    2.0\n",
       "5     Rahajeng semenng 🙏\\n \\n #basabali #basabaline ...    2.0\n",
       "...                                                 ...    ...\n",
       "1344  #Repost @mlajahbasabali\\n • • • • • •\\n wenten...    3.0\n",
       "1346  Ngiring mlajah angka Bali, durusang ketik jawa...    3.0\n",
       "1347  Becik pisan Baligrafi puniki 😍😍\\n #Repost @rai...    2.0\n",
       "1348  #Repost @mlajahbasabali\\n • • • • • •\\n Ngirin...    2.0\n",
       "1349  Ngiring Malajah Aksara Bali\\n \\n #Repost @peny...    2.0\n",
       "\n",
       "[1314 rows x 2 columns]"
      ]
     },
     "execution_count": 15,
     "metadata": {},
     "output_type": "execute_result"
    }
   ],
   "source": [
    "df.dropna()"
   ]
  },
  {
   "cell_type": "code",
   "execution_count": 16,
   "metadata": {},
   "outputs": [],
   "source": [
    "# remove mention and hastag\n",
    "def clean_text(text: str) -> str:\n",
    "    cleaned_text = re.sub(r\"(@\\w+|#\\w+)\", \"\", text).strip()\n",
    "    # keep only alphabet and space\n",
    "    cleaned_text = re.sub(r\"[^a-zA-Z\\s]\", \"\", cleaned_text)\n",
    "    # remove multiple spaces\n",
    "    cleaned_text = re.sub(r\"\\s+\", \" \", cleaned_text)\n",
    "    cleaned_text = cleaned_text.strip()\n",
    "    cleaned_text = cleaned_text.lower()\n",
    "    return cleaned_text\n",
    "\n",
    "\n",
    "def remove_template(text: str) -> str:\n",
    "    template_list = [\n",
    "        \"\"\"🙏 Elingang like, follow lan share instagram @bahasa_bali mangda iraga prasida mlajah basa lan aksara Bali sareng-sareng.\n",
    " .....................\n",
    " Ngiring wacén suratan lianan ring belajarbahasabali.com\n",
    " facebook: facebook.com/bahasabalii/\n",
    " youtube: youtube.com/c/BelajarBahasaBalii\"\"\",\n",
    "        \"\"\"🙏 Elingang like, follow lan share instagram @bahasa_bali mangda iraga prasida mlajah basa lan aksara Ba🙏 Elingang like, follow lan share instagram @bahasa_bali mangda iraga prasida mlajah basa lan aksara Ba#malajahbahasabalili sareng-sareng.\n",
    " .....................\n",
    " Ngiring wacén suratan lianan ring belajarbahasabali.com\n",
    " facebook: facebook.com/bahasabalii/\n",
    " youtube: youtube.com/c/BelajarBahasaBalii\n",
    " .....................\"\"\",\n",
    "        \"\"\" 🙏 Elingang like, follow lan share instagram @bahasa_bali mangda iraga prasida mlajah basa lan aksara Bali sareng-sareng.\n",
    " .....................\n",
    " Ngiring wacén sesuratan lianan ring belajarbahasabali.com\n",
    " instagram: instagram.com/bahasa_bali\n",
    " facebook: facebook.com/bahasabalii\n",
    " youtube: youtube.com/c/BelajarBahasaBalii\"\"\",\n",
    "        \"\"\"🙏elingang like, follow lan share instagram @bahasa_bali mangda iraga prasida mlajah basa lan aksara Bali sareng-sareng.\"\"\",\n",
    "        \"\"\"🙏elingang like, follow lan share instagram\n",
    " @bahasa_bali mangda iraga prasida mlajah basa lan\n",
    " aksara Bali sareng-sareng.\"\"\",\n",
    "    ]\n",
    "\n",
    "    for template in template_list:\n",
    "        text = text.replace(template, \"\")\n",
    "\n",
    "    return text"
   ]
  },
  {
   "cell_type": "code",
   "execution_count": 17,
   "metadata": {},
   "outputs": [],
   "source": [
    "stemmer = Stemmer()"
   ]
  },
  {
   "cell_type": "code",
   "execution_count": 18,
   "metadata": {},
   "outputs": [],
   "source": [
    "df[\"text\"] = df[\"text\"].apply(remove_template)\n",
    "df[\"text\"] = df[\"text\"].apply(clean_text)\n",
    "ori_df = df.copy()\n",
    "df[\"text\"] = df[\"text\"].apply(lambda x: stemmer.stem(x, correct_spelling=False))"
   ]
  },
  {
   "cell_type": "code",
   "execution_count": 19,
   "metadata": {},
   "outputs": [],
   "source": [
    "df = df.dropna()\n",
    "ori_df = ori_df.dropna()"
   ]
  },
  {
   "cell_type": "code",
   "execution_count": 20,
   "metadata": {},
   "outputs": [
    {
     "data": {
      "application/vnd.microsoft.datawrangler.viewer.v0+json": {
       "columns": [
        {
         "name": "index",
         "rawType": "int64",
         "type": "integer"
        },
        {
         "name": "text",
         "rawType": "object",
         "type": "string"
        },
        {
         "name": "label",
         "rawType": "float64",
         "type": "float"
        }
       ],
       "conversionMethod": "pd.DataFrame",
       "ref": "a10cef9c-4804-487f-9179-69f6ab555ca5",
       "rows": [
        [
         "0",
         "lau kantor gubernurnya mimi nenten tatas uning sapunapi mangkin nanging wenten museum sunda kecil yg diresmikan yening nenten iwang ring ex pelabuhan buleleng",
         "3.0"
        ],
        [
         "1",
         "munyi gen wi besik ne",
         "4.0"
        ],
        [
         "2",
         "yen di desa nyama patuh masih jambat pang joh ra",
         "4.0"
        ],
        [
         "3",
         "nggih pateh taler kangge ra repa",
         "2.0"
        ],
        [
         "5",
         "rahajeng semenng",
         "2.0"
        ],
        [
         "6",
         "engseb napi enceb yening engseb mirib care don kelor",
         "3.0"
        ],
        [
         "7",
         "giring macecimpedan nyama sira malih uning conto cecimpedan sane tios inda sambayang ring kolom komentar lan malajah sarengsareng",
         "3.0"
        ],
        [
         "8",
         "nyama ane cen liu biu bulih ijas napi ijeng",
         "4.0"
        ],
        [
         "9",
         "punya biasa ijeng dogen buah ne",
         "4.0"
        ],
        [
         "11",
         "angka ring bahasa bali simpen dumun nyama gen malajah ketek nyen wang mani pesu di ulangan",
         "4.0"
        ],
        [
         "12",
         "eda den awak bisa",
         "4.0"
        ],
        [
         "13",
         "punapi gatra nyama",
         "3.0"
        ],
        [
         "14",
         "om swastyastu rahajeng sanggra rahina suci galung nggih semeton",
         "2.0"
        ],
        [
         "15",
         "nyama nyama suba mepatung",
         "4.0"
        ],
        [
         "16",
         "paribasa bali basita paribasa teges ipun basa rengga punika dados rasmen wiadin lengut basa rikala mababaosan kalih magegonjakan gen pasiakranan basa rengga puniki di piranti cang medal daging kayun kalih arsa kangge rengga wiadin sasemon indik kahanan kalih laksa jadma sane imbang ring laksana kalih kahanan barang wiadin buron simpen paribasa bali yening ring bahasa indonesia wasta pribahasa paribasa bali wantah sinalih tunggil wangun bebaosan ungkapan tradisional sane manggeh kantos mangkin pinaka ra wetu daging kayun sane wangun antuk sipta lambing symbol kode sane endah tut arsa sang sane baos",
         "3.0"
        ],
        [
         "18",
         "nyen ne basang bawak",
         "4.0"
        ],
        [
         "19",
         "ledangang mbok kantun taler malajah giring sarengsareng malajah bebas",
         "3.0"
        ],
        [
         "20",
         "jeg sekadi pateh iki tresna titiang sareng jegeg ayu candra",
         "3.0"
        ],
        [
         "21",
         "kruna pangentosmejeng i aji sareng i biyang ten patut kangge kruna nyane nyane punika manggeh alus sor",
         "3.0"
        ],
        [
         "22",
         "suud mebalih nemare tiang wang ternyata basa bali tik keweh",
         "4.0"
        ],
        [
         "23",
         "giring sareng sareng malajah mangda sida karas dangan",
         "2.0"
        ],
        [
         "24",
         "jeng ring semeton sane dados prajuru adat dumogi kenoh nggih",
         "3.0"
        ],
        [
         "25",
         "yening krame banjar boye je semeton jerosepatutne ida dane sane patutampura",
         "2.0"
        ],
        [
         "26",
         "becik pisan iki tate base bali",
         "3.0"
        ],
        [
         "27",
         "becik pisan tata wacananne untuk memelihara kauningane puniki becik lantur ripta pustaka wangun gancaran utawi iris puisi",
         "3.0"
        ],
        [
         "28",
         "becik pisan satua ne gek",
         "1.0"
        ],
        [
         "29",
         "rahajeng gek punapi gatra sampun meduwe gegelan suksma",
         "3.0"
        ],
        [
         "30",
         "indik imba bebaosanne dag klenting sane pinih ungkur maka pemanis minab",
         "3.0"
        ],
        [
         "31",
         "tambah kidik mogi mapikolihttyg pinaka wala penyeledii keluargan ttyg sang sane kni sungkawa banget ngelungsur ampura manawita wenten rii jero kahuripan ipun taen maparilaksana sne nenten becik margi sne nenten patut kaon margi ipun tryg nenten lali ngelungsur agung sinampuradumadak dumadik sangkan puja pangretitin ida dane sareng sami ipun sang palatra cang digelis wali maring sangkan paran sanghyang dumadiainggih manawita wantah kadi asapunka prasida tur ttyg maka pralinaning atur puput ttyg antuk parama santi",
         "3.0"
        ],
        [
         "32",
         "ring rahina redite mangda sami sampun nenten wenten mekarye",
         "2.0"
        ],
        [
         "33",
         "ring rahina redite becik sekadi punika",
         "3.0"
        ],
        [
         "34",
         "sabran rahinapang tepuk terus",
         "4.0"
        ],
        [
         "35",
         "cumpu ring rahina redite wengi",
         "2.0"
        ],
        [
         "36",
         "saniscare utawi redite becik tik sakewanten dauhjam yen mresidayang sorewengi",
         "3.0"
        ],
        [
         "37",
         "yen wenten galah becik ping kalih sabran redite lan sabran caniscara rahayu",
         "3.0"
        ],
        [
         "38",
         "becik saking titiang iki galah saniscare sore utawi dados redite sore sukma",
         "3.0"
        ],
        [
         "39",
         "sareng tiang galah ten wenten ambeng",
         "3.0"
        ],
        [
         "41",
         "sabran redite sane becik nggih",
         "3.0"
        ],
        [
         "42",
         "ring dija titiang numbas buku punika mbok",
         "3.0"
        ],
        [
         "43",
         "suba baru barang jni wih",
         "4.0"
        ],
        [
         "44",
         "nenten wenten galah sep jagi malajah",
         "2.0"
        ],
        [
         "45",
         "jek tis sjan kuping tyange ingeh munyi mboke noux",
         "4.0"
        ],
        [
         "46",
         "sane wenten odal sane mangkin nenten malih ajerih yening jagi weh sambramawacana",
         "0.0"
        ],
        [
         "47",
         "suksema semeton inggian napi sane sampun keodar mantuk semetontangkas",
         "3.0"
        ],
        [
         "48",
         "suksma mok jegeg sampun mica pepelajahan mebase bali alus ring siki titiang dumogi benjang pungkur wenten malih pepelajahan sane tios",
         "0.0"
        ],
        [
         "49",
         "tunas dening sambrama wecana ring acar pewiwahan",
         "2.0"
        ],
        [
         "50",
         "yen sekadi punikiniki wawu ajeg balimebase bali sane becik",
         "3.0"
        ],
        [
         "51",
         "len sube cantik misi duweg mebase bali kangge sor singgih base",
         "4.0"
        ],
        [
         "52",
         "puniki daweg dumun mbok taen sareng wimbakara darta basa bali ring jero pesta kesenian bali kaping xliii eling daweg tik margi mbok sareng taler antuk makudangkudang tuntun luih saking ibu miwah ida istri awi yening nenten sangkan dane sareng kalih miwah pangrastitin guru rupaka ring jumah pastika nenten ja cang sida mikolihang pikolih sane apti wa titiang dahating tur suksma ping banget akeh wuh sane lungsur titiang saking dane",
         "0.0"
        ],
        [
         "53",
         "aksama dewek titiang sane banget tuna",
         "1.0"
        ]
       ],
       "shape": {
        "columns": 2,
        "rows": 1314
       }
      },
      "text/html": [
       "<div>\n",
       "<style scoped>\n",
       "    .dataframe tbody tr th:only-of-type {\n",
       "        vertical-align: middle;\n",
       "    }\n",
       "\n",
       "    .dataframe tbody tr th {\n",
       "        vertical-align: top;\n",
       "    }\n",
       "\n",
       "    .dataframe thead th {\n",
       "        text-align: right;\n",
       "    }\n",
       "</style>\n",
       "<table border=\"1\" class=\"dataframe\">\n",
       "  <thead>\n",
       "    <tr style=\"text-align: right;\">\n",
       "      <th></th>\n",
       "      <th>text</th>\n",
       "      <th>label</th>\n",
       "    </tr>\n",
       "  </thead>\n",
       "  <tbody>\n",
       "    <tr>\n",
       "      <th>0</th>\n",
       "      <td>lau kantor gubernurnya mimi nenten tatas uning...</td>\n",
       "      <td>3.0</td>\n",
       "    </tr>\n",
       "    <tr>\n",
       "      <th>1</th>\n",
       "      <td>munyi gen wi besik ne</td>\n",
       "      <td>4.0</td>\n",
       "    </tr>\n",
       "    <tr>\n",
       "      <th>2</th>\n",
       "      <td>yen di desa nyama patuh masih jambat pang joh ra</td>\n",
       "      <td>4.0</td>\n",
       "    </tr>\n",
       "    <tr>\n",
       "      <th>3</th>\n",
       "      <td>nggih pateh taler kangge ra repa</td>\n",
       "      <td>2.0</td>\n",
       "    </tr>\n",
       "    <tr>\n",
       "      <th>5</th>\n",
       "      <td>rahajeng semenng</td>\n",
       "      <td>2.0</td>\n",
       "    </tr>\n",
       "    <tr>\n",
       "      <th>...</th>\n",
       "      <td>...</td>\n",
       "      <td>...</td>\n",
       "    </tr>\n",
       "    <tr>\n",
       "      <th>1344</th>\n",
       "      <td>wenten sane sampun bani kangge aksara bali rin...</td>\n",
       "      <td>3.0</td>\n",
       "    </tr>\n",
       "    <tr>\n",
       "      <th>1346</th>\n",
       "      <td>giring mlajah angka bali durus ketik jawaban r...</td>\n",
       "      <td>3.0</td>\n",
       "    </tr>\n",
       "    <tr>\n",
       "      <th>1347</th>\n",
       "      <td>becik pisan baligrafi puniki baligrafi singa raja</td>\n",
       "      <td>2.0</td>\n",
       "    </tr>\n",
       "    <tr>\n",
       "      <th>1348</th>\n",
       "      <td>giring malajah aksara bali repost fb made</td>\n",
       "      <td>2.0</td>\n",
       "    </tr>\n",
       "    <tr>\n",
       "      <th>1349</th>\n",
       "      <td>giring malajah aksara bali giring sarengsareng...</td>\n",
       "      <td>2.0</td>\n",
       "    </tr>\n",
       "  </tbody>\n",
       "</table>\n",
       "<p>1314 rows × 2 columns</p>\n",
       "</div>"
      ],
      "text/plain": [
       "                                                   text  label\n",
       "0     lau kantor gubernurnya mimi nenten tatas uning...    3.0\n",
       "1                                 munyi gen wi besik ne    4.0\n",
       "2      yen di desa nyama patuh masih jambat pang joh ra    4.0\n",
       "3                      nggih pateh taler kangge ra repa    2.0\n",
       "5                                      rahajeng semenng    2.0\n",
       "...                                                 ...    ...\n",
       "1344  wenten sane sampun bani kangge aksara bali rin...    3.0\n",
       "1346  giring mlajah angka bali durus ketik jawaban r...    3.0\n",
       "1347  becik pisan baligrafi puniki baligrafi singa raja    2.0\n",
       "1348          giring malajah aksara bali repost fb made    2.0\n",
       "1349  giring malajah aksara bali giring sarengsareng...    2.0\n",
       "\n",
       "[1314 rows x 2 columns]"
      ]
     },
     "execution_count": 20,
     "metadata": {},
     "output_type": "execute_result"
    }
   ],
   "source": [
    "df"
   ]
  },
  {
   "cell_type": "markdown",
   "metadata": {},
   "source": [
    "## Data Visualization"
   ]
  },
  {
   "cell_type": "code",
   "execution_count": 21,
   "metadata": {},
   "outputs": [
    {
     "data": {
      "text/plain": [
       "(17874, 4017)"
      ]
     },
     "execution_count": 21,
     "metadata": {},
     "output_type": "execute_result"
    }
   ],
   "source": [
    "def get_total_and_unique_words():\n",
    "    all_string = \" \".join(df[\"text\"].values).split()\n",
    "    total_words = len(all_string)\n",
    "    unique_words = len(set(all_string))\n",
    "    return total_words, unique_words\n",
    "\n",
    "\n",
    "get_total_and_unique_words()"
   ]
  },
  {
   "cell_type": "code",
   "execution_count": 22,
   "metadata": {},
   "outputs": [
    {
     "data": {
      "image/png": "[encoded data removed]",
      "text/plain": [
       "<Figure size 1000x600 with 1 Axes>"
      ]
     },
     "metadata": {},
     "output_type": "display_data"
    }
   ],
   "source": [
    "def get_all_class_distribution():\n",
    "    _, ax = plt.subplots(figsize=(10, 6))\n",
    "\n",
    "    value_counts = df[\"label\"].value_counts()\n",
    "    value_counts.plot(kind=\"bar\", ax=ax, alpha=0.9, edgecolor=\"black\")\n",
    "\n",
    "    mapped_labels = [\n",
    "        idx_to_label.get(label, str(label)) for label in value_counts.index\n",
    "    ]\n",
    "    ax.set_xticks(range(len(mapped_labels)))\n",
    "    ax.set_xticklabels(mapped_labels, fontsize=12, rotation=0)\n",
    "\n",
    "    ax.set_title(\"Distribusi Kelas\", fontsize=16, fontweight=\"bold\", pad=20)\n",
    "    ax.set_xlabel(\"Tingkatan Bahasa\", fontsize=12)\n",
    "    ax.set_ylabel(\"Jumlah\", fontsize=12)\n",
    "    ax.set_ylim(0, value_counts.max() * 1.1)\n",
    "\n",
    "    total = sum(p.get_height() for p in ax.patches)\n",
    "\n",
    "    for p in ax.patches:\n",
    "        count = int(p.get_height())\n",
    "        percentage = (count / total) * 100\n",
    "        annotation = f\"{count} ({percentage:.1f}%)\"\n",
    "        ax.annotate(\n",
    "            annotation,\n",
    "            (p.get_x() + p.get_width() / 2.0, p.get_height()),\n",
    "            ha=\"center\",\n",
    "            va=\"baseline\",\n",
    "            fontsize=12,\n",
    "            color=\"black\",\n",
    "            xytext=(0, 5),\n",
    "            textcoords=\"offset points\",\n",
    "        )\n",
    "\n",
    "    ax.yaxis.grid(True, linestyle=\"--\", alpha=0.7)\n",
    "\n",
    "    plt.tight_layout()\n",
    "    plt.savefig(\"chart/class_distribution.png\", dpi=300, bbox_inches=\"tight\")\n",
    "    plt.show()\n",
    "\n",
    "\n",
    "get_all_class_distribution()"
   ]
  },
  {
   "cell_type": "code",
   "execution_count": 23,
   "metadata": {},
   "outputs": [
    {
     "data": {
      "application/vnd.microsoft.datawrangler.viewer.v0+json": {
       "columns": [
        {
         "name": "index",
         "rawType": "int64",
         "type": "integer"
        },
        {
         "name": "label",
         "rawType": "object",
         "type": "string"
        },
        {
         "name": "top_15_words",
         "rawType": "object",
         "type": "string"
        }
       ],
       "conversionMethod": "pd.DataFrame",
       "ref": "9ab79e8d-c44e-4ff4-be90-45b151b78102",
       "rows": [
        [
         "0",
         "alus singgih",
         "sane, ring, bali, becik, pisan, semeton, wenten, sampun, niki, yening, puniki, dados, sareng, napi, sami"
        ],
        [
         "1",
         "alus sor",
         "sane, ring, titiang, bali, nunas, mbok, sampun, punika, becik, semeton, basa, tityang, suksma, puniki, wenten"
        ],
        [
         "2",
         "alus mider",
         "sane, ring, bali, aksara, nggih, ngiring, semeton, wenten, rahajeng, saking, kruna, sampun, malajah, puniki, uning"
        ],
        [
         "3",
         "alus madia",
         "sane, ring, nggih, bali, semeton, becik, pisan, wenten, durus, yening, sampun, dados, ten, tiang, napi"
        ],
        [
         "4",
         "basa andap",
         "bali, ane, ne, di, aksara, basa, sane, sing, min, ada, yen, ton, coba, i, malajah"
        ],
        [
         "5",
         "basa kasar",
         "ne, jeg, ningeh, kasar, lengeh, wake, nidik, nyolsol, mantet, nyadeg, nyegseg, ngamah, biase, munyi, kene"
        ]
       ],
       "shape": {
        "columns": 2,
        "rows": 6
       }
      },
      "text/html": [
       "<div>\n",
       "<style scoped>\n",
       "    .dataframe tbody tr th:only-of-type {\n",
       "        vertical-align: middle;\n",
       "    }\n",
       "\n",
       "    .dataframe tbody tr th {\n",
       "        vertical-align: top;\n",
       "    }\n",
       "\n",
       "    .dataframe thead th {\n",
       "        text-align: right;\n",
       "    }\n",
       "</style>\n",
       "<table border=\"1\" class=\"dataframe\">\n",
       "  <thead>\n",
       "    <tr style=\"text-align: right;\">\n",
       "      <th></th>\n",
       "      <th>label</th>\n",
       "      <th>top_15_words</th>\n",
       "    </tr>\n",
       "  </thead>\n",
       "  <tbody>\n",
       "    <tr>\n",
       "      <th>0</th>\n",
       "      <td>alus singgih</td>\n",
       "      <td>sane, ring, bali, becik, pisan, semeton, wenten, sampun, niki, yening, puniki, dados, sareng, napi, sami</td>\n",
       "    </tr>\n",
       "    <tr>\n",
       "      <th>1</th>\n",
       "      <td>alus sor</td>\n",
       "      <td>sane, ring, titiang, bali, nunas, mbok, sampun, punika, becik, semeton, basa, tityang, suksma, puniki, wenten</td>\n",
       "    </tr>\n",
       "    <tr>\n",
       "      <th>2</th>\n",
       "      <td>alus mider</td>\n",
       "      <td>sane, ring, bali, aksara, nggih, ngiring, semeton, wenten, rahajeng, saking, kruna, sampun, malajah, puniki, uning</td>\n",
       "    </tr>\n",
       "    <tr>\n",
       "      <th>3</th>\n",
       "      <td>alus madia</td>\n",
       "      <td>sane, ring, nggih, bali, semeton, becik, pisan, wenten, durus, yening, sampun, dados, ten, tiang, napi</td>\n",
       "    </tr>\n",
       "    <tr>\n",
       "      <th>4</th>\n",
       "      <td>basa andap</td>\n",
       "      <td>bali, ane, ne, di, aksara, basa, sane, sing, min, ada, yen, ton, coba, i, malajah</td>\n",
       "    </tr>\n",
       "    <tr>\n",
       "      <th>5</th>\n",
       "      <td>basa kasar</td>\n",
       "      <td>ne, jeg, ningeh, kasar, lengeh, wake, nidik, nyolsol, mantet, nyadeg, nyegseg, ngamah, biase, munyi, kene</td>\n",
       "    </tr>\n",
       "  </tbody>\n",
       "</table>\n",
       "</div>"
      ],
      "text/plain": [
       "          label  \\\n",
       "0  alus singgih   \n",
       "1      alus sor   \n",
       "2    alus mider   \n",
       "3    alus madia   \n",
       "4    basa andap   \n",
       "5    basa kasar   \n",
       "\n",
       "                                                                                                         top_15_words  \n",
       "0            sane, ring, bali, becik, pisan, semeton, wenten, sampun, niki, yening, puniki, dados, sareng, napi, sami  \n",
       "1       sane, ring, titiang, bali, nunas, mbok, sampun, punika, becik, semeton, basa, tityang, suksma, puniki, wenten  \n",
       "2  sane, ring, bali, aksara, nggih, ngiring, semeton, wenten, rahajeng, saking, kruna, sampun, malajah, puniki, uning  \n",
       "3              sane, ring, nggih, bali, semeton, becik, pisan, wenten, durus, yening, sampun, dados, ten, tiang, napi  \n",
       "4                                   bali, ane, ne, di, aksara, basa, sane, sing, min, ada, yen, ton, coba, i, malajah  \n",
       "5           ne, jeg, ningeh, kasar, lengeh, wake, nidik, nyolsol, mantet, nyadeg, nyegseg, ngamah, biase, munyi, kene  "
      ]
     },
     "execution_count": 23,
     "metadata": {},
     "output_type": "execute_result"
    }
   ],
   "source": [
    "def get_top_words_by_label():\n",
    "    top_words = 15\n",
    "\n",
    "    def get_top_words(group):\n",
    "        all_words = \" \".join(group).lower().split()\n",
    "        word_counts = Counter(all_words)\n",
    "        top_10 = [word for word, _ in word_counts.most_common(top_words)]\n",
    "        return \", \".join(top_10)\n",
    "\n",
    "    top_words_by_label = (\n",
    "        ori_df.groupby(\"label\")[\"text\"].apply(get_top_words).reset_index()\n",
    "    )\n",
    "    top_words_by_label.columns = [\"label\", f\"top_{top_words}_words\"]\n",
    "    top_words_by_label[\"label\"] = top_words_by_label[\"label\"].map(idx_to_label)\n",
    "    pd.set_option(\"display.max_colwidth\", None)\n",
    "    return top_words_by_label\n",
    "\n",
    "\n",
    "get_top_words_by_label()"
   ]
  },
  {
   "cell_type": "code",
   "execution_count": 24,
   "metadata": {},
   "outputs": [
    {
     "data": {
      "application/vnd.microsoft.datawrangler.viewer.v0+json": {
       "columns": [
        {
         "name": "index",
         "rawType": "object",
         "type": "string"
        },
        {
         "name": "alus singgih",
         "rawType": "int64",
         "type": "integer"
        },
        {
         "name": "alus sor",
         "rawType": "int64",
         "type": "integer"
        },
        {
         "name": "alus mider",
         "rawType": "int64",
         "type": "integer"
        },
        {
         "name": "alus madia",
         "rawType": "int64",
         "type": "integer"
        },
        {
         "name": "basa andap",
         "rawType": "int64",
         "type": "integer"
        },
        {
         "name": "basa kasar",
         "rawType": "int64",
         "type": "integer"
        }
       ],
       "conversionMethod": "pd.DataFrame",
       "ref": "fa395d2e-4f4b-4f1c-825e-34e6c4ee1a65",
       "rows": [
        [
         "sane",
         "74",
         "35",
         "155",
         "75",
         "51",
         "0"
        ],
        [
         "bali",
         "36",
         "23",
         "116",
         "33",
         "98",
         "0"
        ],
        [
         "ring",
         "58",
         "34",
         "124",
         "56",
         "33",
         "0"
        ],
        [
         "nggih",
         "14",
         "9",
         "66",
         "50",
         "23",
         "0"
        ],
        [
         "semeton",
         "32",
         "13",
         "63",
         "29",
         "19",
         "0"
        ],
        [
         "aksara",
         "9",
         "1",
         "69",
         "11",
         "64",
         "0"
        ],
        [
         "wenten",
         "31",
         "11",
         "63",
         "27",
         "20",
         "0"
        ],
        [
         "sampun",
         "30",
         "16",
         "48",
         "26",
         "12",
         "0"
        ],
        [
         "basa",
         "13",
         "13",
         "33",
         "10",
         "54",
         "0"
        ],
        [
         "ngiring",
         "13",
         "7",
         "66",
         "12",
         "19",
         "0"
        ]
       ],
       "shape": {
        "columns": 6,
        "rows": 10
       }
      },
      "text/html": [
       "<div>\n",
       "<style scoped>\n",
       "    .dataframe tbody tr th:only-of-type {\n",
       "        vertical-align: middle;\n",
       "    }\n",
       "\n",
       "    .dataframe tbody tr th {\n",
       "        vertical-align: top;\n",
       "    }\n",
       "\n",
       "    .dataframe thead th {\n",
       "        text-align: right;\n",
       "    }\n",
       "</style>\n",
       "<table border=\"1\" class=\"dataframe\">\n",
       "  <thead>\n",
       "    <tr style=\"text-align: right;\">\n",
       "      <th></th>\n",
       "      <th>alus singgih</th>\n",
       "      <th>alus sor</th>\n",
       "      <th>alus mider</th>\n",
       "      <th>alus madia</th>\n",
       "      <th>basa andap</th>\n",
       "      <th>basa kasar</th>\n",
       "    </tr>\n",
       "  </thead>\n",
       "  <tbody>\n",
       "    <tr>\n",
       "      <th>sane</th>\n",
       "      <td>74</td>\n",
       "      <td>35</td>\n",
       "      <td>155</td>\n",
       "      <td>75</td>\n",
       "      <td>51</td>\n",
       "      <td>0</td>\n",
       "    </tr>\n",
       "    <tr>\n",
       "      <th>bali</th>\n",
       "      <td>36</td>\n",
       "      <td>23</td>\n",
       "      <td>116</td>\n",
       "      <td>33</td>\n",
       "      <td>98</td>\n",
       "      <td>0</td>\n",
       "    </tr>\n",
       "    <tr>\n",
       "      <th>ring</th>\n",
       "      <td>58</td>\n",
       "      <td>34</td>\n",
       "      <td>124</td>\n",
       "      <td>56</td>\n",
       "      <td>33</td>\n",
       "      <td>0</td>\n",
       "    </tr>\n",
       "    <tr>\n",
       "      <th>nggih</th>\n",
       "      <td>14</td>\n",
       "      <td>9</td>\n",
       "      <td>66</td>\n",
       "      <td>50</td>\n",
       "      <td>23</td>\n",
       "      <td>0</td>\n",
       "    </tr>\n",
       "    <tr>\n",
       "      <th>semeton</th>\n",
       "      <td>32</td>\n",
       "      <td>13</td>\n",
       "      <td>63</td>\n",
       "      <td>29</td>\n",
       "      <td>19</td>\n",
       "      <td>0</td>\n",
       "    </tr>\n",
       "    <tr>\n",
       "      <th>aksara</th>\n",
       "      <td>9</td>\n",
       "      <td>1</td>\n",
       "      <td>69</td>\n",
       "      <td>11</td>\n",
       "      <td>64</td>\n",
       "      <td>0</td>\n",
       "    </tr>\n",
       "    <tr>\n",
       "      <th>wenten</th>\n",
       "      <td>31</td>\n",
       "      <td>11</td>\n",
       "      <td>63</td>\n",
       "      <td>27</td>\n",
       "      <td>20</td>\n",
       "      <td>0</td>\n",
       "    </tr>\n",
       "    <tr>\n",
       "      <th>sampun</th>\n",
       "      <td>30</td>\n",
       "      <td>16</td>\n",
       "      <td>48</td>\n",
       "      <td>26</td>\n",
       "      <td>12</td>\n",
       "      <td>0</td>\n",
       "    </tr>\n",
       "    <tr>\n",
       "      <th>basa</th>\n",
       "      <td>13</td>\n",
       "      <td>13</td>\n",
       "      <td>33</td>\n",
       "      <td>10</td>\n",
       "      <td>54</td>\n",
       "      <td>0</td>\n",
       "    </tr>\n",
       "    <tr>\n",
       "      <th>ngiring</th>\n",
       "      <td>13</td>\n",
       "      <td>7</td>\n",
       "      <td>66</td>\n",
       "      <td>12</td>\n",
       "      <td>19</td>\n",
       "      <td>0</td>\n",
       "    </tr>\n",
       "  </tbody>\n",
       "</table>\n",
       "</div>"
      ],
      "text/plain": [
       "         alus singgih  alus sor  alus mider  alus madia  basa andap  \\\n",
       "sane               74        35         155          75          51   \n",
       "bali               36        23         116          33          98   \n",
       "ring               58        34         124          56          33   \n",
       "nggih              14         9          66          50          23   \n",
       "semeton            32        13          63          29          19   \n",
       "aksara              9         1          69          11          64   \n",
       "wenten             31        11          63          27          20   \n",
       "sampun             30        16          48          26          12   \n",
       "basa               13        13          33          10          54   \n",
       "ngiring            13         7          66          12          19   \n",
       "\n",
       "         basa kasar  \n",
       "sane              0  \n",
       "bali              0  \n",
       "ring              0  \n",
       "nggih             0  \n",
       "semeton           0  \n",
       "aksara            0  \n",
       "wenten            0  \n",
       "sampun            0  \n",
       "basa              0  \n",
       "ngiring           0  "
      ]
     },
     "execution_count": 24,
     "metadata": {},
     "output_type": "execute_result"
    }
   ],
   "source": [
    "def get_top_words_counter():\n",
    "    word_freq = Counter()\n",
    "\n",
    "    for sentence in ori_df[\"text\"]:\n",
    "        words = sentence.split()\n",
    "        word_freq.update(words)\n",
    "\n",
    "    top_words = [word for word, _ in word_freq.most_common(10)]\n",
    "    result_df = pd.DataFrame(0, index=top_words, columns=idx_to_label.keys())\n",
    "    for _, row in ori_df.iterrows():\n",
    "        label = row[\"label\"]\n",
    "        words = row[\"text\"].split()\n",
    "        word_counts = Counter(words)\n",
    "        for word in top_words:\n",
    "            result_df.at[word, label] += word_counts.get(word, 0)\n",
    "    result_df.columns = [idx_to_label.get(label) for label in result_df.columns]\n",
    "    return result_df\n",
    "\n",
    "\n",
    "get_top_words_counter()"
   ]
  },
  {
   "cell_type": "markdown",
   "metadata": {},
   "source": [
    "## Modeling"
   ]
  },
  {
   "cell_type": "markdown",
   "metadata": {},
   "source": [
    "### Hyperparameter Tuning"
   ]
  },
  {
   "cell_type": "code",
   "execution_count": 25,
   "metadata": {},
   "outputs": [],
   "source": [
    "CV_HISTORY = []"
   ]
  },
  {
   "cell_type": "code",
   "execution_count": 26,
   "metadata": {},
   "outputs": [],
   "source": [
    "def smote_resampling(X: np.ndarray, y: np.ndarray):\n",
    "    \"\"\"\n",
    "    Apply SMOTE resampling using not majority\n",
    "    \"\"\"\n",
    "    smote = SMOTE(k_neighbors=5, random_state=42)\n",
    "\n",
    "    dict_y = Counter(y)\n",
    "    majority_class = max(dict_y, key=dict_y.get)\n",
    "    max_count = dict_y[majority_class]\n",
    "\n",
    "    percentage_increase = {\n",
    "        cls: np.floor((max_count - count) / count * 100)\n",
    "        for cls, count in dict_y.items()\n",
    "        if cls != majority_class\n",
    "    }\n",
    "\n",
    "    X_train_sampled, y_train_sampled = X, y\n",
    "    for cls, pct in percentage_increase.items():\n",
    "        X_train_sampled, y_train_sampled = smote.fit_resample(\n",
    "            X_train_sampled, y_train_sampled, int(cls), max_count, N=pct\n",
    "        )\n",
    "\n",
    "    return X_train_sampled, y_train_sampled"
   ]
  },
  {
   "cell_type": "code",
   "execution_count": 27,
   "metadata": {},
   "outputs": [],
   "source": [
    "def find_best_model(X: np.ndarray, y: np.ndarray, options: dict) -> dict:\n",
    "    global CV_HISTORY\n",
    "\n",
    "    progress_bar = tqdm(\n",
    "        total=options.get(\"total\"), desc=\"Searching for best hyperparameters\"\n",
    "    )\n",
    "\n",
    "    best_score = 0\n",
    "    best_params = None\n",
    "\n",
    "    for n_pct_features in options.get(\"n_pct_features\"):\n",
    "        for alpha in options.get(\"alpha\"):\n",
    "            for resample in options.get(\"resample\"):\n",
    "                try:\n",
    "                    X_train = copy.deepcopy(X)\n",
    "                    y_train = copy.deepcopy(y)\n",
    "\n",
    "                    tfidf = TFIDF()\n",
    "                    X_train_tfidf = tfidf.fit_transform(X_train)\n",
    "\n",
    "                    feature_score = chi_square(X_train_tfidf, y_train)\n",
    "                    n_features = int(n_pct_features * X_train_tfidf.shape[1])\n",
    "                    top_features = np.argsort(feature_score)[::-1][:n_features]\n",
    "\n",
    "                    if resample:\n",
    "                        X_train_tfidf, y_train = smote_resampling(\n",
    "                            X_train_tfidf, y_train\n",
    "                        )\n",
    "\n",
    "                    X_train_selected = X_train_tfidf[:, top_features]\n",
    "\n",
    "                    model = MultinomialNB(alpha=alpha)\n",
    "                    model.fit(X_train_selected, y_train)\n",
    "\n",
    "                    cv_score = cross_validation(\n",
    "                        model, X_train_selected, y_train, k_folds=5, random_state=42\n",
    "                    )\n",
    "                    avg_score = np.mean(cv_score)\n",
    "\n",
    "                    CV_HISTORY.append(\n",
    "                        {\n",
    "                            \"avg_score\": avg_score,\n",
    "                            \"n_pct_features\": n_pct_features,\n",
    "                            \"n_features\": n_features,\n",
    "                            \"alpha\": alpha,\n",
    "                            \"resample\": resample,\n",
    "                        }\n",
    "                    )\n",
    "\n",
    "                    if avg_score > best_score:\n",
    "                        best_score = avg_score\n",
    "                        best_params = {\n",
    "                            \"best_score\": best_score,\n",
    "                            \"n_pct_features\": n_pct_features,\n",
    "                            \"n_features\": n_features,\n",
    "                            \"alpha\": alpha,\n",
    "                            \"resample\": resample,\n",
    "                        }\n",
    "                    progress_bar.update(1)\n",
    "                except Exception as e:\n",
    "                    print(e)\n",
    "    progress_bar.close()\n",
    "    return best_params"
   ]
  },
  {
   "cell_type": "code",
   "execution_count": 28,
   "metadata": {},
   "outputs": [],
   "source": [
    "X = df[\"text\"].astype(str)\n",
    "y = df[\"label\"]"
   ]
  },
  {
   "cell_type": "code",
   "execution_count": 29,
   "metadata": {},
   "outputs": [],
   "source": [
    "N_PCT_FEATURES_OPTIONS = np.arange(40, 101, 10) / 100\n",
    "ALPHA_OPTIONS = np.arange(0.25, 1.1, 0.25)\n",
    "RESAMPLE_OPTIONS = np.arange(2)"
   ]
  },
  {
   "cell_type": "code",
   "execution_count": 30,
   "metadata": {},
   "outputs": [
    {
     "data": {
      "text/plain": [
       "(array([0.4, 0.5, 0.6, 0.7, 0.8, 0.9, 1. ]),\n",
       " array([0.25, 0.5 , 0.75, 1.  ]),\n",
       " array([0, 1]))"
      ]
     },
     "execution_count": 30,
     "metadata": {},
     "output_type": "execute_result"
    }
   ],
   "source": [
    "N_PCT_FEATURES_OPTIONS, ALPHA_OPTIONS, RESAMPLE_OPTIONS"
   ]
  },
  {
   "cell_type": "code",
   "execution_count": 31,
   "metadata": {},
   "outputs": [],
   "source": [
    "options = {\n",
    "    \"n_pct_features\": N_PCT_FEATURES_OPTIONS,\n",
    "    \"alpha\": ALPHA_OPTIONS,\n",
    "    \"resample\": RESAMPLE_OPTIONS,\n",
    "    \"total\": len(N_PCT_FEATURES_OPTIONS) * len(ALPHA_OPTIONS) * len(RESAMPLE_OPTIONS),\n",
    "}"
   ]
  },
  {
   "cell_type": "code",
   "execution_count": 32,
   "metadata": {},
   "outputs": [],
   "source": [
    "X_train, X_test, y_train, y_test = split_data(\n",
    "    X.to_numpy(), y.to_numpy(), test_size=0.2, random_state=42\n",
    ")"
   ]
  },
  {
   "cell_type": "code",
   "execution_count": 33,
   "metadata": {},
   "outputs": [
    {
     "data": {
      "text/plain": [
       "((1052,), (262,))"
      ]
     },
     "execution_count": 33,
     "metadata": {},
     "output_type": "execute_result"
    }
   ],
   "source": [
    "X_train.shape, X_test.shape"
   ]
  },
  {
   "cell_type": "code",
   "execution_count": 34,
   "metadata": {},
   "outputs": [
    {
     "data": {
      "text/plain": [
       "Counter({np.float64(4.0): 442,\n",
       "         np.float64(2.0): 260,\n",
       "         np.float64(3.0): 144,\n",
       "         np.float64(0.0): 140,\n",
       "         np.float64(1.0): 57,\n",
       "         np.float64(5.0): 9})"
      ]
     },
     "execution_count": 34,
     "metadata": {},
     "output_type": "execute_result"
    }
   ],
   "source": [
    "Counter(y_train)"
   ]
  },
  {
   "cell_type": "code",
   "execution_count": 35,
   "metadata": {},
   "outputs": [
    {
     "name": "stderr",
     "output_type": "stream",
     "text": [
      "Searching for best hyperparameters: 100%|██████████| 56/56 [10:05<00:00, 10.82s/it]\n"
     ]
    },
    {
     "data": {
      "text/plain": [
       "{'best_score': np.float64(0.9177982692580506),\n",
       " 'n_pct_features': np.float64(0.8),\n",
       " 'n_features': 2720,\n",
       " 'alpha': np.float64(0.25),\n",
       " 'resample': np.int64(1)}"
      ]
     },
     "execution_count": 35,
     "metadata": {},
     "output_type": "execute_result"
    }
   ],
   "source": [
    "BEST_MODEL_CONFIG = find_best_model(X_train, y_train, options)\n",
    "BEST_MODEL_CONFIG"
   ]
  },
  {
   "cell_type": "code",
   "execution_count": 36,
   "metadata": {},
   "outputs": [
    {
     "data": {
      "application/vnd.microsoft.datawrangler.viewer.v0+json": {
       "columns": [
        {
         "name": "index",
         "rawType": "int64",
         "type": "integer"
        },
        {
         "name": "avg_score",
         "rawType": "float64",
         "type": "float"
        },
        {
         "name": "n_pct_features",
         "rawType": "float64",
         "type": "float"
        },
        {
         "name": "n_features",
         "rawType": "int64",
         "type": "integer"
        },
        {
         "name": "alpha",
         "rawType": "float64",
         "type": "float"
        },
        {
         "name": "resample",
         "rawType": "int64",
         "type": "integer"
        }
       ],
       "conversionMethod": "pd.DataFrame",
       "ref": "14002f55-5e78-4895-8cba-bf8347c3b2ed",
       "rows": [
        [
         "0",
         "0.6492812219227313",
         "0.4",
         "1360",
         "0.25",
         "0"
        ],
        [
         "1",
         "0.8902723790608598",
         "0.4",
         "1360",
         "0.25",
         "1"
        ],
        [
         "2",
         "0.6198472596585803",
         "0.4",
         "1360",
         "0.5",
         "0"
        ],
        [
         "3",
         "0.8748148673570719",
         "0.4",
         "1360",
         "0.5",
         "1"
        ],
        [
         "4",
         "0.605570530098832",
         "0.4",
         "1360",
         "0.75",
         "0"
        ],
        [
         "5",
         "0.857846503050078",
         "0.4",
         "1360",
         "0.75",
         "1"
        ],
        [
         "6",
         "0.5875022461814915",
         "0.4",
         "1360",
         "1.0",
         "0"
        ],
        [
         "7",
         "0.8503050078025252",
         "0.4",
         "1360",
         "1.0",
         "1"
        ],
        [
         "8",
         "0.6473764600179693",
         "0.5",
         "1700",
         "0.25",
         "0"
        ],
        [
         "9",
         "0.9083756561214358",
         "0.5",
         "1700",
         "0.25",
         "1"
        ],
        [
         "10",
         "0.6122461814914646",
         "0.5",
         "1700",
         "0.5",
         "0"
        ],
        [
         "11",
         "0.8891459781529296",
         "0.5",
         "1700",
         "0.5",
         "1"
        ],
        [
         "12",
         "0.6027313566936208",
         "0.5",
         "1700",
         "0.75",
         "0"
        ],
        [
         "13",
         "0.8725563909774436",
         "0.5",
         "1700",
         "0.75",
         "1"
        ],
        [
         "14",
         "0.5884456424079065",
         "0.5",
         "1700",
         "1.0",
         "0"
        ],
        [
         "15",
         "0.8616229252376224",
         "0.5",
         "1700",
         "1.0",
         "1"
        ],
        [
         "16",
         "0.6464330637915543",
         "0.6",
         "2040",
         "0.25",
         "0"
        ],
        [
         "17",
         "0.9170392963540926",
         "0.6",
         "2040",
         "0.25",
         "1"
        ],
        [
         "18",
         "0.6131895777178796",
         "0.6",
         "2040",
         "0.5",
         "0"
        ],
        [
         "19",
         "0.8970577386863384",
         "0.6",
         "2040",
         "0.5",
         "1"
        ],
        [
         "20",
         "0.606513926325247",
         "0.6",
         "2040",
         "0.75",
         "0"
        ],
        [
         "21",
         "0.882729465172365",
         "0.6",
         "2040",
         "0.75",
         "1"
        ],
        [
         "22",
         "0.5903414195867026",
         "0.6",
         "2040",
         "1.0",
         "0"
        ],
        [
         "23",
         "0.8672719534685772",
         "0.6",
         "2040",
         "1.0",
         "1"
        ],
        [
         "24",
         "0.6369182389937107",
         "0.7",
         "2380",
         "0.25",
         "0"
        ],
        [
         "25",
         "0.9166633565044687",
         "0.7",
         "2380",
         "0.25",
         "1"
        ],
        [
         "26",
         "0.6150763701707098",
         "0.7",
         "2380",
         "0.5",
         "0"
        ],
        [
         "27",
         "0.9000751879699248",
         "0.7",
         "2380",
         "0.5",
         "1"
        ],
        [
         "28",
         "0.6017520215633423",
         "0.7",
         "2380",
         "0.75",
         "0"
        ],
        [
         "29",
         "0.8846134203433111",
         "0.7",
         "2380",
         "0.75",
         "1"
        ],
        [
         "30",
         "0.5893890386343217",
         "0.7",
         "2380",
         "1.0",
         "0"
        ],
        [
         "31",
         "0.8721804511278195",
         "0.7",
         "2380",
         "1.0",
         "1"
        ],
        [
         "32",
         "0.6340610961365678",
         "0.8",
         "2720",
         "0.25",
         "0"
        ],
        [
         "33",
         "0.9177982692580506",
         "0.8",
         "2720",
         "0.25",
         "1"
        ],
        [
         "34",
         "0.6150943396226415",
         "0.8",
         "2720",
         "0.5",
         "0"
        ],
        [
         "35",
         "0.8981883955170946",
         "0.8",
         "2720",
         "0.5",
         "1"
        ],
        [
         "36",
         "0.5988948787061995",
         "0.8",
         "2720",
         "0.75",
         "0"
        ],
        [
         "37",
         "0.8800936303021706",
         "0.8",
         "2720",
         "0.75",
         "1"
        ],
        [
         "38",
         "0.5874842767295598",
         "0.8",
         "2720",
         "1.0",
         "0"
        ],
        [
         "39",
         "0.8672747907504611",
         "0.8",
         "2720",
         "1.0",
         "1"
        ],
        [
         "40",
         "0.6330907457322551",
         "0.9",
         "3060",
         "0.25",
         "0"
        ],
        [
         "41",
         "0.9106270392963541",
         "0.9",
         "3060",
         "0.25",
         "1"
        ],
        [
         "42",
         "0.6179424977538185",
         "0.9",
         "3060",
         "0.5",
         "0"
        ],
        [
         "43",
         "0.8917761384593559",
         "0.9",
         "3060",
         "0.5",
         "1"
        ],
        [
         "44",
         "0.6007996406109614",
         "0.9",
         "3060",
         "0.75",
         "0"
        ],
        [
         "45",
         "0.874812030075188",
         "0.9",
         "3060",
         "0.75",
         "1"
        ],
        [
         "46",
         "0.5903504043126684",
         "0.9",
         "3060",
         "1.0",
         "0"
        ],
        [
         "47",
         "0.8627464888636688",
         "0.9",
         "3060",
         "1.0",
         "1"
        ],
        [
         "48",
         "0.6216981132075472",
         "1.0",
         "3400",
         "0.25",
         "0"
        ],
        [
         "49",
         "0.9079855298623919",
         "1.0",
         "3400",
         "0.25",
         "1"
        ]
       ],
       "shape": {
        "columns": 5,
        "rows": 56
       }
      },
      "text/html": [
       "<div>\n",
       "<style scoped>\n",
       "    .dataframe tbody tr th:only-of-type {\n",
       "        vertical-align: middle;\n",
       "    }\n",
       "\n",
       "    .dataframe tbody tr th {\n",
       "        vertical-align: top;\n",
       "    }\n",
       "\n",
       "    .dataframe thead th {\n",
       "        text-align: right;\n",
       "    }\n",
       "</style>\n",
       "<table border=\"1\" class=\"dataframe\">\n",
       "  <thead>\n",
       "    <tr style=\"text-align: right;\">\n",
       "      <th></th>\n",
       "      <th>avg_score</th>\n",
       "      <th>n_pct_features</th>\n",
       "      <th>n_features</th>\n",
       "      <th>alpha</th>\n",
       "      <th>resample</th>\n",
       "    </tr>\n",
       "  </thead>\n",
       "  <tbody>\n",
       "    <tr>\n",
       "      <th>0</th>\n",
       "      <td>0.649281</td>\n",
       "      <td>0.4</td>\n",
       "      <td>1360</td>\n",
       "      <td>0.25</td>\n",
       "      <td>0</td>\n",
       "    </tr>\n",
       "    <tr>\n",
       "      <th>1</th>\n",
       "      <td>0.890272</td>\n",
       "      <td>0.4</td>\n",
       "      <td>1360</td>\n",
       "      <td>0.25</td>\n",
       "      <td>1</td>\n",
       "    </tr>\n",
       "    <tr>\n",
       "      <th>2</th>\n",
       "      <td>0.619847</td>\n",
       "      <td>0.4</td>\n",
       "      <td>1360</td>\n",
       "      <td>0.50</td>\n",
       "      <td>0</td>\n",
       "    </tr>\n",
       "    <tr>\n",
       "      <th>3</th>\n",
       "      <td>0.874815</td>\n",
       "      <td>0.4</td>\n",
       "      <td>1360</td>\n",
       "      <td>0.50</td>\n",
       "      <td>1</td>\n",
       "    </tr>\n",
       "    <tr>\n",
       "      <th>4</th>\n",
       "      <td>0.605571</td>\n",
       "      <td>0.4</td>\n",
       "      <td>1360</td>\n",
       "      <td>0.75</td>\n",
       "      <td>0</td>\n",
       "    </tr>\n",
       "    <tr>\n",
       "      <th>5</th>\n",
       "      <td>0.857847</td>\n",
       "      <td>0.4</td>\n",
       "      <td>1360</td>\n",
       "      <td>0.75</td>\n",
       "      <td>1</td>\n",
       "    </tr>\n",
       "    <tr>\n",
       "      <th>6</th>\n",
       "      <td>0.587502</td>\n",
       "      <td>0.4</td>\n",
       "      <td>1360</td>\n",
       "      <td>1.00</td>\n",
       "      <td>0</td>\n",
       "    </tr>\n",
       "    <tr>\n",
       "      <th>7</th>\n",
       "      <td>0.850305</td>\n",
       "      <td>0.4</td>\n",
       "      <td>1360</td>\n",
       "      <td>1.00</td>\n",
       "      <td>1</td>\n",
       "    </tr>\n",
       "    <tr>\n",
       "      <th>8</th>\n",
       "      <td>0.647376</td>\n",
       "      <td>0.5</td>\n",
       "      <td>1700</td>\n",
       "      <td>0.25</td>\n",
       "      <td>0</td>\n",
       "    </tr>\n",
       "    <tr>\n",
       "      <th>9</th>\n",
       "      <td>0.908376</td>\n",
       "      <td>0.5</td>\n",
       "      <td>1700</td>\n",
       "      <td>0.25</td>\n",
       "      <td>1</td>\n",
       "    </tr>\n",
       "    <tr>\n",
       "      <th>10</th>\n",
       "      <td>0.612246</td>\n",
       "      <td>0.5</td>\n",
       "      <td>1700</td>\n",
       "      <td>0.50</td>\n",
       "      <td>0</td>\n",
       "    </tr>\n",
       "    <tr>\n",
       "      <th>11</th>\n",
       "      <td>0.889146</td>\n",
       "      <td>0.5</td>\n",
       "      <td>1700</td>\n",
       "      <td>0.50</td>\n",
       "      <td>1</td>\n",
       "    </tr>\n",
       "    <tr>\n",
       "      <th>12</th>\n",
       "      <td>0.602731</td>\n",
       "      <td>0.5</td>\n",
       "      <td>1700</td>\n",
       "      <td>0.75</td>\n",
       "      <td>0</td>\n",
       "    </tr>\n",
       "    <tr>\n",
       "      <th>13</th>\n",
       "      <td>0.872556</td>\n",
       "      <td>0.5</td>\n",
       "      <td>1700</td>\n",
       "      <td>0.75</td>\n",
       "      <td>1</td>\n",
       "    </tr>\n",
       "    <tr>\n",
       "      <th>14</th>\n",
       "      <td>0.588446</td>\n",
       "      <td>0.5</td>\n",
       "      <td>1700</td>\n",
       "      <td>1.00</td>\n",
       "      <td>0</td>\n",
       "    </tr>\n",
       "    <tr>\n",
       "      <th>15</th>\n",
       "      <td>0.861623</td>\n",
       "      <td>0.5</td>\n",
       "      <td>1700</td>\n",
       "      <td>1.00</td>\n",
       "      <td>1</td>\n",
       "    </tr>\n",
       "    <tr>\n",
       "      <th>16</th>\n",
       "      <td>0.646433</td>\n",
       "      <td>0.6</td>\n",
       "      <td>2040</td>\n",
       "      <td>0.25</td>\n",
       "      <td>0</td>\n",
       "    </tr>\n",
       "    <tr>\n",
       "      <th>17</th>\n",
       "      <td>0.917039</td>\n",
       "      <td>0.6</td>\n",
       "      <td>2040</td>\n",
       "      <td>0.25</td>\n",
       "      <td>1</td>\n",
       "    </tr>\n",
       "    <tr>\n",
       "      <th>18</th>\n",
       "      <td>0.613190</td>\n",
       "      <td>0.6</td>\n",
       "      <td>2040</td>\n",
       "      <td>0.50</td>\n",
       "      <td>0</td>\n",
       "    </tr>\n",
       "    <tr>\n",
       "      <th>19</th>\n",
       "      <td>0.897058</td>\n",
       "      <td>0.6</td>\n",
       "      <td>2040</td>\n",
       "      <td>0.50</td>\n",
       "      <td>1</td>\n",
       "    </tr>\n",
       "    <tr>\n",
       "      <th>20</th>\n",
       "      <td>0.606514</td>\n",
       "      <td>0.6</td>\n",
       "      <td>2040</td>\n",
       "      <td>0.75</td>\n",
       "      <td>0</td>\n",
       "    </tr>\n",
       "    <tr>\n",
       "      <th>21</th>\n",
       "      <td>0.882729</td>\n",
       "      <td>0.6</td>\n",
       "      <td>2040</td>\n",
       "      <td>0.75</td>\n",
       "      <td>1</td>\n",
       "    </tr>\n",
       "    <tr>\n",
       "      <th>22</th>\n",
       "      <td>0.590341</td>\n",
       "      <td>0.6</td>\n",
       "      <td>2040</td>\n",
       "      <td>1.00</td>\n",
       "      <td>0</td>\n",
       "    </tr>\n",
       "    <tr>\n",
       "      <th>23</th>\n",
       "      <td>0.867272</td>\n",
       "      <td>0.6</td>\n",
       "      <td>2040</td>\n",
       "      <td>1.00</td>\n",
       "      <td>1</td>\n",
       "    </tr>\n",
       "    <tr>\n",
       "      <th>24</th>\n",
       "      <td>0.636918</td>\n",
       "      <td>0.7</td>\n",
       "      <td>2380</td>\n",
       "      <td>0.25</td>\n",
       "      <td>0</td>\n",
       "    </tr>\n",
       "    <tr>\n",
       "      <th>25</th>\n",
       "      <td>0.916663</td>\n",
       "      <td>0.7</td>\n",
       "      <td>2380</td>\n",
       "      <td>0.25</td>\n",
       "      <td>1</td>\n",
       "    </tr>\n",
       "    <tr>\n",
       "      <th>26</th>\n",
       "      <td>0.615076</td>\n",
       "      <td>0.7</td>\n",
       "      <td>2380</td>\n",
       "      <td>0.50</td>\n",
       "      <td>0</td>\n",
       "    </tr>\n",
       "    <tr>\n",
       "      <th>27</th>\n",
       "      <td>0.900075</td>\n",
       "      <td>0.7</td>\n",
       "      <td>2380</td>\n",
       "      <td>0.50</td>\n",
       "      <td>1</td>\n",
       "    </tr>\n",
       "    <tr>\n",
       "      <th>28</th>\n",
       "      <td>0.601752</td>\n",
       "      <td>0.7</td>\n",
       "      <td>2380</td>\n",
       "      <td>0.75</td>\n",
       "      <td>0</td>\n",
       "    </tr>\n",
       "    <tr>\n",
       "      <th>29</th>\n",
       "      <td>0.884613</td>\n",
       "      <td>0.7</td>\n",
       "      <td>2380</td>\n",
       "      <td>0.75</td>\n",
       "      <td>1</td>\n",
       "    </tr>\n",
       "    <tr>\n",
       "      <th>30</th>\n",
       "      <td>0.589389</td>\n",
       "      <td>0.7</td>\n",
       "      <td>2380</td>\n",
       "      <td>1.00</td>\n",
       "      <td>0</td>\n",
       "    </tr>\n",
       "    <tr>\n",
       "      <th>31</th>\n",
       "      <td>0.872180</td>\n",
       "      <td>0.7</td>\n",
       "      <td>2380</td>\n",
       "      <td>1.00</td>\n",
       "      <td>1</td>\n",
       "    </tr>\n",
       "    <tr>\n",
       "      <th>32</th>\n",
       "      <td>0.634061</td>\n",
       "      <td>0.8</td>\n",
       "      <td>2720</td>\n",
       "      <td>0.25</td>\n",
       "      <td>0</td>\n",
       "    </tr>\n",
       "    <tr>\n",
       "      <th>33</th>\n",
       "      <td>0.917798</td>\n",
       "      <td>0.8</td>\n",
       "      <td>2720</td>\n",
       "      <td>0.25</td>\n",
       "      <td>1</td>\n",
       "    </tr>\n",
       "    <tr>\n",
       "      <th>34</th>\n",
       "      <td>0.615094</td>\n",
       "      <td>0.8</td>\n",
       "      <td>2720</td>\n",
       "      <td>0.50</td>\n",
       "      <td>0</td>\n",
       "    </tr>\n",
       "    <tr>\n",
       "      <th>35</th>\n",
       "      <td>0.898188</td>\n",
       "      <td>0.8</td>\n",
       "      <td>2720</td>\n",
       "      <td>0.50</td>\n",
       "      <td>1</td>\n",
       "    </tr>\n",
       "    <tr>\n",
       "      <th>36</th>\n",
       "      <td>0.598895</td>\n",
       "      <td>0.8</td>\n",
       "      <td>2720</td>\n",
       "      <td>0.75</td>\n",
       "      <td>0</td>\n",
       "    </tr>\n",
       "    <tr>\n",
       "      <th>37</th>\n",
       "      <td>0.880094</td>\n",
       "      <td>0.8</td>\n",
       "      <td>2720</td>\n",
       "      <td>0.75</td>\n",
       "      <td>1</td>\n",
       "    </tr>\n",
       "    <tr>\n",
       "      <th>38</th>\n",
       "      <td>0.587484</td>\n",
       "      <td>0.8</td>\n",
       "      <td>2720</td>\n",
       "      <td>1.00</td>\n",
       "      <td>0</td>\n",
       "    </tr>\n",
       "    <tr>\n",
       "      <th>39</th>\n",
       "      <td>0.867275</td>\n",
       "      <td>0.8</td>\n",
       "      <td>2720</td>\n",
       "      <td>1.00</td>\n",
       "      <td>1</td>\n",
       "    </tr>\n",
       "    <tr>\n",
       "      <th>40</th>\n",
       "      <td>0.633091</td>\n",
       "      <td>0.9</td>\n",
       "      <td>3060</td>\n",
       "      <td>0.25</td>\n",
       "      <td>0</td>\n",
       "    </tr>\n",
       "    <tr>\n",
       "      <th>41</th>\n",
       "      <td>0.910627</td>\n",
       "      <td>0.9</td>\n",
       "      <td>3060</td>\n",
       "      <td>0.25</td>\n",
       "      <td>1</td>\n",
       "    </tr>\n",
       "    <tr>\n",
       "      <th>42</th>\n",
       "      <td>0.617942</td>\n",
       "      <td>0.9</td>\n",
       "      <td>3060</td>\n",
       "      <td>0.50</td>\n",
       "      <td>0</td>\n",
       "    </tr>\n",
       "    <tr>\n",
       "      <th>43</th>\n",
       "      <td>0.891776</td>\n",
       "      <td>0.9</td>\n",
       "      <td>3060</td>\n",
       "      <td>0.50</td>\n",
       "      <td>1</td>\n",
       "    </tr>\n",
       "    <tr>\n",
       "      <th>44</th>\n",
       "      <td>0.600800</td>\n",
       "      <td>0.9</td>\n",
       "      <td>3060</td>\n",
       "      <td>0.75</td>\n",
       "      <td>0</td>\n",
       "    </tr>\n",
       "    <tr>\n",
       "      <th>45</th>\n",
       "      <td>0.874812</td>\n",
       "      <td>0.9</td>\n",
       "      <td>3060</td>\n",
       "      <td>0.75</td>\n",
       "      <td>1</td>\n",
       "    </tr>\n",
       "    <tr>\n",
       "      <th>46</th>\n",
       "      <td>0.590350</td>\n",
       "      <td>0.9</td>\n",
       "      <td>3060</td>\n",
       "      <td>1.00</td>\n",
       "      <td>0</td>\n",
       "    </tr>\n",
       "    <tr>\n",
       "      <th>47</th>\n",
       "      <td>0.862746</td>\n",
       "      <td>0.9</td>\n",
       "      <td>3060</td>\n",
       "      <td>1.00</td>\n",
       "      <td>1</td>\n",
       "    </tr>\n",
       "    <tr>\n",
       "      <th>48</th>\n",
       "      <td>0.621698</td>\n",
       "      <td>1.0</td>\n",
       "      <td>3400</td>\n",
       "      <td>0.25</td>\n",
       "      <td>0</td>\n",
       "    </tr>\n",
       "    <tr>\n",
       "      <th>49</th>\n",
       "      <td>0.907986</td>\n",
       "      <td>1.0</td>\n",
       "      <td>3400</td>\n",
       "      <td>0.25</td>\n",
       "      <td>1</td>\n",
       "    </tr>\n",
       "    <tr>\n",
       "      <th>50</th>\n",
       "      <td>0.611285</td>\n",
       "      <td>1.0</td>\n",
       "      <td>3400</td>\n",
       "      <td>0.50</td>\n",
       "      <td>0</td>\n",
       "    </tr>\n",
       "    <tr>\n",
       "      <th>51</th>\n",
       "      <td>0.888387</td>\n",
       "      <td>1.0</td>\n",
       "      <td>3400</td>\n",
       "      <td>0.50</td>\n",
       "      <td>1</td>\n",
       "    </tr>\n",
       "    <tr>\n",
       "      <th>52</th>\n",
       "      <td>0.598904</td>\n",
       "      <td>1.0</td>\n",
       "      <td>3400</td>\n",
       "      <td>0.75</td>\n",
       "      <td>0</td>\n",
       "    </tr>\n",
       "    <tr>\n",
       "      <th>53</th>\n",
       "      <td>0.872929</td>\n",
       "      <td>1.0</td>\n",
       "      <td>3400</td>\n",
       "      <td>0.75</td>\n",
       "      <td>1</td>\n",
       "    </tr>\n",
       "    <tr>\n",
       "      <th>54</th>\n",
       "      <td>0.586550</td>\n",
       "      <td>1.0</td>\n",
       "      <td>3400</td>\n",
       "      <td>1.00</td>\n",
       "      <td>0</td>\n",
       "    </tr>\n",
       "    <tr>\n",
       "      <th>55</th>\n",
       "      <td>0.858227</td>\n",
       "      <td>1.0</td>\n",
       "      <td>3400</td>\n",
       "      <td>1.00</td>\n",
       "      <td>1</td>\n",
       "    </tr>\n",
       "  </tbody>\n",
       "</table>\n",
       "</div>"
      ],
      "text/plain": [
       "    avg_score  n_pct_features  n_features  alpha  resample\n",
       "0    0.649281             0.4        1360   0.25         0\n",
       "1    0.890272             0.4        1360   0.25         1\n",
       "2    0.619847             0.4        1360   0.50         0\n",
       "3    0.874815             0.4        1360   0.50         1\n",
       "4    0.605571             0.4        1360   0.75         0\n",
       "5    0.857847             0.4        1360   0.75         1\n",
       "6    0.587502             0.4        1360   1.00         0\n",
       "7    0.850305             0.4        1360   1.00         1\n",
       "8    0.647376             0.5        1700   0.25         0\n",
       "9    0.908376             0.5        1700   0.25         1\n",
       "10   0.612246             0.5        1700   0.50         0\n",
       "11   0.889146             0.5        1700   0.50         1\n",
       "12   0.602731             0.5        1700   0.75         0\n",
       "13   0.872556             0.5        1700   0.75         1\n",
       "14   0.588446             0.5        1700   1.00         0\n",
       "15   0.861623             0.5        1700   1.00         1\n",
       "16   0.646433             0.6        2040   0.25         0\n",
       "17   0.917039             0.6        2040   0.25         1\n",
       "18   0.613190             0.6        2040   0.50         0\n",
       "19   0.897058             0.6        2040   0.50         1\n",
       "20   0.606514             0.6        2040   0.75         0\n",
       "21   0.882729             0.6        2040   0.75         1\n",
       "22   0.590341             0.6        2040   1.00         0\n",
       "23   0.867272             0.6        2040   1.00         1\n",
       "24   0.636918             0.7        2380   0.25         0\n",
       "25   0.916663             0.7        2380   0.25         1\n",
       "26   0.615076             0.7        2380   0.50         0\n",
       "27   0.900075             0.7        2380   0.50         1\n",
       "28   0.601752             0.7        2380   0.75         0\n",
       "29   0.884613             0.7        2380   0.75         1\n",
       "30   0.589389             0.7        2380   1.00         0\n",
       "31   0.872180             0.7        2380   1.00         1\n",
       "32   0.634061             0.8        2720   0.25         0\n",
       "33   0.917798             0.8        2720   0.25         1\n",
       "34   0.615094             0.8        2720   0.50         0\n",
       "35   0.898188             0.8        2720   0.50         1\n",
       "36   0.598895             0.8        2720   0.75         0\n",
       "37   0.880094             0.8        2720   0.75         1\n",
       "38   0.587484             0.8        2720   1.00         0\n",
       "39   0.867275             0.8        2720   1.00         1\n",
       "40   0.633091             0.9        3060   0.25         0\n",
       "41   0.910627             0.9        3060   0.25         1\n",
       "42   0.617942             0.9        3060   0.50         0\n",
       "43   0.891776             0.9        3060   0.50         1\n",
       "44   0.600800             0.9        3060   0.75         0\n",
       "45   0.874812             0.9        3060   0.75         1\n",
       "46   0.590350             0.9        3060   1.00         0\n",
       "47   0.862746             0.9        3060   1.00         1\n",
       "48   0.621698             1.0        3400   0.25         0\n",
       "49   0.907986             1.0        3400   0.25         1\n",
       "50   0.611285             1.0        3400   0.50         0\n",
       "51   0.888387             1.0        3400   0.50         1\n",
       "52   0.598904             1.0        3400   0.75         0\n",
       "53   0.872929             1.0        3400   0.75         1\n",
       "54   0.586550             1.0        3400   1.00         0\n",
       "55   0.858227             1.0        3400   1.00         1"
      ]
     },
     "execution_count": 36,
     "metadata": {},
     "output_type": "execute_result"
    }
   ],
   "source": [
    "df_history = pd.DataFrame(CV_HISTORY)\n",
    "df_history"
   ]
  },
  {
   "cell_type": "code",
   "execution_count": 37,
   "metadata": {},
   "outputs": [
    {
     "data": {
      "image/png": "[encoded data removed]",
      "text/plain": [
       "<Figure size 1200x600 with 1 Axes>"
      ]
     },
     "metadata": {},
     "output_type": "display_data"
    }
   ],
   "source": [
    "def get_resampling_comparison():\n",
    "    used_df = df_history[(df_history[\"resample\"] == 1)]\n",
    "    used_df = used_df[[\"avg_score\", \"n_features\", \"alpha\"]]\n",
    "    plt.figure(figsize=(12, 6))\n",
    "    for alpha in ALPHA_OPTIONS:\n",
    "        if alpha == 0:\n",
    "            continue\n",
    "        used_data = used_df[used_df[\"alpha\"] == alpha]\n",
    "\n",
    "        sns.lineplot(\n",
    "            x=\"n_features\",\n",
    "            y=\"avg_score\",\n",
    "            data=used_data,\n",
    "            label=f\"alpha ={alpha} \",\n",
    "            marker=\"o\",\n",
    "        )\n",
    "\n",
    "        for i in range(used_data.shape[0]):\n",
    "            plt.text(\n",
    "                used_data[\"n_features\"].iloc[i],\n",
    "                used_data[\"avg_score\"].iloc[i],\n",
    "                f\"{used_data['avg_score'].iloc[i]:.4f}\",\n",
    "                horizontalalignment=\"left\",\n",
    "                verticalalignment=\"bottom\",\n",
    "                fontsize=9,\n",
    "            )\n",
    "\n",
    "    plt.title(\n",
    "        \"Perbandingan Performa Berdasarkan Jumlah Fitur dan Alpha (Resampling)\",\n",
    "        fontsize=14,\n",
    "        weight=\"bold\",\n",
    "        pad=20,\n",
    "    )\n",
    "    plt.xlabel(\"Jumlah Fitur\")\n",
    "    plt.ylabel(\"Rata-rata Akurasi\")\n",
    "\n",
    "    # padding\n",
    "    x_min, x_max = plt.xlim()\n",
    "    plt.xlim(x_min, x_max + 0.03 * (x_max - x_min))\n",
    "\n",
    "    plt.legend()\n",
    "    plt.savefig(\"chart/cv_performance_comparison.png\", dpi=300, bbox_inches=\"tight\")\n",
    "    plt.show()\n",
    "\n",
    "\n",
    "get_resampling_comparison()"
   ]
  },
  {
   "cell_type": "code",
   "execution_count": 38,
   "metadata": {},
   "outputs": [
    {
     "data": {
      "image/png": "[encoded data removed]",
      "text/plain": [
       "<Figure size 1200x600 with 1 Axes>"
      ]
     },
     "metadata": {},
     "output_type": "display_data"
    }
   ],
   "source": [
    "def get_no_resampling_comparison():\n",
    "    used_df = df_history[(df_history[\"resample\"] == 0)]\n",
    "    used_df = used_df[[\"avg_score\", \"n_features\", \"alpha\"]]\n",
    "\n",
    "    plt.figure(figsize=(12, 6))\n",
    "    for alpha in ALPHA_OPTIONS:\n",
    "        if alpha == 0:\n",
    "            continue\n",
    "        used_data = used_df[used_df[\"alpha\"] == alpha]\n",
    "\n",
    "        sns.lineplot(\n",
    "            x=\"n_features\",\n",
    "            y=\"avg_score\",\n",
    "            data=used_data,\n",
    "            label=f\"alpha ={alpha} \",\n",
    "            marker=\"o\",\n",
    "        )\n",
    "\n",
    "        for i in range(used_data.shape[0]):\n",
    "            plt.text(\n",
    "                used_data[\"n_features\"].iloc[i],\n",
    "                used_data[\"avg_score\"].iloc[i],\n",
    "                f\"{used_data['avg_score'].iloc[i]:.4f}\",\n",
    "                horizontalalignment=\"left\",\n",
    "                verticalalignment=\"bottom\",\n",
    "                fontsize=9,\n",
    "            )\n",
    "\n",
    "    plt.title(\n",
    "        \"Perbandingan Performa Berdasarkan Jumlah Fitur dan Alpha (Tanpa Resampling)\",\n",
    "        fontsize=14,\n",
    "        weight=\"bold\",\n",
    "        pad=20,\n",
    "    )\n",
    "    plt.xlabel(\"Jumlah Fitur\")\n",
    "    plt.ylabel(\"Rata-rata Akurasi\")\n",
    "\n",
    "    # padding\n",
    "    x_min, x_max = plt.xlim()\n",
    "    plt.xlim(x_min, x_max + 0.03 * (x_max - x_min))\n",
    "\n",
    "    plt.legend()\n",
    "    plt.savefig(\n",
    "        \"chart/cv_performance_comparison_no_resample.png\", dpi=300, bbox_inches=\"tight\"\n",
    "    )\n",
    "    plt.show()\n",
    "\n",
    "\n",
    "get_no_resampling_comparison()"
   ]
  },
  {
   "cell_type": "code",
   "execution_count": 39,
   "metadata": {},
   "outputs": [
    {
     "data": {
      "image/png": "[encoded data removed]",
      "text/plain": [
       "<Figure size 600x600 with 1 Axes>"
      ]
     },
     "metadata": {},
     "output_type": "display_data"
    }
   ],
   "source": [
    "def get_boxplot_oversampling_comparison():\n",
    "    plt.figure(figsize=(6, 6))\n",
    "    used_df = df_history.copy()\n",
    "    used_df[\"resample\"] = used_df[\"resample\"].astype(\"category\")\n",
    "    used_df[\"resample\"] = used_df[\"resample\"].map(\n",
    "        {0: \"Tanpa Oversampling\", 1: \"Oversampling\"}\n",
    "    )\n",
    "\n",
    "    sns.boxplot(\n",
    "        data=used_df,\n",
    "        x=\"resample\",\n",
    "        y=\"avg_score\",\n",
    "        hue=\"resample\",\n",
    "        legend=False,\n",
    "        palette=[\"#3498db\", \"#e67e22\"],\n",
    "    )\n",
    "\n",
    "    plt.title(\n",
    "        \"Boxplot Perbandingan Akurasi Oversampling\",\n",
    "        fontsize=14,\n",
    "        weight=\"bold\",\n",
    "        pad=20,\n",
    "    )\n",
    "    plt.xlabel(\"Sampling\", fontsize=12)\n",
    "    plt.ylabel(\"Akurasi\", fontsize=12)\n",
    "    plt.savefig(\n",
    "        \"chart/boxplot_oversampling_comparsion.png\", dpi=300, bbox_inches=\"tight\"\n",
    "    )\n",
    "    plt.show()\n",
    "\n",
    "\n",
    "get_boxplot_oversampling_comparison()"
   ]
  },
  {
   "cell_type": "markdown",
   "metadata": {},
   "source": [
    "### Best Model"
   ]
  },
  {
   "cell_type": "code",
   "execution_count": 40,
   "metadata": {},
   "outputs": [],
   "source": [
    "X_train, X_test, y_train, y_test = split_data(\n",
    "    X.to_numpy(), y.to_numpy(), test_size=0.2, random_state=42\n",
    ")"
   ]
  },
  {
   "cell_type": "code",
   "execution_count": 41,
   "metadata": {},
   "outputs": [],
   "source": [
    "tfidf = TFIDF()\n",
    "X_train_tfidf = tfidf.fit_transform(X_train)\n",
    "X_test_tfidf = tfidf.transform(X_test)"
   ]
  },
  {
   "cell_type": "code",
   "execution_count": 42,
   "metadata": {},
   "outputs": [
    {
     "data": {
      "text/plain": [
       "array([7.75555791, 0.8953996 , 0.72851147, ..., 0.88094793, 3.90949227,\n",
       "       3.49515915], shape=(3400,))"
      ]
     },
     "execution_count": 42,
     "metadata": {},
     "output_type": "execute_result"
    }
   ],
   "source": [
    "feature_score = chi_square(X_train_tfidf, y_train)\n",
    "feature_score"
   ]
  },
  {
   "cell_type": "code",
   "execution_count": 43,
   "metadata": {},
   "outputs": [
    {
     "data": {
      "text/plain": [
       "2720"
      ]
     },
     "execution_count": 43,
     "metadata": {},
     "output_type": "execute_result"
    }
   ],
   "source": [
    "n_pct_features = BEST_MODEL_CONFIG.get(\"n_pct_features\")\n",
    "n_features = int(n_pct_features * X_train_tfidf.shape[1])\n",
    "top_features = np.argsort(feature_score)[::-1][:n_features]\n",
    "n_features"
   ]
  },
  {
   "cell_type": "code",
   "execution_count": 44,
   "metadata": {},
   "outputs": [
    {
     "data": {
      "text/plain": [
       "Counter({'basa andap': 442,\n",
       "         'alus mider': 260,\n",
       "         'alus madia': 144,\n",
       "         'alus singgih': 140,\n",
       "         'alus sor': 57,\n",
       "         'basa kasar': 9})"
      ]
     },
     "execution_count": 44,
     "metadata": {},
     "output_type": "execute_result"
    }
   ],
   "source": [
    "mapped_labels = [idx_to_label.get(label, str(label)) for label in y_train]\n",
    "value_counts = Counter(mapped_labels)\n",
    "value_counts"
   ]
  },
  {
   "cell_type": "code",
   "execution_count": 45,
   "metadata": {},
   "outputs": [
    {
     "data": {
      "image/png": "[encoded data removed]",
      "text/plain": [
       "<Figure size 1000x600 with 1 Axes>"
      ]
     },
     "metadata": {},
     "output_type": "display_data"
    }
   ],
   "source": [
    "def get_training_data_distribution():\n",
    "    _, ax = plt.subplots(figsize=(10, 6))\n",
    "\n",
    "    mapped_labels = [idx_to_label.get(label, str(label)) for label in y_train]\n",
    "    value_counts = Counter(mapped_labels)\n",
    "    ordered_value_counts = Counter(\n",
    "        {key: value_counts[key] for key in label_to_idx.keys()}\n",
    "    )\n",
    "\n",
    "    unique_labels = list(ordered_value_counts.keys())\n",
    "    counts = list(ordered_value_counts.values())\n",
    "    ax.bar(unique_labels, counts)\n",
    "    ax.set_xticks(range(len(unique_labels)))\n",
    "    ax.set_xticklabels(unique_labels, fontsize=12, rotation=0)\n",
    "    ax.set_title(\"Distribusi Kelas Data Latih\", fontsize=16, fontweight=\"bold\", pad=20)\n",
    "    ax.set_xlabel(\"Tingkatan Bahasa\", fontsize=12)\n",
    "    ax.set_ylabel(\"Jumlah\", fontsize=12)\n",
    "\n",
    "    ax.set_ylim(0, max(counts) * 1.1)\n",
    "\n",
    "    total = sum(counts)\n",
    "    for p in ax.patches:\n",
    "        count = int(p.get_height())\n",
    "        percentage = (count / total) * 100\n",
    "        annotation = f\"{count} ({percentage:.1f}%)\"\n",
    "        ax.annotate(\n",
    "            annotation,\n",
    "            (p.get_x() + p.get_width() / 2.0, p.get_height()),\n",
    "            ha=\"center\",\n",
    "            va=\"baseline\",\n",
    "            fontsize=12,\n",
    "            color=\"black\",\n",
    "            xytext=(0, 5),\n",
    "            textcoords=\"offset points\",\n",
    "        )\n",
    "\n",
    "    ax.yaxis.grid(True, linestyle=\"--\", alpha=0.7)\n",
    "\n",
    "    plt.tight_layout()\n",
    "    plt.savefig(\"chart/train_data_distribution.png\", dpi=300, bbox_inches=\"tight\")\n",
    "    plt.show()\n",
    "\n",
    "\n",
    "get_training_data_distribution()"
   ]
  },
  {
   "cell_type": "code",
   "execution_count": 46,
   "metadata": {},
   "outputs": [],
   "source": [
    "resample = BEST_MODEL_CONFIG.get(\"resample\")\n",
    "if resample:\n",
    "    X_train_sampled, y_train_sampled = smote_resampling(X_train_tfidf, y_train)\n",
    "else:\n",
    "    X_train_sampled, y_train_sampled = X_train_tfidf, y_train"
   ]
  },
  {
   "cell_type": "code",
   "execution_count": 47,
   "metadata": {},
   "outputs": [
    {
     "data": {
      "text/plain": [
       "Counter({np.float64(2.0): 442,\n",
       "         np.float64(4.0): 442,\n",
       "         np.float64(1.0): 442,\n",
       "         np.float64(3.0): 442,\n",
       "         np.float64(0.0): 442,\n",
       "         np.float64(5.0): 442})"
      ]
     },
     "execution_count": 47,
     "metadata": {},
     "output_type": "execute_result"
    }
   ],
   "source": [
    "Counter(y_train_sampled)"
   ]
  },
  {
   "cell_type": "code",
   "execution_count": 48,
   "metadata": {},
   "outputs": [
    {
     "data": {
      "image/png": "[encoded data removed]",
      "text/plain": [
       "<Figure size 1000x600 with 1 Axes>"
      ]
     },
     "metadata": {},
     "output_type": "display_data"
    }
   ],
   "source": [
    "def get_training_data_distribution_resampled():\n",
    "    _, ax = plt.subplots(figsize=(10, 6))\n",
    "\n",
    "    mapped_labels = [idx_to_label.get(label, str(label)) for label in y_train_sampled]\n",
    "    value_counts = Counter(mapped_labels)\n",
    "    ordered_value_counts = Counter(\n",
    "        {key: value_counts[key] for key in label_to_idx.keys()}\n",
    "    )\n",
    "\n",
    "    unique_labels = list(ordered_value_counts.keys())\n",
    "    counts = list(ordered_value_counts.values())\n",
    "    ax.bar(unique_labels, counts)\n",
    "    ax.set_xticks(range(len(unique_labels)))\n",
    "    ax.set_xticklabels(unique_labels, fontsize=12, rotation=0)\n",
    "    ax.set_title(\n",
    "        \"Distribusi Kelas Data Latih Oversampling\",\n",
    "        fontsize=16,\n",
    "        fontweight=\"bold\",\n",
    "        pad=20,\n",
    "    )\n",
    "    ax.set_xlabel(\"Tingkatan Bahasa\", fontsize=12)\n",
    "    ax.set_ylabel(\"Jumlah\", fontsize=12)\n",
    "\n",
    "    ax.set_ylim(0, max(counts) * 1.1)\n",
    "\n",
    "    total = sum(counts)\n",
    "    for p in ax.patches:\n",
    "        count = int(p.get_height())\n",
    "        percentage = (count / total) * 100\n",
    "        annotation = f\"{count} ({percentage:.1f}%)\"\n",
    "        ax.annotate(\n",
    "            annotation,\n",
    "            (p.get_x() + p.get_width() / 2.0, p.get_height()),\n",
    "            ha=\"center\",\n",
    "            va=\"baseline\",\n",
    "            fontsize=12,\n",
    "            color=\"black\",\n",
    "            xytext=(0, 5),\n",
    "            textcoords=\"offset points\",\n",
    "        )\n",
    "\n",
    "    ax.yaxis.grid(True, linestyle=\"--\", alpha=0.7)\n",
    "    plt.tight_layout()\n",
    "    plt.savefig(\n",
    "        \"chart/resampled_train_data_distribution.png\", dpi=300, bbox_inches=\"tight\"\n",
    "    )\n",
    "    plt.show()\n",
    "\n",
    "\n",
    "if resample:\n",
    "    get_training_data_distribution_resampled()"
   ]
  },
  {
   "cell_type": "code",
   "execution_count": 49,
   "metadata": {},
   "outputs": [],
   "source": [
    "X_train_selected = X_train_sampled[:, top_features]\n",
    "X_test_selected = X_test_tfidf[:, top_features]"
   ]
  },
  {
   "cell_type": "code",
   "execution_count": 50,
   "metadata": {},
   "outputs": [],
   "source": [
    "mnb = MultinomialNB(alpha=BEST_MODEL_CONFIG.get(\"alpha\"))\n",
    "mnb.fit(X_train_selected, y_train_sampled)"
   ]
  },
  {
   "cell_type": "code",
   "execution_count": 51,
   "metadata": {},
   "outputs": [],
   "source": [
    "y_train_pred = mnb.predict(X_train_selected)\n",
    "train_report = classification_report(\n",
    "    y_train_sampled,\n",
    "    y_train_pred,\n",
    "    digits=4,\n",
    "    zero_division=0,\n",
    "    output_dict=True,\n",
    "    target_names=idx_to_label.values(),\n",
    ")"
   ]
  },
  {
   "cell_type": "code",
   "execution_count": 52,
   "metadata": {},
   "outputs": [
    {
     "name": "stdout",
     "output_type": "stream",
     "text": [
      "              precision    recall  f1-score   support\n",
      "\n",
      "alus singgih     0.9664    0.9751    0.9707       442\n",
      "    alus sor     0.9564    0.9932    0.9745       442\n",
      "  alus mider     0.9416    0.9118    0.9264       442\n",
      "  alus madia     0.9416    0.9842    0.9624       442\n",
      "  basa andap     0.9976    0.9276    0.9613       442\n",
      "  basa kasar     0.9910    1.0000    0.9955       442\n",
      "\n",
      "    accuracy                         0.9653      2652\n",
      "   macro avg     0.9658    0.9653    0.9651      2652\n",
      "weighted avg     0.9658    0.9653    0.9651      2652\n",
      "\n"
     ]
    }
   ],
   "source": [
    "print(\n",
    "    classification_report(\n",
    "        y_train_sampled,\n",
    "        y_train_pred,\n",
    "        digits=4,\n",
    "        zero_division=0,\n",
    "        target_names=idx_to_label.values(),\n",
    "    )\n",
    ")"
   ]
  },
  {
   "cell_type": "code",
   "execution_count": 53,
   "metadata": {},
   "outputs": [
    {
     "data": {
      "text/plain": [
       "<Figure size 1200x800 with 0 Axes>"
      ]
     },
     "metadata": {},
     "output_type": "display_data"
    },
    {
     "data": {
      "image/png": "[encoded data removed]",
      "text/plain": [
       "<Figure size 1200x800 with 1 Axes>"
      ]
     },
     "metadata": {},
     "output_type": "display_data"
    }
   ],
   "source": [
    "def get_train_report():\n",
    "    report_df = pd.DataFrame(train_report).transpose()\n",
    "\n",
    "    class_metrics = report_df.drop([\"accuracy\", \"macro avg\", \"weighted avg\"])\n",
    "\n",
    "    plt.figure(figsize=(12, 8))\n",
    "    class_metrics[[\"precision\", \"recall\", \"f1-score\"]].plot(\n",
    "        kind=\"bar\", figsize=(12, 8), edgecolor=\"black\"\n",
    "    )\n",
    "\n",
    "    plt.title(\"Metrik Precision, Recall, dan F1 Score untuk Data Latih\", fontsize=16)\n",
    "    plt.xlabel(\"Kelas\", fontsize=14)\n",
    "    plt.ylabel(\"Skor\", fontsize=14)\n",
    "    plt.xticks(\n",
    "        ticks=range(len(class_metrics)),\n",
    "        labels=class_metrics.index,\n",
    "        rotation=45,\n",
    "        fontsize=12,\n",
    "    )\n",
    "    plt.ylim(0.8, 1)\n",
    "    plt.legend(loc=\"lower right\", fontsize=12)\n",
    "    plt.grid(axis=\"y\", linestyle=\"--\", alpha=0.7)\n",
    "    plt.tight_layout()\n",
    "    plt.savefig(\"chart/train_report.png\", dpi=300, bbox_inches=\"tight\")\n",
    "    plt.show()\n",
    "\n",
    "\n",
    "get_train_report()"
   ]
  },
  {
   "cell_type": "code",
   "execution_count": 54,
   "metadata": {},
   "outputs": [
    {
     "data": {
      "image/png": "[encoded data removed]",
      "text/plain": [
       "<Figure size 1000x800 with 2 Axes>"
      ]
     },
     "metadata": {},
     "output_type": "display_data"
    }
   ],
   "source": [
    "def get_training_cm():\n",
    "    cm = confusion_matrix(y_train_sampled, y_train_pred)\n",
    "\n",
    "    labels = [idx_to_label[i] for i in range(len(idx_to_label))]\n",
    "\n",
    "    plt.figure(figsize=(10, 8))\n",
    "    sns.heatmap(\n",
    "        cm, annot=True, fmt=\"d\", cmap=\"Blues\", xticklabels=labels, yticklabels=labels\n",
    "    )\n",
    "    plt.title(\"Confusion Matrix Data Latih\")\n",
    "    plt.ylabel(\"Aktual\")\n",
    "    plt.xlabel(\"Prediksi\")\n",
    "    plt.xticks(rotation=45)\n",
    "    plt.yticks(rotation=0)\n",
    "    plt.savefig(\"chart/train_cm.png\", dpi=300, bbox_inches=\"tight\")\n",
    "    plt.show()\n",
    "\n",
    "\n",
    "get_training_cm()"
   ]
  },
  {
   "cell_type": "code",
   "execution_count": 55,
   "metadata": {},
   "outputs": [
    {
     "data": {
      "image/png": "[encoded data removed]",
      "text/plain": [
       "<Figure size 1000x600 with 1 Axes>"
      ]
     },
     "metadata": {},
     "output_type": "display_data"
    }
   ],
   "source": [
    "def get_test_data_distribution():\n",
    "    _, ax = plt.subplots(figsize=(10, 6))\n",
    "\n",
    "    mapped_labels = [idx_to_label.get(label, str(label)) for label in y_test]\n",
    "    value_counts = Counter(mapped_labels)\n",
    "\n",
    "    ordered_value_counts = Counter(\n",
    "        {key: value_counts[key] for key in label_to_idx.keys()}\n",
    "    )\n",
    "\n",
    "    unique_labels = list(ordered_value_counts.keys())\n",
    "    counts = list(ordered_value_counts.values())\n",
    "    ax.bar(unique_labels, counts)\n",
    "    ax.set_xticks(range(len(unique_labels)))\n",
    "    ax.set_xticklabels(unique_labels, fontsize=12, rotation=0)\n",
    "    ax.set_title(\"Distribusi Kelas Data Uji\", fontsize=16, fontweight=\"bold\", pad=20)\n",
    "    ax.set_xlabel(\"Tingkatan Bahasa\", fontsize=12)\n",
    "    ax.set_ylabel(\"Jumlah\", fontsize=12)\n",
    "\n",
    "    ax.set_ylim(0, max(counts) * 1.1)\n",
    "\n",
    "    total = sum(counts)\n",
    "    for p in ax.patches:\n",
    "        count = int(p.get_height())\n",
    "        percentage = (count / total) * 100\n",
    "        annotation = f\"{count} ({percentage:.1f}%)\"\n",
    "        ax.annotate(\n",
    "            annotation,\n",
    "            (p.get_x() + p.get_width() / 2.0, p.get_height()),\n",
    "            ha=\"center\",\n",
    "            va=\"baseline\",\n",
    "            fontsize=12,\n",
    "            color=\"black\",\n",
    "            xytext=(0, 5),\n",
    "            textcoords=\"offset points\",\n",
    "        )\n",
    "\n",
    "    ax.yaxis.grid(True, linestyle=\"--\", alpha=0.7)\n",
    "    plt.savefig(\"chart/test_data_distribution.png\", dpi=300, bbox_inches=\"tight\")\n",
    "    plt.tight_layout()\n",
    "    plt.show()\n",
    "\n",
    "\n",
    "get_test_data_distribution()"
   ]
  },
  {
   "cell_type": "code",
   "execution_count": 56,
   "metadata": {},
   "outputs": [],
   "source": [
    "y_test_pred = mnb.predict(X_test_selected)\n",
    "test_report = classification_report(\n",
    "    y_test,\n",
    "    y_test_pred,\n",
    "    digits=4,\n",
    "    zero_division=0,\n",
    "    target_names=idx_to_label.values(),\n",
    "    output_dict=True,\n",
    ")"
   ]
  },
  {
   "cell_type": "code",
   "execution_count": 57,
   "metadata": {},
   "outputs": [
    {
     "name": "stdout",
     "output_type": "stream",
     "text": [
      "              precision    recall  f1-score   support\n",
      "\n",
      "alus singgih     0.4118    0.4118    0.4118        34\n",
      "    alus sor     0.3103    0.6000    0.4091        15\n",
      "  alus mider     0.5968    0.5606    0.5781        66\n",
      "  alus madia     0.3696    0.4595    0.4096        37\n",
      "  basa andap     0.9432    0.7757    0.8513       107\n",
      "  basa kasar     0.3333    0.3333    0.3333         3\n",
      "\n",
      "    accuracy                         0.6145       262\n",
      "   macro avg     0.4942    0.5235    0.4989       262\n",
      "weighted avg     0.6627    0.6145    0.6318       262\n",
      "\n"
     ]
    }
   ],
   "source": [
    "print(\n",
    "    classification_report(\n",
    "        y_test,\n",
    "        y_test_pred,\n",
    "        digits=4,\n",
    "        zero_division=0,\n",
    "        target_names=idx_to_label.values(),\n",
    "    )\n",
    ")"
   ]
  },
  {
   "cell_type": "code",
   "execution_count": 58,
   "metadata": {},
   "outputs": [
    {
     "data": {
      "text/plain": [
       "<Figure size 1200x800 with 0 Axes>"
      ]
     },
     "metadata": {},
     "output_type": "display_data"
    },
    {
     "data": {
      "image/png": "[encoded data removed]",
      "text/plain": [
       "<Figure size 1200x800 with 1 Axes>"
      ]
     },
     "metadata": {},
     "output_type": "display_data"
    }
   ],
   "source": [
    "def get_test_report():\n",
    "    report_df = pd.DataFrame(test_report).transpose()\n",
    "\n",
    "    class_metrics = report_df.drop([\"accuracy\", \"macro avg\", \"weighted avg\"])\n",
    "\n",
    "    plt.figure(figsize=(12, 8))\n",
    "    class_metrics[[\"precision\", \"recall\", \"f1-score\"]].plot(\n",
    "        kind=\"bar\", figsize=(12, 8), edgecolor=\"black\"\n",
    "    )\n",
    "\n",
    "    plt.title(\"Metrik Precision, Recall, dan F1 Score untuk Data Uji\", fontsize=16)\n",
    "    plt.xlabel(\"Kelas\", fontsize=14)\n",
    "    plt.ylabel(\"Skor\", fontsize=14)\n",
    "    plt.xticks(\n",
    "        ticks=range(len(class_metrics)),\n",
    "        labels=class_metrics.index,\n",
    "        rotation=45,\n",
    "        fontsize=12,\n",
    "    )\n",
    "    plt.ylim(0, 1)\n",
    "    plt.legend(loc=\"lower right\", fontsize=12)\n",
    "    plt.grid(axis=\"y\", linestyle=\"--\", alpha=0.7)\n",
    "    plt.tight_layout()\n",
    "    plt.savefig(\"chart/test_report.png\", dpi=300, bbox_inches=\"tight\")\n",
    "    plt.show()\n",
    "\n",
    "\n",
    "get_test_report()"
   ]
  },
  {
   "cell_type": "code",
   "execution_count": 59,
   "metadata": {},
   "outputs": [
    {
     "data": {
      "text/plain": [
       "0.6145038167938931"
      ]
     },
     "execution_count": 59,
     "metadata": {},
     "output_type": "execute_result"
    }
   ],
   "source": [
    "accuracy_score(y_test, y_test_pred)"
   ]
  },
  {
   "cell_type": "code",
   "execution_count": 60,
   "metadata": {},
   "outputs": [
    {
     "data": {
      "image/png": "[encoded data removed]",
      "text/plain": [
       "<Figure size 1000x800 with 2 Axes>"
      ]
     },
     "metadata": {},
     "output_type": "display_data"
    }
   ],
   "source": [
    "def get_test_cm():\n",
    "    cm = confusion_matrix(y_test, y_test_pred)\n",
    "\n",
    "    labels = [idx_to_label[i] for i in range(len(idx_to_label))]\n",
    "\n",
    "    plt.figure(figsize=(10, 8))\n",
    "    sns.heatmap(\n",
    "        cm, annot=True, fmt=\"d\", cmap=\"Blues\", xticklabels=labels, yticklabels=labels\n",
    "    )\n",
    "    plt.title(\"Confusion Matrix Data Uji\")\n",
    "    plt.ylabel(\"Aktual\")\n",
    "    plt.xlabel(\"Prediksi\")\n",
    "    plt.xticks(rotation=45)\n",
    "    plt.yticks(rotation=0)\n",
    "    plt.savefig(\"chart/test_cm.png\", dpi=300, bbox_inches=\"tight\")\n",
    "    plt.show()\n",
    "\n",
    "\n",
    "get_test_cm()"
   ]
  },
  {
   "cell_type": "markdown",
   "metadata": {},
   "source": [
    "## Inference"
   ]
  },
  {
   "cell_type": "code",
   "execution_count": 61,
   "metadata": {},
   "outputs": [],
   "source": [
    "pipeline = Pipeline(mnb, tfidf, top_features)"
   ]
  },
  {
   "cell_type": "code",
   "execution_count": 62,
   "metadata": {},
   "outputs": [
    {
     "data": {
      "text/plain": [
       "'basa andap'"
      ]
     },
     "execution_count": 62,
     "metadata": {},
     "output_type": "execute_result"
    }
   ],
   "source": [
    "text = \"mai be medaar malu\"\n",
    "text = stemmer.stem(text, correct_spelling=False)\n",
    "idx_to_label[pipeline.predict(text)]"
   ]
  },
  {
   "cell_type": "code",
   "execution_count": 63,
   "metadata": {},
   "outputs": [
    {
     "data": {
      "text/plain": [
       "array([[0.01839112, 0.01441278, 0.01850331, 0.01884051, 0.90807159,\n",
       "        0.02178068]])"
      ]
     },
     "execution_count": 63,
     "metadata": {},
     "output_type": "execute_result"
    }
   ],
   "source": [
    "pipeline.predict_proba(text)"
   ]
  },
  {
   "cell_type": "code",
   "execution_count": 64,
   "metadata": {},
   "outputs": [],
   "source": [
    "pipeline.save(\"model/pipeline.joblib\")"
   ]
  },
  {
   "cell_type": "code",
   "execution_count": 65,
   "metadata": {},
   "outputs": [],
   "source": [
    "loaded_pipeline = joblib.load(\"model/pipeline.joblib\")"
   ]
  },
  {
   "cell_type": "code",
   "execution_count": 66,
   "metadata": {},
   "outputs": [
    {
     "data": {
      "text/plain": [
       "'basa kasar'"
      ]
     },
     "execution_count": 66,
     "metadata": {},
     "output_type": "execute_result"
    }
   ],
   "source": [
    "text = \"jeleme cicing sing ade ape\"\n",
    "text = stemmer.stem(text, correct_spelling=False)\n",
    "idx_to_label[loaded_pipeline.predict(text)]"
   ]
  },
  {
   "cell_type": "code",
   "execution_count": 67,
   "metadata": {},
   "outputs": [
    {
     "data": {
      "text/plain": [
       "array([[0.00169126, 0.00128047, 0.00170304, 0.00277511, 0.07210717,\n",
       "        0.92044295]])"
      ]
     },
     "execution_count": 67,
     "metadata": {},
     "output_type": "execute_result"
    }
   ],
   "source": [
    "loaded_pipeline.predict_proba(text)"
   ]
  }
 ],
 "metadata": {
  "kernelspec": {
   "display_name": ".venv",
   "language": "python",
   "name": "python3"
  },
  "language_info": {
   "codemirror_mode": {
    "name": "ipython",
    "version": 3
   },
   "file_extension": ".py",
   "mimetype": "text/x-python",
   "name": "python",
   "nbconvert_exporter": "python",
   "pygments_lexer": "ipython3",
   "version": "3.10.12"
  }
 },
 "nbformat": 4,
 "nbformat_minor": 2
}
